{
 "cells": [
  {
   "cell_type": "code",
   "execution_count": 5,
   "id": "fe9d9ae6-3efb-4d7b-8d42-b5a7f5215439",
   "metadata": {},
   "outputs": [
    {
     "name": "stdout",
     "output_type": "stream",
     "text": [
      "Hello World\n"
     ]
    }
   ],
   "source": [
    "print(\"Hello World\")"
   ]
  },
  {
   "cell_type": "markdown",
   "id": "61a5c5b3-c59a-4a76-b4fd-f54bc3e9ad71",
   "metadata": {},
   "source": [
    "ilk python kodumu yazdım"
   ]
  },
  {
   "cell_type": "markdown",
   "id": "dcaf5506-8287-4d2a-882b-0469eedd6700",
   "metadata": {},
   "source": [
    "## İlk Programım"
   ]
  },
  {
   "cell_type": "markdown",
   "id": "2b1b3a7f-7c13-45e5-90cb-2d3a1916cc77",
   "metadata": {},
   "source": [
    "python'da **değişkenleri** tanıyalım"
   ]
  },
  {
   "cell_type": "code",
   "execution_count": null,
   "id": "348e2d2c-f137-49a9-822f-d8c419bc0952",
   "metadata": {},
   "outputs": [],
   "source": []
  },
  {
   "cell_type": "code",
   "execution_count": null,
   "id": "212e7652-227a-4991-9143-b8fa970a2203",
   "metadata": {},
   "outputs": [],
   "source": []
  },
  {
   "cell_type": "code",
   "execution_count": 6,
   "id": "cf27a757-cfc3-488f-9707-c4d8115b6ca2",
   "metadata": {},
   "outputs": [
    {
     "name": "stdout",
     "output_type": "stream",
     "text": [
      "a\n"
     ]
    }
   ],
   "source": [
    "print(\"a\")"
   ]
  },
  {
   "cell_type": "code",
   "execution_count": 7,
   "id": "93007bc3-2cda-4c7c-bfa0-1bb9ecf83bd2",
   "metadata": {},
   "outputs": [
    {
     "name": "stdout",
     "output_type": "stream",
     "text": [
      "b\n"
     ]
    }
   ],
   "source": [
    "print(\"b\")"
   ]
  }
 ],
 "metadata": {
  "kernelspec": {
   "display_name": "Python 3 (ipykernel)",
   "language": "python",
   "name": "python3"
  },
  "language_info": {
   "codemirror_mode": {
    "name": "ipython",
    "version": 3
   },
   "file_extension": ".py",
   "mimetype": "text/x-python",
   "name": "python",
   "nbconvert_exporter": "python",
   "pygments_lexer": "ipython3",
   "version": "3.11.9"
  }
 },
 "nbformat": 4,
 "nbformat_minor": 5
}
