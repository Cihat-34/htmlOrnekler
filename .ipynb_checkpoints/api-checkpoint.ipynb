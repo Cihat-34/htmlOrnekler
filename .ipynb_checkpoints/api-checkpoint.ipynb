{
 "cells": [
  {
   "cell_type": "code",
   "execution_count": 2,
   "id": "b443c584-3e04-4f09-bb2f-9d2789534af2",
   "metadata": {
    "tags": []
   },
   "outputs": [],
   "source": [
    "import requests"
   ]
  },
  {
   "cell_type": "code",
   "execution_count": 4,
   "id": "7de3aa50-2332-471d-8c85-f40adf42c330",
   "metadata": {
    "tags": []
   },
   "outputs": [],
   "source": [
    "#https://api.openweathermap.org/data/3.0/onecall?lat={lat}&lon={lon}&exclude={part}&appid={API key}"
   ]
  },
  {
   "cell_type": "code",
   "execution_count": 6,
   "id": "955380d5-cf88-469f-9d8d-0c455b1da040",
   "metadata": {
    "tags": []
   },
   "outputs": [],
   "source": [
    "#2a3e6463762a5deeff97af482a1e46eb"
   ]
  },
  {
   "cell_type": "code",
   "execution_count": 8,
   "id": "bdd2f3eb-2f54-4723-873d-03ea9fc6edf7",
   "metadata": {
    "tags": []
   },
   "outputs": [],
   "source": [
    "api_key = \"2a3e6463762a5deeff97af482a1e46eb\"\n",
    "\n",
    "city = \"Istanbul\"\n",
    "\n",
    "country = \"TR\"\n",
    "\n",
    "\n",
    "url = f\"https://api.openweathermap.org/data/2.5/weather?q={city},{country}&appid={api_key}&units=metric\""
   ]
  },
  {
   "cell_type": "code",
   "execution_count": 10,
   "id": "c2fe34f2-3bc6-431c-aa85-50929ffe939f",
   "metadata": {
    "tags": []
   },
   "outputs": [
    {
     "name": "stdout",
     "output_type": "stream",
     "text": [
      "{\"coord\":{\"lon\":28.9833,\"lat\":41.0351},\"weather\":[{\"id\":800,\"main\":\"Clear\",\"description\":\"clear sky\",\"icon\":\"01n\"}],\"base\":\"stations\",\"main\":{\"temp\":26.01,\"feels_like\":26.01,\"temp_min\":24.09,\"temp_max\":26.24,\"pressure\":1014,\"humidity\":48,\"sea_level\":1014,\"grnd_level\":1006},\"visibility\":10000,\"wind\":{\"speed\":6.69,\"deg\":50},\"clouds\":{\"all\":0},\"dt\":1725640624,\"sys\":{\"type\":2,\"id\":2092591,\"country\":\"TR\",\"sunrise\":1725593761,\"sunset\":1725640146},\"timezone\":10800,\"id\":745042,\"name\":\"Istanbul\",\"cod\":200}\n"
     ]
    }
   ],
   "source": [
    "response = requests.get(url)\n",
    "\n",
    "print(response.text)"
   ]
  },
  {
   "cell_type": "code",
   "execution_count": 12,
   "id": "36be7870-f853-45c5-947f-78be4cf51024",
   "metadata": {
    "tags": []
   },
   "outputs": [
    {
     "name": "stdout",
     "output_type": "stream",
     "text": [
      "{'coord': {'lon': 28.9833, 'lat': 41.0351}, 'weather': [{'id': 800, 'main': 'Clear', 'description': 'clear sky', 'icon': '01n'}], 'base': 'stations', 'main': {'temp': 26.01, 'feels_like': 26.01, 'temp_min': 24.09, 'temp_max': 26.24, 'pressure': 1014, 'humidity': 48, 'sea_level': 1014, 'grnd_level': 1006}, 'visibility': 10000, 'wind': {'speed': 6.69, 'deg': 50}, 'clouds': {'all': 0}, 'dt': 1725640624, 'sys': {'type': 2, 'id': 2092591, 'country': 'TR', 'sunrise': 1725593761, 'sunset': 1725640146}, 'timezone': 10800, 'id': 745042, 'name': 'Istanbul', 'cod': 200}\n"
     ]
    }
   ],
   "source": [
    "veri = response.json()\n",
    "\n",
    "print(veri)"
   ]
  },
  {
   "cell_type": "code",
   "execution_count": null,
   "id": "6f89375b-94a7-4294-af79-aa8e767bc914",
   "metadata": {},
   "outputs": [],
   "source": []
  }
 ],
 "metadata": {
  "kernelspec": {
   "display_name": "Python 3 (ipykernel)",
   "language": "python",
   "name": "python3"
  },
  "language_info": {
   "codemirror_mode": {
    "name": "ipython",
    "version": 3
   },
   "file_extension": ".py",
   "mimetype": "text/x-python",
   "name": "python",
   "nbconvert_exporter": "python",
   "pygments_lexer": "ipython3",
   "version": "3.11.7"
  }
 },
 "nbformat": 4,
 "nbformat_minor": 5
}
