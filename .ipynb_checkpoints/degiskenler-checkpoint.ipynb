{
 "cells": [
  {
   "cell_type": "markdown",
   "id": "0af79442-0b42-44c4-ac3d-5a6bc2def20f",
   "metadata": {},
   "source": [
    "## Değişkenler"
   ]
  },
  {
   "cell_type": "markdown",
   "id": "0c216a17-9e81-4995-a3f7-52a0a541d585",
   "metadata": {},
   "source": [
    "**Değişken** bir **değere** atıfta bulunan bir isimdir.<br>\n",
    "Bilgisayarın hafızasında o değere ait adresin ismidir.<br>\n",
    "**Atama** işlemi yeni bir değişken yaratır ve ona bir değer atar."
   ]
  },
  {
   "cell_type": "code",
   "execution_count": 22,
   "id": "d673231a-8713-4f19-86ff-0e4afced4508",
   "metadata": {},
   "outputs": [],
   "source": [
    "sayi = 5"
   ]
  },
  {
   "cell_type": "code",
   "execution_count": 23,
   "id": "73d47d2a-309a-4cb4-9ab5-35721ee5ed98",
   "metadata": {},
   "outputs": [
    {
     "name": "stdout",
     "output_type": "stream",
     "text": [
      "5\n"
     ]
    }
   ],
   "source": [
    "print (sayi)"
   ]
  },
  {
   "cell_type": "code",
   "execution_count": 24,
   "id": "826c3c18-b4b2-4d97-b10c-cfdd37a22d4e",
   "metadata": {},
   "outputs": [],
   "source": [
    "harf = \"Cihat\""
   ]
  },
  {
   "cell_type": "code",
   "execution_count": 25,
   "id": "534428c9-e701-4f78-b69c-4224d563bb07",
   "metadata": {},
   "outputs": [
    {
     "name": "stdout",
     "output_type": "stream",
     "text": [
      "Cihat\n"
     ]
    }
   ],
   "source": [
    "print (harf)"
   ]
  },
  {
   "cell_type": "code",
   "execution_count": 26,
   "id": "c5a60e32-3244-4e53-9b52-7ba29c4a32af",
   "metadata": {},
   "outputs": [],
   "source": [
    "sayi = 7"
   ]
  },
  {
   "cell_type": "code",
   "execution_count": 27,
   "id": "0133a2f8-7fcb-4afe-9781-dbe367003f8d",
   "metadata": {},
   "outputs": [
    {
     "name": "stdout",
     "output_type": "stream",
     "text": [
      "7\n"
     ]
    }
   ],
   "source": [
    "print(sayi)"
   ]
  },
  {
   "cell_type": "code",
   "execution_count": 28,
   "id": "456b9e76-80e4-4246-9f69-3bbb15d79828",
   "metadata": {},
   "outputs": [],
   "source": [
    "Sayi = 9"
   ]
  },
  {
   "cell_type": "code",
   "execution_count": 29,
   "id": "3f12c71f-6750-4ede-a3c5-b53af5f438ba",
   "metadata": {},
   "outputs": [
    {
     "name": "stdout",
     "output_type": "stream",
     "text": [
      "9\n"
     ]
    }
   ],
   "source": [
    "print(Sayi)"
   ]
  },
  {
   "cell_type": "markdown",
   "id": "d78ac4c0-663d-49cf-8989-9f3e9ab0a213",
   "metadata": {},
   "source": [
    "**Python'da Değişken İsimleri**\n",
    "* Seçtiğimiz değişkenin anlamlı olması gerekir.<br>\n",
    "* Genelde sanke_case isimlendirme kullanılır.\n",
    "sesli_harfler<br>\n",
    "* Değişken isimlerimiz:\n",
    "    * sayı ile başlamaz (1sayi, 2.deger)<br>\n",
    "    * Boşluk karakteri kullanılmaz.<br>\n",
    "    * Özel karakter içermez. (@,!,?)<br>\n",
    "    * Keyword(anahtar kelime) içermez.(if,for)"
   ]
  },
  {
   "cell_type": "code",
   "execution_count": 30,
   "id": "4b798659-ffb6-434d-98e9-5477b581677c",
   "metadata": {},
   "outputs": [],
   "source": [
    "sayi_1 = 7\n",
    "sayi_2 = 14\n",
    "\n",
    "sonuc = sayi_1 + sayi_2"
   ]
  },
  {
   "cell_type": "code",
   "execution_count": 31,
   "id": "69d95122-c4e8-4a88-aeb9-bb0d1a402ea2",
   "metadata": {},
   "outputs": [
    {
     "data": {
      "text/plain": [
       "21"
      ]
     },
     "execution_count": 31,
     "metadata": {},
     "output_type": "execute_result"
    }
   ],
   "source": [
    "sayi_1 + sayi_2"
   ]
  },
  {
   "cell_type": "code",
   "execution_count": 32,
   "id": "5357f0a7-3bc1-4eeb-85d2-33271d0cada4",
   "metadata": {},
   "outputs": [
    {
     "name": "stdout",
     "output_type": "stream",
     "text": [
      "21\n"
     ]
    }
   ],
   "source": [
    "print (sonuc)"
   ]
  },
  {
   "cell_type": "code",
   "execution_count": null,
   "id": "ba877275-4467-4685-9269-85e2c49de806",
   "metadata": {},
   "outputs": [],
   "source": []
  }
 ],
 "metadata": {
  "kernelspec": {
   "display_name": "Python 3 (ipykernel)",
   "language": "python",
   "name": "python3"
  },
  "language_info": {
   "codemirror_mode": {
    "name": "ipython",
    "version": 3
   },
   "file_extension": ".py",
   "mimetype": "text/x-python",
   "name": "python",
   "nbconvert_exporter": "python",
   "pygments_lexer": "ipython3",
   "version": "3.11.9"
  }
 },
 "nbformat": 4,
 "nbformat_minor": 5
}
