{
 "cells": [
  {
   "cell_type": "code",
   "execution_count": 3,
   "id": "6c818ecb-7754-493e-820f-608a212de002",
   "metadata": {
    "tags": []
   },
   "outputs": [],
   "source": [
    "import pandas as pd"
   ]
  },
  {
   "cell_type": "code",
   "execution_count": null,
   "id": "9337a6bd-0bcd-43ea-9222-63828f92661f",
   "metadata": {},
   "outputs": [],
   "source": [
    "Label_List =[1,2,3,4,5]\n",
    "Pd_er"
   ]
  },
  {
   "cell_type": "code",
   "execution_count": null,
   "id": "8e96fbc4-3659-4217-944d-8b21fe29371e",
   "metadata": {},
   "outputs": [],
   "source": []
  },
  {
   "cell_type": "code",
   "execution_count": null,
   "id": "fba0b362-687e-45a0-b1ff-6ee5f873e852",
   "metadata": {},
   "outputs": [],
   "source": []
  }
 ],
 "metadata": {
  "kernelspec": {
   "display_name": "Python 3 (ipykernel)",
   "language": "python",
   "name": "python3"
  },
  "language_info": {
   "codemirror_mode": {
    "name": "ipython",
    "version": 3
   },
   "file_extension": ".py",
   "mimetype": "text/x-python",
   "name": "python",
   "nbconvert_exporter": "python",
   "pygments_lexer": "ipython3",
   "version": "3.11.7"
  }
 },
 "nbformat": 4,
 "nbformat_minor": 5
}
