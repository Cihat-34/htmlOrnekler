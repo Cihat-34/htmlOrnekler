{
 "cells": [
  {
   "cell_type": "markdown",
   "id": "e0361036-6414-4cb4-a4c0-1deba14ad000",
   "metadata": {},
   "source": [
    "## Fonksiyonlar"
   ]
  },
  {
   "cell_type": "markdown",
   "id": "ba99fe99-9858-4c86-9bed-ee6490fd1090",
   "metadata": {},
   "source": [
    "Fonksiyon, belli bir işlevi yerine getirmek için yazılmış özel kod parçalarıdır.\n",
    "\n",
    "Fonksiyon, çağrıldığı zaman çalışır.\n",
    "\n",
    "Fonksiyona isteğe göre parametre geçilebilir.\n",
    "\n",
    "Fonksiyon isteğe göre değer dönebilir (return)\n",
    "\n",
    "Fonksiyon çağırma: fonksiyon_adi()\n",
    "\n",
    "Prametre ile çağıracaksak:\n",
    "\n",
    "fonksiyon_adi(parametre_1,parametre_2)\n",
    "\n",
    "Fonksiyonlar tekrar tekrar kullanılabilir böylece kod tekrarını önler"
   ]
  },
  {
   "cell_type": "code",
   "execution_count": 1,
   "id": "f8c3c101-16e6-4dee-9921-19636f5e0398",
   "metadata": {},
   "outputs": [
    {
     "data": {
      "text/plain": [
       "int"
      ]
     },
     "execution_count": 1,
     "metadata": {},
     "output_type": "execute_result"
    }
   ],
   "source": [
    "type(2)"
   ]
  },
  {
   "cell_type": "code",
   "execution_count": 2,
   "id": "3a0eb483-9506-41c1-8a9d-f580550a7a81",
   "metadata": {},
   "outputs": [
    {
     "data": {
      "text/plain": [
       "str"
      ]
     },
     "execution_count": 2,
     "metadata": {},
     "output_type": "execute_result"
    }
   ],
   "source": [
    "type('A')"
   ]
  },
  {
   "cell_type": "code",
   "execution_count": 3,
   "id": "22173da3-ab01-438c-978e-604636ee7a5b",
   "metadata": {},
   "outputs": [
    {
     "data": {
      "text/plain": [
       "5"
      ]
     },
     "execution_count": 3,
     "metadata": {},
     "output_type": "execute_result"
    }
   ],
   "source": [
    "int(5.78)"
   ]
  },
  {
   "cell_type": "markdown",
   "id": "9301f1a5-6301-46e4-8f5c-1e6bc8a973b0",
   "metadata": {},
   "source": [
    "Modül: birbiriyle ilgili fonksiyonları ve dosyları bir arada tutan dosya kümesidir."
   ]
  },
  {
   "cell_type": "code",
   "execution_count": 4,
   "id": "47244292-af1a-4b94-bd99-09290cd925dc",
   "metadata": {},
   "outputs": [],
   "source": [
    "import math"
   ]
  },
  {
   "cell_type": "code",
   "execution_count": 5,
   "id": "66137838-2700-4adc-9fe9-b2fccb682fd8",
   "metadata": {},
   "outputs": [
    {
     "data": {
      "text/plain": [
       "3.141592653589793"
      ]
     },
     "execution_count": 5,
     "metadata": {},
     "output_type": "execute_result"
    }
   ],
   "source": [
    "# math modülünde foksiyon . ile çağrılır\n",
    "math.pi"
   ]
  },
  {
   "cell_type": "code",
   "execution_count": 6,
   "id": "e0757f72-e48c-4ffb-a769-5ffb412177da",
   "metadata": {},
   "outputs": [
    {
     "name": "stdout",
     "output_type": "stream",
     "text": [
      "62.83185307179586\n"
     ]
    }
   ],
   "source": [
    "# Örnek yarı çapı 10 olan bir çemberin çevresi ne kadar?\n",
    "# ÇEVRE = 2 *pi *r\n",
    "\n",
    "r = 10\n",
    "cevre = 2 * math.pi * r\n",
    "print(cevre)"
   ]
  },
  {
   "cell_type": "code",
   "execution_count": 7,
   "id": "aa06878e-ce62-4dc0-a54c-dd71ebfe7921",
   "metadata": {},
   "outputs": [
    {
     "name": "stdout",
     "output_type": "stream",
     "text": [
      "0.5235987755982988\n"
     ]
    }
   ],
   "source": [
    "# 30 derecenin sinüsünü hesaplayalım.\n",
    "\n",
    "derece = 30\n",
    "# radyan hesaplama\n",
    "\n",
    "radyan = math.radians(derece)\n",
    "print(radyan)"
   ]
  },
  {
   "cell_type": "code",
   "execution_count": 8,
   "id": "730e483f-f67c-4bf2-8706-fb8ea2b5548d",
   "metadata": {},
   "outputs": [
    {
     "name": "stdout",
     "output_type": "stream",
     "text": [
      "Help on built-in function sin in module math:\n",
      "\n",
      "sin(x, /)\n",
      "    Return the sine of x (measured in radians).\n",
      "\n"
     ]
    }
   ],
   "source": [
    "help(math.sin)"
   ]
  },
  {
   "cell_type": "code",
   "execution_count": 9,
   "id": "fc6c39c5-e744-4dd9-b747-0d269fe81440",
   "metadata": {},
   "outputs": [
    {
     "name": "stdout",
     "output_type": "stream",
     "text": [
      "-0.9880316240928618\n"
     ]
    }
   ],
   "source": [
    "# yanlış kullanım \n",
    "sinus = math.sin(derece)\n",
    "print(sinus)"
   ]
  },
  {
   "cell_type": "code",
   "execution_count": 10,
   "id": "5f45200d-cfcb-4a15-8c19-46f89b8dbf75",
   "metadata": {},
   "outputs": [
    {
     "name": "stdout",
     "output_type": "stream",
     "text": [
      "0.49999999999999994\n"
     ]
    }
   ],
   "source": [
    "# doğru kullanım\n",
    "sinus = math.sin(radyan)\n",
    "print(sinus)"
   ]
  },
  {
   "cell_type": "markdown",
   "id": "eca2de55-c5f4-48cf-8839-d96052f168d3",
   "metadata": {},
   "source": [
    "**Fonksiyonların Birleşimi**"
   ]
  },
  {
   "cell_type": "code",
   "execution_count": 11,
   "id": "f6198009-4f60-4cc9-95bc-1ed1c2c70a08",
   "metadata": {},
   "outputs": [
    {
     "name": "stdout",
     "output_type": "stream",
     "text": [
      "0.49999999999999994\n"
     ]
    }
   ],
   "source": [
    "derece = 30\n",
    "sinus = math.sin(math.radians(derece))\n",
    "print(sinus)"
   ]
  },
  {
   "cell_type": "markdown",
   "id": "6119bae5-9cb7-4fb9-947e-ae42afd2c894",
   "metadata": {},
   "source": [
    "**Fonksiyon Tanımlama**"
   ]
  },
  {
   "cell_type": "code",
   "execution_count": 12,
   "id": "159d35f4-2dcb-45aa-9707-52cf5377f727",
   "metadata": {},
   "outputs": [],
   "source": [
    "# Parametresiz fonksiyon tanımlamak\n",
    "def fonksiyon_adi():\n",
    "    print(\"İlk Fonksiyon\")"
   ]
  },
  {
   "cell_type": "code",
   "execution_count": 13,
   "id": "7d1ae50b-189b-4c6e-8065-7480a5f514d2",
   "metadata": {},
   "outputs": [
    {
     "name": "stdout",
     "output_type": "stream",
     "text": [
      "İlk Fonksiyon\n"
     ]
    }
   ],
   "source": [
    "fonksiyon_adi()"
   ]
  },
  {
   "cell_type": "code",
   "execution_count": 14,
   "id": "eefc0deb-525c-4244-96d8-97c3cc589576",
   "metadata": {},
   "outputs": [],
   "source": [
    "def ogrenci_adi():\n",
    "    print(\"Adı: John Doe\")"
   ]
  },
  {
   "cell_type": "code",
   "execution_count": 15,
   "id": "e4a3a1ac-f1e9-4a31-ae05-653037383767",
   "metadata": {},
   "outputs": [
    {
     "name": "stdout",
     "output_type": "stream",
     "text": [
      "Adı: John Doe\n"
     ]
    }
   ],
   "source": [
    "ogrenci_adi()"
   ]
  },
  {
   "cell_type": "code",
   "execution_count": 16,
   "id": "3fec7063-3e9e-46be-bc4b-020146171761",
   "metadata": {},
   "outputs": [],
   "source": [
    "def ogrenci_yasi():\n",
    "    print(\"Yaşı: 24\")"
   ]
  },
  {
   "cell_type": "code",
   "execution_count": 17,
   "id": "d83bc0d2-03dd-47f9-9993-435382aad1d0",
   "metadata": {},
   "outputs": [
    {
     "name": "stdout",
     "output_type": "stream",
     "text": [
      "Yaşı: 24\n"
     ]
    }
   ],
   "source": [
    "ogrenci_yasi()"
   ]
  },
  {
   "cell_type": "code",
   "execution_count": 18,
   "id": "2c27c713-ad5d-4717-a005-aa33de5c2fa6",
   "metadata": {},
   "outputs": [],
   "source": [
    "# Öğreci bilgilerini yazan bir fonksin yazalım\n",
    "def ogrenci_bilgileri():\n",
    "    ogrenci_adi()\n",
    "    ogrenci_yasi()"
   ]
  },
  {
   "cell_type": "code",
   "execution_count": 19,
   "id": "1e912f36-8d8c-4d1b-8139-7c26a4e6dd3d",
   "metadata": {},
   "outputs": [
    {
     "name": "stdout",
     "output_type": "stream",
     "text": [
      "Adı: John Doe\n",
      "Yaşı: 24\n"
     ]
    }
   ],
   "source": [
    "ogrenci_bilgileri()"
   ]
  },
  {
   "cell_type": "code",
   "execution_count": 24,
   "id": "af953234-9efd-4178-a9ba-ffff59d3f16a",
   "metadata": {},
   "outputs": [],
   "source": [
    "# adını ve soyadını ayrı fonksiyonlarda tutalım\n",
    "\n",
    "def ogrenci_ilk_adi():\n",
    "    print(\"Adı: Peter\")\n",
    "def ogrenci_soyadi():\n",
    "    print(\"Soyadı: Parker\")"
   ]
  },
  {
   "cell_type": "code",
   "execution_count": 25,
   "id": "fe7991f5-c875-4b7a-be0b-6d5e1608f82f",
   "metadata": {},
   "outputs": [],
   "source": [
    "def ogrenci_adi():\n",
    "    ogrenci_ilk_adi()\n",
    "    ogrenci_soyadi()"
   ]
  },
  {
   "cell_type": "code",
   "execution_count": 26,
   "id": "aad37b9c-1197-49f1-9135-4996ef3c5b96",
   "metadata": {},
   "outputs": [
    {
     "name": "stdout",
     "output_type": "stream",
     "text": [
      "Adı: Peter\n",
      "Soyadı: Parker\n",
      "Yaşı: 24\n"
     ]
    }
   ],
   "source": [
    "ogrenci_bilgileri()"
   ]
  },
  {
   "cell_type": "markdown",
   "id": "bcf6011f-1af9-4e89-af71-008b28600604",
   "metadata": {},
   "source": [
    "**İşleme Sırası**\n",
    "\n",
    "Python kodu ilk satırdan itibaren çalıştırmaya başlar ve aşağı doğru iner.\n",
    "\n",
    "Eğer bir fonksiyon çağrılmasına denk gelirse\n",
    "\n",
    "Önce gidip o fonksiyonu çalıştırır bitmesini bekler geri döner.\n",
    "\n",
    "Kaldığı yerden aşağı doğru çalışmaya devam eder."
   ]
  },
  {
   "cell_type": "markdown",
   "id": "e3b16e04-c459-43f2-818b-7238ced3e132",
   "metadata": {},
   "source": [
    "**Parametreler**"
   ]
  },
  {
   "cell_type": "markdown",
   "id": "ca4fcb0a-371b-4328-b19c-06f6b13bfb7c",
   "metadata": {},
   "source": [
    "Çoğu zaman fonksiyonlar parametrelere ihtiyaç duyar.\n",
    "\n",
    "Parametre, fonksiyonun çalışması için kendisine iletilen girdilerdir.\n",
    "\n",
    "Parametreler fonksiyon çağrılırken iletilir."
   ]
  },
  {
   "cell_type": "code",
   "execution_count": 27,
   "id": "e44a50fa-5e38-4115-87a7-6b54ab74fdce",
   "metadata": {},
   "outputs": [],
   "source": [
    "# Kendisine iletilen sayının karesini alan bir fonksiyon yazalım.\n",
    "\n",
    "def karesini_al(sayi):\n",
    "    karesi = sayi**2\n",
    "    print(karesi)"
   ]
  },
  {
   "cell_type": "code",
   "execution_count": 28,
   "id": "7054dbf7-d077-4414-a6fe-6dfcc9db91b3",
   "metadata": {},
   "outputs": [
    {
     "name": "stdout",
     "output_type": "stream",
     "text": [
      "25\n"
     ]
    }
   ],
   "source": [
    "karesini_al(5)"
   ]
  },
  {
   "cell_type": "code",
   "execution_count": 29,
   "id": "4fdd0010-ca89-45df-b7d2-56dc1fae6014",
   "metadata": {},
   "outputs": [
    {
     "ename": "TypeError",
     "evalue": "karesini_al() missing 1 required positional argument: 'sayi'",
     "output_type": "error",
     "traceback": [
      "\u001b[1;31m---------------------------------------------------------------------------\u001b[0m",
      "\u001b[1;31mTypeError\u001b[0m                                 Traceback (most recent call last)",
      "Cell \u001b[1;32mIn[29], line 1\u001b[0m\n\u001b[1;32m----> 1\u001b[0m karesini_al()\n",
      "\u001b[1;31mTypeError\u001b[0m: karesini_al() missing 1 required positional argument: 'sayi'"
     ]
    }
   ],
   "source": [
    "karesini_al()"
   ]
  },
  {
   "cell_type": "code",
   "execution_count": 30,
   "id": "cf32d62e-e95a-4d70-8110-97b68d95fb1d",
   "metadata": {},
   "outputs": [],
   "source": [
    "def dikdortegn_alani(kisa_kenar,uzun_kenar):\n",
    "    alan = kisa_kenar * uzun_kenar\n",
    "    print(alan)"
   ]
  },
  {
   "cell_type": "code",
   "execution_count": 31,
   "id": "e7617304-6024-4003-b032-c478ac7b95c6",
   "metadata": {},
   "outputs": [
    {
     "name": "stdout",
     "output_type": "stream",
     "text": [
      "15\n"
     ]
    }
   ],
   "source": [
    "dikdortegn_alani(3,5)"
   ]
  },
  {
   "cell_type": "code",
   "execution_count": 36,
   "id": "65242b74-0fc2-4213-a83f-d418f159f60f",
   "metadata": {},
   "outputs": [],
   "source": [
    "# Daha önce tanımladığımız ogrenci_bilgiler fonksiyonunu parametrik yapalım.\n",
    "def ogrenci_ilk_adi(ilk_ad):\n",
    "    print(\"Adı: \" + ilk_ad)\n",
    "    \n",
    "def ogrenci_soyadi(soyadi):\n",
    "    print(\"Soyadı: \" + soyadi)  \n",
    "def ogrenci_yasi(yas):\n",
    "    print(\"Yaşı: \" + str(yas)) \n",
    "\n",
    "def ogrenci_bilgileri(ilk_adi,soyadi,yas):\n",
    "    ogrenci_ilk_adi(ilk_adi)\n",
    "    ogrenci_soyadi(soyadi)\n",
    "    ogrenci_yasi(yas)\n"
   ]
  },
  {
   "cell_type": "code",
   "execution_count": 37,
   "id": "6c43c598-4ba2-4dae-a16d-0417c0c4b53b",
   "metadata": {},
   "outputs": [
    {
     "name": "stdout",
     "output_type": "stream",
     "text": [
      "Adı: Berkay\n",
      "Soyadı: Esen\n",
      "Yaşı: 23\n"
     ]
    }
   ],
   "source": [
    "ilk = 'Berkay'\n",
    "soyad = 'Esen'\n",
    "yas = 23\n",
    "\n",
    "ogrenci_bilgileri(ilk,soyad,yas)"
   ]
  },
  {
   "cell_type": "markdown",
   "id": "f5818531-0da0-45e7-a41a-2bfc9601b22f",
   "metadata": {},
   "source": [
    "**Scope(Yaşam Alanı) Kavramı**"
   ]
  },
  {
   "cell_type": "markdown",
   "id": "33f3d97a-356a-4312-9df1-687aa6d3f939",
   "metadata": {},
   "source": [
    "Python'da değişkenler tanımlandıkları alanda ve o alanın alt alanlarında geçerlidir.\n",
    "\n",
    "Buna scope yani yaşam alanı denir."
   ]
  },
  {
   "cell_type": "code",
   "execution_count": 38,
   "id": "c05669dd-96c0-454a-96c5-315ab12a4c26",
   "metadata": {},
   "outputs": [],
   "source": [
    "def scope():\n",
    "    scope_degiskeni = 100\n",
    "    print(scope_degiskeni)"
   ]
  },
  {
   "cell_type": "code",
   "execution_count": 39,
   "id": "a050fd8e-0128-44ac-8011-2120d10d157c",
   "metadata": {},
   "outputs": [
    {
     "name": "stdout",
     "output_type": "stream",
     "text": [
      "100\n"
     ]
    }
   ],
   "source": [
    "scope()"
   ]
  },
  {
   "cell_type": "code",
   "execution_count": 40,
   "id": "4d692d95-5c95-4536-8766-100b380dc9e1",
   "metadata": {},
   "outputs": [
    {
     "ename": "NameError",
     "evalue": "name 'scope_degiskeni' is not defined",
     "output_type": "error",
     "traceback": [
      "\u001b[1;31m---------------------------------------------------------------------------\u001b[0m",
      "\u001b[1;31mNameError\u001b[0m                                 Traceback (most recent call last)",
      "Cell \u001b[1;32mIn[40], line 3\u001b[0m\n\u001b[0;32m      1\u001b[0m \u001b[38;5;66;03m# Fonksiyonun içindeki scope değikenine erişmek istersem\u001b[39;00m\n\u001b[1;32m----> 3\u001b[0m \u001b[38;5;28mprint\u001b[39m(scope_degiskeni)\n",
      "\u001b[1;31mNameError\u001b[0m: name 'scope_degiskeni' is not defined"
     ]
    }
   ],
   "source": [
    "# Fonksiyonun içindeki scope değikenine erişmek istersem\n",
    "\n",
    "print(scope_degiskeni)"
   ]
  },
  {
   "cell_type": "markdown",
   "id": "3bd6255b-9dac-46ee-98f3-2cb3ec8ab430",
   "metadata": {},
   "source": [
    "Değişkenin scope'unun dışında ona ulaşmaya çalışırsak python hata verir -> NameError\n",
    "\n",
    "Ama daha üstte yani global scope'ta tanımlanmış bir değkene erişebiliriz"
   ]
  },
  {
   "cell_type": "code",
   "execution_count": 41,
   "id": "4056953a-b356-438d-bf35-ea31a2d268ee",
   "metadata": {},
   "outputs": [],
   "source": [
    "# Dikdörtgenin çevresini hesaplayan bir fonksiyon yazalım\n",
    "kisa = 4\n",
    "uzun = 6\n",
    "\n",
    "def dikdortgen_cevresi():\n",
    "    dikdorgen_cevresi = 2 * (kisa + uzun)\n",
    "    print(dikdorgen_cevresi)"
   ]
  },
  {
   "cell_type": "code",
   "execution_count": 43,
   "id": "d7ef3fe1-c285-47f0-a12a-92d02fb4cf97",
   "metadata": {},
   "outputs": [
    {
     "name": "stdout",
     "output_type": "stream",
     "text": [
      "20\n"
     ]
    }
   ],
   "source": [
    "dikdortgen_cevresi()"
   ]
  },
  {
   "cell_type": "markdown",
   "id": "e92e6eb9-c137-464b-8e26-d78d938405bd",
   "metadata": {},
   "source": [
    "Peki global değişken içindeki bir değişkeni fonksiyon içinde değiştirebilir miyiz?"
   ]
  },
  {
   "cell_type": "code",
   "execution_count": 44,
   "id": "c0a30639-3e0a-4d4c-ada5-fe9273297c05",
   "metadata": {},
   "outputs": [
    {
     "data": {
      "text/plain": [
       "4"
      ]
     },
     "execution_count": 44,
     "metadata": {},
     "output_type": "execute_result"
    }
   ],
   "source": [
    "# kisa değişkeninin mevcut halini görelim\n",
    "kisa"
   ]
  },
  {
   "cell_type": "code",
   "execution_count": 45,
   "id": "f1f8abf3-2252-471a-9f37-56a34edc4ce4",
   "metadata": {},
   "outputs": [],
   "source": [
    "# global değişkeni değiştirmeye çalışan bir fonksiyon yazalım\n",
    "def global_degiskeni_degistir():\n",
    "    kisa = 400\n",
    "    print(kisa)"
   ]
  },
  {
   "cell_type": "code",
   "execution_count": 46,
   "id": "e4e500d3-9c4c-40a1-a4d9-a6f458375352",
   "metadata": {},
   "outputs": [
    {
     "name": "stdout",
     "output_type": "stream",
     "text": [
      "400\n"
     ]
    }
   ],
   "source": [
    "# fonksiyonu çağırdım\n",
    "global_degiskeni_degistir()"
   ]
  },
  {
   "cell_type": "code",
   "execution_count": 47,
   "id": "e019d274-3656-4348-b6d3-c8a6014ed1b5",
   "metadata": {},
   "outputs": [
    {
     "data": {
      "text/plain": [
       "4"
      ]
     },
     "execution_count": 47,
     "metadata": {},
     "output_type": "execute_result"
    }
   ],
   "source": [
    "# kısa değişkenini sorgulatalım\n",
    "kisa"
   ]
  },
  {
   "cell_type": "markdown",
   "id": "4300bce7-544c-4596-91a0-60150d378f9f",
   "metadata": {},
   "source": [
    "Fonksiyon içersinden değiştirmemize rağmen globaldeki değişkenin değeri değişmedi.\n",
    "\n",
    "Sebebi:\n",
    "\n",
    "Python globaldeki kisa değerine dokunmadı.\n",
    "\n",
    "Siz, fonksiyon içinde 'kisa' değişkenine atama yaptığınız anda Python yeni bir değişken tanımlar.\n",
    "\n",
    "Bu yeni kopya sadece fonksiyonun içindeki scope ta yaşar.\n",
    "\n",
    "Çözüm: Global scope taki değikeni gerçekten değiştirmek istiyorsak değişken başına global anahtar kelimesi yazılır."
   ]
  },
  {
   "cell_type": "code",
   "execution_count": 48,
   "id": "9043f683-d430-4dd5-b9d3-392ea58530c5",
   "metadata": {},
   "outputs": [
    {
     "data": {
      "text/plain": [
       "4"
      ]
     },
     "execution_count": 48,
     "metadata": {},
     "output_type": "execute_result"
    }
   ],
   "source": [
    "kisa"
   ]
  },
  {
   "cell_type": "code",
   "execution_count": 49,
   "id": "93ab3231-8348-4967-b3ed-d74365fbb7d7",
   "metadata": {},
   "outputs": [],
   "source": [
    "def global_degisken_degistir():\n",
    "    global kisa\n",
    "    kisa = 400\n",
    "    print(kisa)"
   ]
  },
  {
   "cell_type": "code",
   "execution_count": 50,
   "id": "2ae75a7a-0e30-48c7-9c91-ad3512917c17",
   "metadata": {},
   "outputs": [
    {
     "name": "stdout",
     "output_type": "stream",
     "text": [
      "400\n"
     ]
    }
   ],
   "source": [
    "global_degisken_degistir()"
   ]
  },
  {
   "cell_type": "code",
   "execution_count": null,
   "id": "57701763-b9a4-4505-b36f-0d5eb9ef3edc",
   "metadata": {},
   "outputs": [],
   "source": [
    "# globaldaki kisa değişkenini tekrar görelim\n",
    "kisa"
   ]
  },
  {
   "cell_type": "markdown",
   "id": "4bd186a9-9e40-42d1-b920-e77a27eecc69",
   "metadata": {},
   "source": [
    "**Fonksiyonun Değer Dönmesi (return)**"
   ]
  },
  {
   "cell_type": "markdown",
   "id": "d9af0aa3-6d19-45aa-b1f1-06f1031d86db",
   "metadata": {},
   "source": [
    "Fonksiyonlar işlerini bitirdikten sonra değer dönebilir.\n",
    "\n",
    "Buna geriye değer dönme (return) denir.\n",
    "\n",
    "return anahtar kelimesi kullanılır."
   ]
  },
  {
   "cell_type": "code",
   "execution_count": 52,
   "id": "3ac513d8-dc4b-48f8-bd2c-117a2bd9fa0c",
   "metadata": {},
   "outputs": [],
   "source": [
    "# kendisine parametre olarak verilen birsayını kübünü hesaplayıp geri dönen bir fonksiyon yazalım.\n",
    "\n",
    "def cube(n):\n",
    "    n_kup = n**3\n",
    "    return n_kup"
   ]
  },
  {
   "cell_type": "code",
   "execution_count": 54,
   "id": "4a2825be-fc8e-48f0-bd72-35ae3fc062ed",
   "metadata": {},
   "outputs": [
    {
     "name": "stdout",
     "output_type": "stream",
     "text": [
      "125\n"
     ]
    }
   ],
   "source": [
    "# artık bu fonksiyonu çağırdığımızda biz değer döner\n",
    "# o değeri alıp bir değşkene atayabiliriz.\n",
    "\n",
    "kup = cube(5)\n",
    "print(kup)"
   ]
  },
  {
   "cell_type": "markdown",
   "id": "373e4c4d-e1f1-430c-9f0f-dbc49394405c",
   "metadata": {},
   "source": [
    "Geriye dönmeyen fonksiyonlara **void** fonksiyonlar denir.\n",
    "\n",
    "**Not** Fonksiyon içinde, return ifadesinden sonra gelen kodlar çalıştırılmaz. Çünkü return fonksiyondan çıkış demektir.\n",
    "\n",
    "Örneğin dairenin alanını hesaplayan bir fonksiyon yazalım ve değerini alıp ekrana basalım"
   ]
  },
  {
   "cell_type": "code",
   "execution_count": 55,
   "id": "c9d82716-b05c-456c-b701-d402c1379675",
   "metadata": {},
   "outputs": [],
   "source": [
    "import math"
   ]
  },
  {
   "cell_type": "code",
   "execution_count": 56,
   "id": "be6cfee2-0d69-47e6-998c-2281cd5ba023",
   "metadata": {},
   "outputs": [],
   "source": [
    "def alan(yaricap):\n",
    "    a = math.pi * yaricap**2\n",
    "    return a"
   ]
  },
  {
   "cell_type": "code",
   "execution_count": 57,
   "id": "644991d7-4cdf-42e4-9369-70250d778d82",
   "metadata": {},
   "outputs": [
    {
     "name": "stdout",
     "output_type": "stream",
     "text": [
      "50.26548245743669\n"
     ]
    }
   ],
   "source": [
    "daire_alani = alan(4)\n",
    "print(daire_alani)"
   ]
  },
  {
   "cell_type": "code",
   "execution_count": 58,
   "id": "2d2587cf-a5a3-4651-b02e-855bfa4e1f9e",
   "metadata": {},
   "outputs": [],
   "source": [
    "def uzaklik(x1,y1,x2,y2):\n",
    "    # x ler farkı\n",
    "    dx = x2 - x1\n",
    "    # Y ler farkı\n",
    "    dy = y2 - y1\n",
    "    # kareler toplamı\n",
    "    kareler_toplami = dx**2 + dy**2\n",
    "    return math.sqrt(kareler_toplami)"
   ]
  },
  {
   "cell_type": "markdown",
   "id": "402ddde4-1b18-4b8d-bf82-0c934069319f",
   "metadata": {},
   "source": [
    "**Fonksiyonel Programlama**"
   ]
  },
  {
   "cell_type": "markdown",
   "id": "c4d85d28-bd4e-4d0e-bd94-540a4b6e2409",
   "metadata": {},
   "source": [
    "Yapılacak işleri küçük parçalara bölmek, ve onları kendi fonksiyonlarına vermek\n",
    "\n",
    "Örnek: Diyelim ki elimizde iki nokta var\n",
    "\n",
    "Bu iki noktayı birleştiren doğru parçasını yarıçap kabul edelim\n",
    "\n",
    "Bu yarıçapa sahip olan dairenin alanını hesaplayalım"
   ]
  },
  {
   "cell_type": "code",
   "execution_count": 59,
   "id": "ac3d5d35-e89c-4494-9daa-37b8cec2e43a",
   "metadata": {},
   "outputs": [],
   "source": [
    "# Yarıçapı verilen iki nokta arası olan bir dairenin alanını hesaplayan fonksiyon.\n",
    "def iki_noktadan_gecen_daire_alani(x1,y1,x2,y2):\n",
    "    # yarıçapı hesaplayalım\n",
    "    r = uzaklik(x1,y1,x2,y2)\n",
    "    a = alan(r)\n",
    "    return a"
   ]
  },
  {
   "cell_type": "markdown",
   "id": "16f81d76-bd54-4dd7-b3e8-f05537563d70",
   "metadata": {},
   "source": [
    "**Bool Fonksiyonlar**"
   ]
  },
  {
   "cell_type": "markdown",
   "id": "c52ef578-29ea-4f81-98f3-6387f30dbf84",
   "metadata": {},
   "source": [
    "Çoğu zaman bir kara verirken doğru ya da yanlış olduğunu bilmemiz gerekir.\n",
    "\n",
    "İşte bize bu durum içi doğru mu yoksa yanlış mı sonucunu veren fonksiyonlar tanımlarız.\n",
    "\n",
    "True ya da False döner."
   ]
  },
  {
   "cell_type": "code",
   "execution_count": 61,
   "id": "610b0816-0124-4413-9bf1-7a939bc1bc18",
   "metadata": {},
   "outputs": [],
   "source": [
    "# Sayı tek mi çit mi \n",
    "def cift_mi(x):\n",
    "    return x % 2 == 0"
   ]
  },
  {
   "cell_type": "code",
   "execution_count": 62,
   "id": "e9e5996e-8d9f-4eb2-8045-9a77a96d029f",
   "metadata": {},
   "outputs": [
    {
     "data": {
      "text/plain": [
       "False"
      ]
     },
     "execution_count": 62,
     "metadata": {},
     "output_type": "execute_result"
    }
   ],
   "source": [
    "cift_mi(5)"
   ]
  },
  {
   "cell_type": "markdown",
   "id": "f7fd24ab-5b6f-4364-b661-4e29a6d97bf6",
   "metadata": {},
   "source": [
    "Fonksiyonlar da değişkenler gibi, atanabilirler parametre olarak geçilebilirler ve yenidendeğer atanabilir."
   ]
  },
  {
   "cell_type": "code",
   "execution_count": 1,
   "id": "dbe368f2-6954-40e5-99cd-5b435d45084e",
   "metadata": {},
   "outputs": [],
   "source": [
    "def kup(num):\n",
    "    out = num**3\n",
    "    return out"
   ]
  },
  {
   "cell_type": "code",
   "execution_count": 2,
   "id": "95f0ad9c-6c40-449f-bf62-fca1a19bd753",
   "metadata": {},
   "outputs": [
    {
     "data": {
      "text/plain": [
       "125"
      ]
     },
     "execution_count": 2,
     "metadata": {},
     "output_type": "execute_result"
    }
   ],
   "source": [
    "kup(5)"
   ]
  },
  {
   "cell_type": "code",
   "execution_count": 3,
   "id": "4b4cf9a1-18ac-4403-a77d-56ce55458ca8",
   "metadata": {},
   "outputs": [],
   "source": [
    "# Şimdi yukarıdaki fonksiyonu bir değişkene atayalım\n",
    "q = kup"
   ]
  },
  {
   "cell_type": "code",
   "execution_count": 4,
   "id": "b580154d-d9bf-48e5-8fee-9ecf150c7173",
   "metadata": {},
   "outputs": [
    {
     "data": {
      "text/plain": [
       "function"
      ]
     },
     "execution_count": 4,
     "metadata": {},
     "output_type": "execute_result"
    }
   ],
   "source": [
    "# Şimdi de q nun type ini görelim\n",
    "type(q)"
   ]
  },
  {
   "cell_type": "code",
   "execution_count": 5,
   "id": "d78c5e04-8178-4a27-8d73-09e3180a230e",
   "metadata": {},
   "outputs": [
    {
     "data": {
      "text/plain": [
       "125"
      ]
     },
     "execution_count": 5,
     "metadata": {},
     "output_type": "execute_result"
    }
   ],
   "source": [
    "q(5)"
   ]
  },
  {
   "cell_type": "markdown",
   "id": "d1553b11-14d3-46ea-913f-feb7f94064e3",
   "metadata": {},
   "source": [
    "q çağrılınca birebir kup fonksiyonu ile aynı işlemi yaptı\n",
    "\n",
    "Çünkü atama yaptığımız anda q artık kup fonksiyou oldu\n",
    "\n",
    "Sadece fonksiyona yeni bir ad vermiş olduk."
   ]
  },
  {
   "cell_type": "code",
   "execution_count": 6,
   "id": "1a89692b-32fd-480c-820e-e9917f767f06",
   "metadata": {},
   "outputs": [],
   "source": [
    "def selamla(metin):\n",
    "    print(metin)"
   ]
  },
  {
   "cell_type": "code",
   "execution_count": 7,
   "id": "ebf4587d-f272-45ee-93a0-a5f1da739827",
   "metadata": {},
   "outputs": [
    {
     "name": "stdout",
     "output_type": "stream",
     "text": [
      "Merhaba Dünya\n"
     ]
    }
   ],
   "source": [
    "selamla('Merhaba Dünya')"
   ]
  },
  {
   "cell_type": "code",
   "execution_count": 9,
   "id": "517619be-fb12-46d0-94ab-4ebb22fd0f59",
   "metadata": {},
   "outputs": [],
   "source": [
    "hello = selamla"
   ]
  },
  {
   "cell_type": "code",
   "execution_count": 10,
   "id": "9dadbf34-0685-493e-a6c2-7e142e935956",
   "metadata": {},
   "outputs": [
    {
     "name": "stdout",
     "output_type": "stream",
     "text": [
      "Hello World\n"
     ]
    }
   ],
   "source": [
    "hello('Hello World')"
   ]
  },
  {
   "cell_type": "markdown",
   "id": "6aa24179-daab-491b-8b9c-046ead0f7437",
   "metadata": {},
   "source": [
    "**Parametre Sayısı Önceden Bilinmiyorsa:** *args"
   ]
  },
  {
   "cell_type": "markdown",
   "id": "9b3b9dd7-7b0f-4f1a-af1c-ecdf8f9cf624",
   "metadata": {},
   "source": [
    "Bazen, bir fonksiyonun hangi parametreleri alacağını önceden bilemeyiz.\n",
    "\n",
    "Bu durumda *args kullanılır."
   ]
  },
  {
   "cell_type": "code",
   "execution_count": 11,
   "id": "d4000698-b141-41aa-b0c2-f87dd2fe78e1",
   "metadata": {},
   "outputs": [],
   "source": [
    "def toplam(*args):\n",
    "    print(\"args: \", args)"
   ]
  },
  {
   "cell_type": "code",
   "execution_count": 12,
   "id": "136eebaa-76cd-4611-b9b6-9ecd99ef7c23",
   "metadata": {},
   "outputs": [
    {
     "name": "stdout",
     "output_type": "stream",
     "text": [
      "args:  (3, 5)\n"
     ]
    }
   ],
   "source": [
    "toplam(3,5)"
   ]
  },
  {
   "cell_type": "code",
   "execution_count": 13,
   "id": "79aa8d74-f141-4dbc-8f84-365acb33dc7c",
   "metadata": {},
   "outputs": [],
   "source": [
    "def toplam(*args):\n",
    "    return sum(args)"
   ]
  },
  {
   "cell_type": "code",
   "execution_count": 14,
   "id": "a5f99235-4eb8-4791-9e30-21ec6688ea4c",
   "metadata": {},
   "outputs": [
    {
     "data": {
      "text/plain": [
       "15"
      ]
     },
     "execution_count": 14,
     "metadata": {},
     "output_type": "execute_result"
    }
   ],
   "source": [
    "toplam(3,5,7)"
   ]
  },
  {
   "cell_type": "code",
   "execution_count": 15,
   "id": "b3e16f9d-781e-44ad-a9ed-9f522ec5eb4e",
   "metadata": {},
   "outputs": [],
   "source": [
    "def parametreleri_yaz(*args):\n",
    "    for a in args:\n",
    "        print(a)"
   ]
  },
  {
   "cell_type": "code",
   "execution_count": 16,
   "id": "26c15ae4-1438-4bfd-8171-4d3a1fad1b1f",
   "metadata": {},
   "outputs": [
    {
     "name": "stdout",
     "output_type": "stream",
     "text": [
      "A\n",
      "B\n",
      "3\n",
      "5\n",
      "8\n"
     ]
    }
   ],
   "source": [
    "parametreleri_yaz(\"A\",\"B\",3,5,8)"
   ]
  },
  {
   "cell_type": "markdown",
   "id": "83a964d7-4d22-41a2-9ca1-a4c2dbc97984",
   "metadata": {},
   "source": [
    "**Lambda Fonksiyonu**"
   ]
  },
  {
   "cell_type": "markdown",
   "id": "65e4f082-c0e6-4f4f-bab4-ae29ea430312",
   "metadata": {},
   "source": [
    "Bazen bir fonksiyona isim vermeden direkt kullanmak isteyebiliriz.\n",
    "\n",
    "Bunun için lambda anahtar kelimesini kullanırız.\n",
    "\n",
    "Lambda tek satır fonksiyonu olarakta bilinir."
   ]
  },
  {
   "cell_type": "code",
   "execution_count": 17,
   "id": "9a13dfaf-f7dd-41ab-9228-c6e339fab5b1",
   "metadata": {},
   "outputs": [
    {
     "data": {
      "text/plain": [
       "['Python', 'Derin', 'Öğrenme']"
      ]
     },
     "execution_count": 17,
     "metadata": {},
     "output_type": "execute_result"
    }
   ],
   "source": [
    "metin = \"Python Derin Öğrenme\"\n",
    "metin.split()"
   ]
  },
  {
   "cell_type": "code",
   "execution_count": 18,
   "id": "feed8d1f-0997-49a3-b0b0-d8e6f068b906",
   "metadata": {},
   "outputs": [],
   "source": [
    "#def metini parcala(metin):\n",
    "#    ------\n",
    "\n",
    "metin_parcala = lambda x: x.split()"
   ]
  },
  {
   "cell_type": "code",
   "execution_count": 19,
   "id": "09d2bda2-f156-4643-8a7d-5e21d5ca2cd6",
   "metadata": {},
   "outputs": [
    {
     "data": {
      "text/plain": [
       "['Python', 'Derin', 'Öğrenme']"
      ]
     },
     "execution_count": 19,
     "metadata": {},
     "output_type": "execute_result"
    }
   ],
   "source": [
    "metin_parcala(metin)"
   ]
  },
  {
   "cell_type": "code",
   "execution_count": 20,
   "id": "634a40a4-db96-4cc2-9339-23a38b5855d9",
   "metadata": {},
   "outputs": [],
   "source": [
    "# Çarpma yapan bir lambda fonksiyonu yapalım\n",
    "\n",
    "carp = lambda x,y: x * y"
   ]
  },
  {
   "cell_type": "code",
   "execution_count": 21,
   "id": "70d0e9ef-d029-482e-8206-08d91987352f",
   "metadata": {},
   "outputs": [
    {
     "data": {
      "text/plain": [
       "15"
      ]
     },
     "execution_count": 21,
     "metadata": {},
     "output_type": "execute_result"
    }
   ],
   "source": [
    "carp(3,5)"
   ]
  },
  {
   "cell_type": "markdown",
   "id": "02e5df55-8c97-41d4-9cd1-3a859fcefaf9",
   "metadata": {},
   "source": [
    "**İç içe fonksiyonlar**"
   ]
  },
  {
   "cell_type": "markdown",
   "id": "bddef98d-1f11-444a-8683-562fb8e6c72f",
   "metadata": {},
   "source": [
    "Bazen bir fonksiyon içinde başka bir fonksiyon tanımlamamız gerekebilir.\n",
    "\n",
    "Buna iç içe fonksiyon denir.\n",
    "\n",
    "Örnek: İç içe fonksiyonlar kullanarak bir sayının 5 ve 8'in ortak katları olup olmadığı bulalım."
   ]
  },
  {
   "cell_type": "code",
   "execution_count": 22,
   "id": "7bc0b6c3-f5fd-4dd9-b80a-7020d8be18e2",
   "metadata": {},
   "outputs": [],
   "source": [
    "def ortak_kat_mi(n):\n",
    "    \"\"\"\n",
    "    Verilen bir sayının hem 5'in hem de 8'in katı olup olmadığını kontrol eder.\n",
    "    Parametre: n (int)\n",
    "    Return: Eğer sayı hem 5 hem 8'in tam katı ise True değilse False\n",
    "    \"\"\"\n",
    "    def besin_kati_mi(n):\n",
    "        if n % 5 == 0:\n",
    "            return True\n",
    "        else:\n",
    "            return False\n",
    "    def sekizin_kati_mi(n):\n",
    "        if n % 8 == 0:\n",
    "            return True\n",
    "        else:\n",
    "            return False\n",
    "    # hem 5 in hem 8 in katı mı kontrol et\n",
    "    if besin_kati_mi(n) and sekizin_kati_mi(n):\n",
    "        return True\n",
    "    else:\n",
    "        return False\n",
    "    \n",
    "\n",
    "\n",
    "        "
   ]
  },
  {
   "cell_type": "markdown",
   "id": "50fba947-2f7b-41e7-87cb-01b41aa7ae1c",
   "metadata": {},
   "source": [
    "**Değiştirilebilir x Dğiştirilemez**\n",
    "\n",
    "Immutable: Bazı tipler atandıkları gibi kalırlar. Yani değiştirilemez.\n",
    "\n",
    "Mutable: Bazı tiplerin ise bir parçasını değiştirebiliriz"
   ]
  },
  {
   "cell_type": "code",
   "execution_count": 23,
   "id": "df3cf53c-6fd3-4311-a070-f7a9523383ad",
   "metadata": {},
   "outputs": [],
   "source": [
    "metin = 'KALEM'"
   ]
  },
  {
   "cell_type": "code",
   "execution_count": 24,
   "id": "ace71ea2-5b40-4de5-9cfe-f6ca0173ecec",
   "metadata": {},
   "outputs": [
    {
     "ename": "TypeError",
     "evalue": "'str' object does not support item assignment",
     "output_type": "error",
     "traceback": [
      "\u001b[1;31m---------------------------------------------------------------------------\u001b[0m",
      "\u001b[1;31mTypeError\u001b[0m                                 Traceback (most recent call last)",
      "Cell \u001b[1;32mIn[24], line 1\u001b[0m\n\u001b[1;32m----> 1\u001b[0m metin[\u001b[38;5;241m0\u001b[39m] \u001b[38;5;241m=\u001b[39m \u001b[38;5;124m'\u001b[39m\u001b[38;5;124mT\u001b[39m\u001b[38;5;124m'\u001b[39m\n",
      "\u001b[1;31mTypeError\u001b[0m: 'str' object does not support item assignment"
     ]
    }
   ],
   "source": [
    "metin[0] = 'T'"
   ]
  },
  {
   "cell_type": "markdown",
   "id": "b90525ad-10e3-4871-932e-0a15719c8372",
   "metadata": {},
   "source": [
    "**Pass by Value, Pass by Referance**\n",
    "\n",
    "Eğer immutable bir nesne, bir fonksiyona parametre olarak geçilirse, sadece kopyası geçer. Kendisi olduğu yerde hiç değişmeden kalır.\n",
    "\n",
    "Eğer mutable bir nesne, bir fonksiyona parametre olarak geçilirse referansı geçer Yani bellekteki adresi geçer. Fonksiyon içinde bu değişken değişirse orijinal değişkende değişmiş olur.\n"
   ]
  },
  {
   "cell_type": "code",
   "execution_count": 25,
   "id": "f003ec3f-9112-4e32-80e2-03a739377c35",
   "metadata": {},
   "outputs": [
    {
     "name": "stdout",
     "output_type": "stream",
     "text": [
      "Fonksiyona parametre olarak geçilmeden öcne:  Python\n",
      "Fonksiyona parametre olarak geçildikten sonra:  Python\n"
     ]
    }
   ],
   "source": [
    "dil = 'Python'\n",
    "print(\"Fonksiyona parametre olarak geçilmeden öcne: \", dil)\n",
    "\n",
    "def degistir(ad):\n",
    "    ad = 'Java'\n",
    "\n",
    "degistir(dil)\n",
    "print(\"Fonksiyona parametre olarak geçildikten sonra: \", dil)"
   ]
  },
  {
   "cell_type": "markdown",
   "id": "5d22b10c-dfb1-4cac-bd77-f490f90011ca",
   "metadata": {},
   "source": [
    "Immutable olan str tipi, fonksiyona parametre olarak geçildiğinde değişmeden kaldı\n",
    "\n",
    "Immutable olan tiplerin kendisi değil kopyası fonksiyonu geçer."
   ]
  },
  {
   "cell_type": "code",
   "execution_count": 26,
   "id": "a3849245-483b-4fa3-a030-92c036c91a5b",
   "metadata": {},
   "outputs": [
    {
     "name": "stdout",
     "output_type": "stream",
     "text": [
      "Fonksiyona parametre olarak geçilmeden öcne:  [1, 2, 3, 4, 5]\n",
      "Fonksiyona parametre olarak geçildikten sonra:  ['a', 'b', 3, 4, 5]\n"
     ]
    }
   ],
   "source": [
    "# Örnek\n",
    "\n",
    "sayilar = [1,2,3,4,5]\n",
    "print(\"Fonksiyona parametre olarak geçilmeden öcne: \", sayilar)\n",
    "\n",
    "def degistir(dizi):\n",
    "    dizi[0] = 'a'\n",
    "    dizi[1] = 'b'\n",
    "\n",
    "degistir(sayilar)\n",
    "print(\"Fonksiyona parametre olarak geçildikten sonra: \", sayilar)"
   ]
  },
  {
   "cell_type": "markdown",
   "id": "9fe99e6b-8e99-4ac0-9b8a-719624ffbcf1",
   "metadata": {},
   "source": [
    "Sayılar listesi list tipinde olduğu için ve listler Mutable oldukları için\n",
    "\n",
    "donksiyon içinde yaptığımız değişiklik orijinal listeyide değiştir -> Referance Type"
   ]
  },
  {
   "cell_type": "markdown",
   "id": "cb1bcceb-21c9-4a55-b242-5f1991468059",
   "metadata": {},
   "source": [
    "**Özyinelmeli(Recursive) Fonksiyonlar**\n",
    "\n",
    "Özyinelemeli fonksiyonlar kendini çağıran fonksiyonlardır. Bu tür fonksiyonlar genellikle problemin küçük parçalarını çözer ve kendilerini bu küçük paraçalarla tekrar çağırarak sonuca ulaşırlar.\n"
   ]
  },
  {
   "cell_type": "code",
   "execution_count": 27,
   "id": "dcabf54a-a9c4-4102-8985-e316b5e2fa80",
   "metadata": {},
   "outputs": [],
   "source": [
    "# Faktöriyel hesabınını özyinelemeli fonksiyon kullanarak yapalım.\n",
    "\n",
    "def faktoriyel(n):\n",
    "    if n == 0 or n == 1:\n",
    "        return 1\n",
    "    else:\n",
    "        return n * faktoriyel(n - 1)"
   ]
  },
  {
   "cell_type": "code",
   "execution_count": 28,
   "id": "2899f9d7-ed53-4432-a7a7-a737701b4ea0",
   "metadata": {},
   "outputs": [
    {
     "data": {
      "text/plain": [
       "120"
      ]
     },
     "execution_count": 28,
     "metadata": {},
     "output_type": "execute_result"
    }
   ],
   "source": [
    "faktoriyel(5)"
   ]
  },
  {
   "cell_type": "code",
   "execution_count": null,
   "id": "b7a8de45-e827-4a7e-9b48-8b15141f796c",
   "metadata": {},
   "outputs": [],
   "source": []
  },
  {
   "cell_type": "code",
   "execution_count": null,
   "id": "d33991da-d2b7-482b-901d-bf73cd9b005b",
   "metadata": {},
   "outputs": [],
   "source": []
  },
  {
   "cell_type": "code",
   "execution_count": null,
   "id": "6420d19b-5db9-496d-8234-8402c0ef4d89",
   "metadata": {},
   "outputs": [],
   "source": []
  },
  {
   "cell_type": "code",
   "execution_count": null,
   "id": "aa0211bd-2abf-4ba1-ba3b-8b97bf819fe7",
   "metadata": {},
   "outputs": [],
   "source": []
  },
  {
   "cell_type": "code",
   "execution_count": null,
   "id": "f5e59538-9d43-4887-9eb2-1760ded6fb7b",
   "metadata": {},
   "outputs": [],
   "source": []
  },
  {
   "cell_type": "code",
   "execution_count": null,
   "id": "319ea425-a080-49c5-90c2-16c07a270439",
   "metadata": {},
   "outputs": [],
   "source": []
  },
  {
   "cell_type": "code",
   "execution_count": null,
   "id": "a7ec86b4-d746-4955-8c06-6e4537073189",
   "metadata": {},
   "outputs": [],
   "source": []
  },
  {
   "cell_type": "code",
   "execution_count": null,
   "id": "b025ef28-9395-4194-bc48-5b36a3d43fd4",
   "metadata": {},
   "outputs": [],
   "source": []
  },
  {
   "cell_type": "code",
   "execution_count": null,
   "id": "94653591-298e-46de-ad4c-776165d6bd39",
   "metadata": {},
   "outputs": [],
   "source": []
  }
 ],
 "metadata": {
  "kernelspec": {
   "display_name": "Python 3 (ipykernel)",
   "language": "python",
   "name": "python3"
  },
  "language_info": {
   "codemirror_mode": {
    "name": "ipython",
    "version": 3
   },
   "file_extension": ".py",
   "mimetype": "text/x-python",
   "name": "python",
   "nbconvert_exporter": "python",
   "pygments_lexer": "ipython3",
   "version": "3.11.7"
  }
 },
 "nbformat": 4,
 "nbformat_minor": 5
}
