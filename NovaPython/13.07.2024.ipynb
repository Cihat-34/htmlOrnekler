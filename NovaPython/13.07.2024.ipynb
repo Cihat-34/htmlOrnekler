{
 "cells": [
  {
   "cell_type": "code",
   "execution_count": 3,
   "id": "d56cd1d8-63d7-405c-b3e8-04ac48c83c7a",
   "metadata": {
    "tags": []
   },
   "outputs": [
    {
     "data": {
      "text/plain": [
       "array([10, 20, 30, 40])"
      ]
     },
     "execution_count": 3,
     "metadata": {},
     "output_type": "execute_result"
    }
   ],
   "source": [
    "import numpy as np\n",
    "\n",
    "arr = np.array([10,20,30,40,50])\n",
    "arr[-5:-1]"
   ]
  },
  {
   "cell_type": "code",
   "execution_count": 4,
   "id": "abec50dd-de42-49ff-b62d-3d8ceab84795",
   "metadata": {
    "tags": []
   },
   "outputs": [
    {
     "data": {
      "text/plain": [
       "array([[1, 2],\n",
       "       [4, 5]])"
      ]
     },
     "execution_count": 4,
     "metadata": {},
     "output_type": "execute_result"
    }
   ],
   "source": [
    "data = [\n",
    "        [1,2,3],\n",
    "        [4,5,6],\n",
    "        [7,8,9]\n",
    "]\n",
    "arr = np.array(data)\n",
    "arr[ : 2, : 2]"
   ]
  },
  {
   "cell_type": "code",
   "execution_count": 5,
   "id": "18218a2e-0147-4dab-befd-7592c69d7ec5",
   "metadata": {
    "tags": []
   },
   "outputs": [],
   "source": [
    "scores = np.array([85,92,78,90,88])"
   ]
  },
  {
   "cell_type": "code",
   "execution_count": 6,
   "id": "2586bba1-33ee-49f1-99d9-c96a351802e2",
   "metadata": {
    "tags": []
   },
   "outputs": [
    {
     "data": {
      "text/plain": [
       "92"
      ]
     },
     "execution_count": 6,
     "metadata": {},
     "output_type": "execute_result"
    }
   ],
   "source": [
    "en_yuksek = np.max(scores)\n",
    "en_yuksek"
   ]
  },
  {
   "cell_type": "code",
   "execution_count": 7,
   "id": "2c3c199c-1c83-4397-9f91-d53d08ebc2c0",
   "metadata": {
    "tags": []
   },
   "outputs": [
    {
     "data": {
      "text/plain": [
       "78"
      ]
     },
     "execution_count": 7,
     "metadata": {},
     "output_type": "execute_result"
    }
   ],
   "source": [
    "en_dusuk = np.min(scores)\n",
    "en_dusuk"
   ]
  },
  {
   "cell_type": "code",
   "execution_count": 8,
   "id": "cf7eec3e-9629-4134-ac02-14bd8208ceaf",
   "metadata": {
    "tags": []
   },
   "outputs": [
    {
     "data": {
      "text/plain": [
       "86.6"
      ]
     },
     "execution_count": 8,
     "metadata": {},
     "output_type": "execute_result"
    }
   ],
   "source": [
    "ort = np.mean(scores)\n",
    "ort"
   ]
  },
  {
   "cell_type": "code",
   "execution_count": 9,
   "id": "40822e72-ca66-4895-b1b4-5b2811743dca",
   "metadata": {
    "tags": []
   },
   "outputs": [
    {
     "data": {
      "text/plain": [
       "array([1200, 1500, 1600, 1700, 1800, 1900])"
      ]
     },
     "execution_count": 9,
     "metadata": {},
     "output_type": "execute_result"
    }
   ],
   "source": [
    "monthly_sales = np.array([1200,1500,1600,1700,1800,1900,2000,2100,2200,2300,2400,2500])\n",
    "ilk_alti_ay = monthly_sales[0:6]\n",
    "ilk_alti_ay"
   ]
  },
  {
   "cell_type": "code",
   "execution_count": 10,
   "id": "07f11f7b-38fa-46cf-8bd4-b3345cda9139",
   "metadata": {
    "tags": []
   },
   "outputs": [
    {
     "data": {
      "text/plain": [
       "1616.6666666666667"
      ]
     },
     "execution_count": 10,
     "metadata": {},
     "output_type": "execute_result"
    }
   ],
   "source": [
    "ilk_alti_ay_ort = np.mean(ilk_alti_ay)\n",
    "ilk_alti_ay_ort"
   ]
  },
  {
   "cell_type": "code",
   "execution_count": 11,
   "id": "e2bc978e-94d9-4903-a0d0-ee9aee6300ed",
   "metadata": {
    "tags": []
   },
   "outputs": [
    {
     "data": {
      "text/plain": [
       "2250.0"
      ]
     },
     "execution_count": 11,
     "metadata": {},
     "output_type": "execute_result"
    }
   ],
   "source": [
    "son_alti_ay = monthly_sales[6:]\n",
    "son_ort = np.mean(son_alti_ay)\n",
    "son_ort"
   ]
  },
  {
   "cell_type": "code",
   "execution_count": 12,
   "id": "17f0854b-bec2-4d99-b6b3-b5c93c5b0fdd",
   "metadata": {
    "tags": []
   },
   "outputs": [
    {
     "data": {
      "text/plain": [
       "array([199, 156, 155, 119, 192, 152, 198, 132, 176, 175, 109, 189, 147,\n",
       "       189, 116, 152, 147, 129, 128, 163, 182, 131, 147, 125, 147, 128,\n",
       "       124, 178, 136, 132])"
      ]
     },
     "execution_count": 12,
     "metadata": {},
     "output_type": "execute_result"
    }
   ],
   "source": [
    "daily_production = np.random.randint(100,200,size = 30)\n",
    "daily_production"
   ]
  },
  {
   "cell_type": "code",
   "execution_count": 13,
   "id": "6994118c-898f-46dd-9efe-f57da193cdbc",
   "metadata": {
    "tags": []
   },
   "outputs": [
    {
     "data": {
      "text/plain": [
       "4553"
      ]
     },
     "execution_count": 13,
     "metadata": {},
     "output_type": "execute_result"
    }
   ],
   "source": [
    "top = np.sum(daily_production)\n",
    "top"
   ]
  },
  {
   "cell_type": "code",
   "execution_count": 14,
   "id": "a718728d-b806-4f44-b970-81c2d0bbd0a0",
   "metadata": {
    "tags": []
   },
   "outputs": [
    {
     "data": {
      "text/plain": [
       "151.76666666666668"
      ]
     },
     "execution_count": 14,
     "metadata": {},
     "output_type": "execute_result"
    }
   ],
   "source": [
    "ort_gun_uretim = np.mean(daily_production)\n",
    "ort_gun_uretim"
   ]
  },
  {
   "cell_type": "code",
   "execution_count": 15,
   "id": "737d3b4a-3692-496a-a2ec-43d50f19d6b8",
   "metadata": {
    "tags": []
   },
   "outputs": [],
   "source": [
    "exam_scores = np.array([\n",
    "    [85,90,88,92],\n",
    "    [78,85,90,87],\n",
    "    [92,88,82,95],\n",
    "    [80,85,78,88]\n",
    "])"
   ]
  },
  {
   "cell_type": "code",
   "execution_count": 16,
   "id": "ee46f769-e8c8-4b79-967e-471562507115",
   "metadata": {
    "tags": []
   },
   "outputs": [
    {
     "name": "stdout",
     "output_type": "stream",
     "text": [
      "Ortalama:  [88.75 85.   89.25 82.75]\n"
     ]
    }
   ],
   "source": [
    "ortalama = np.mean(exam_scores,axis = 1)\n",
    "print('Ortalama: ',ortalama)"
   ]
  },
  {
   "cell_type": "code",
   "execution_count": 17,
   "id": "c09019e2-d7a6-4e4d-8383-906d7f7e95b1",
   "metadata": {
    "tags": []
   },
   "outputs": [
    {
     "name": "stdout",
     "output_type": "stream",
     "text": [
      "[[ -3.75   5.    -1.25   9.25]\n",
      " [-10.75   0.     0.75   4.25]\n",
      " [  3.25   3.    -7.25  12.25]\n",
      " [ -8.75   0.   -11.25   5.25]]\n"
     ]
    }
   ],
   "source": [
    "uzaklik = exam_scores - ortalama[:np.newaxis]\n",
    "print(uzaklik)"
   ]
  },
  {
   "cell_type": "code",
   "execution_count": 18,
   "id": "9082bb34-0e19-437d-8518-4774a7204614",
   "metadata": {},
   "outputs": [],
   "source": [
    "A = np.array([[1,2,3],\n",
    "             [4,5,6],\n",
    "             [7,8,9]\n",
    "             ])"
   ]
  },
  {
   "cell_type": "code",
   "execution_count": null,
   "id": "9a2b94dc-3cca-48bb-84ec-9b3c3880d5b6",
   "metadata": {},
   "outputs": [],
   "source": []
  }
 ],
 "metadata": {
  "kernelspec": {
   "display_name": "Python 3 (ipykernel)",
   "language": "python",
   "name": "python3"
  },
  "language_info": {
   "codemirror_mode": {
    "name": "ipython",
    "version": 3
   },
   "file_extension": ".py",
   "mimetype": "text/x-python",
   "name": "python",
   "nbconvert_exporter": "python",
   "pygments_lexer": "ipython3",
   "version": "3.11.7"
  }
 },
 "nbformat": 4,
 "nbformat_minor": 5
}
