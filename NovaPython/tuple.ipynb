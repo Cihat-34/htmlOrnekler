{
 "cells": [
  {
   "cell_type": "markdown",
   "id": "26954c03-6238-4928-b875-034a798d0a73",
   "metadata": {},
   "source": [
    "## Tuple"
   ]
  },
  {
   "cell_type": "markdown",
   "id": "64e0af79-49eb-41b4-9948-f3e4a279a903",
   "metadata": {},
   "source": [
    "Listeler değiştirilebilir (mutable) fakat tuple lar değiştirilemez (inmutable) yapılardır."
   ]
  },
  {
   "cell_type": "code",
   "execution_count": 3,
   "id": "168bf35b-a016-4749-bece-27469d8aa0e7",
   "metadata": {
    "tags": []
   },
   "outputs": [
    {
     "data": {
      "text/plain": [
       "tuple"
      ]
     },
     "execution_count": 3,
     "metadata": {},
     "output_type": "execute_result"
    }
   ],
   "source": [
    "sayilar  = (1,2,3)\n",
    "type(sayilar)"
   ]
  },
  {
   "cell_type": "code",
   "execution_count": 5,
   "id": "b1799a9f-fb41-4383-bb47-6566fe2f16b2",
   "metadata": {
    "tags": []
   },
   "outputs": [
    {
     "data": {
      "text/plain": [
       "('a', 'b', 'c')"
      ]
     },
     "execution_count": 5,
     "metadata": {},
     "output_type": "execute_result"
    }
   ],
   "source": [
    "harfler = 'a','b','c'\n",
    "harfler"
   ]
  },
  {
   "cell_type": "code",
   "execution_count": 7,
   "id": "341abb8c-7a58-4165-bce2-9989f985db8b",
   "metadata": {
    "tags": []
   },
   "outputs": [
    {
     "data": {
      "text/plain": [
       "tuple"
      ]
     },
     "execution_count": 7,
     "metadata": {},
     "output_type": "execute_result"
    }
   ],
   "source": [
    "type(harfler)"
   ]
  },
  {
   "cell_type": "code",
   "execution_count": 15,
   "id": "57b4df7a-da0a-46f7-a6c5-da9c5bd7547e",
   "metadata": {
    "tags": []
   },
   "outputs": [
    {
     "data": {
      "text/plain": [
       "tuple"
      ]
     },
     "execution_count": 15,
     "metadata": {},
     "output_type": "execute_result"
    }
   ],
   "source": [
    "tek_tuple = ('a',)\n",
    "type(tek_tuple)"
   ]
  },
  {
   "cell_type": "code",
   "execution_count": 17,
   "id": "01c548f9-a29a-4360-87a0-63f6c4e6c4c5",
   "metadata": {
    "tags": []
   },
   "outputs": [
    {
     "data": {
      "text/plain": [
       "tuple"
      ]
     },
     "execution_count": 17,
     "metadata": {},
     "output_type": "execute_result"
    }
   ],
   "source": [
    "harf = tuple('b',)\n",
    "type(harf)"
   ]
  },
  {
   "cell_type": "code",
   "execution_count": 19,
   "id": "323ba673-1479-4784-a69a-babf2fda3e2c",
   "metadata": {
    "tags": []
   },
   "outputs": [
    {
     "data": {
      "text/plain": [
       "('p', 'y', 't', 'h', 'o', 'n')"
      ]
     },
     "execution_count": 19,
     "metadata": {},
     "output_type": "execute_result"
    }
   ],
   "source": [
    "metin = tuple('python')\n",
    "metin"
   ]
  },
  {
   "cell_type": "code",
   "execution_count": 21,
   "id": "deb998ed-d82e-4f8c-a063-533b6901d641",
   "metadata": {
    "tags": []
   },
   "outputs": [
    {
     "data": {
      "text/plain": [
       "'p'"
      ]
     },
     "execution_count": 21,
     "metadata": {},
     "output_type": "execute_result"
    }
   ],
   "source": [
    "# 0.indeksi alma \n",
    "metin[0]"
   ]
  },
  {
   "cell_type": "code",
   "execution_count": 23,
   "id": "39dfb7ef-89fa-43fb-a1c0-ae042175d5b1",
   "metadata": {
    "tags": []
   },
   "outputs": [
    {
     "data": {
      "text/plain": [
       "('y', 't', 'h', 'o', 'n')"
      ]
     },
     "execution_count": 23,
     "metadata": {},
     "output_type": "execute_result"
    }
   ],
   "source": [
    "metin[1:6]"
   ]
  },
  {
   "cell_type": "code",
   "execution_count": 29,
   "id": "de5e39be-b507-4212-b59c-d64bcd952d88",
   "metadata": {
    "tags": []
   },
   "outputs": [
    {
     "ename": "TypeError",
     "evalue": "'tuple' object does not support item assignment",
     "output_type": "error",
     "traceback": [
      "\u001b[1;31m---------------------------------------------------------------------------\u001b[0m",
      "\u001b[1;31mTypeError\u001b[0m                                 Traceback (most recent call last)",
      "Cell \u001b[1;32mIn[29], line 1\u001b[0m\n\u001b[1;32m----> 1\u001b[0m metin[\u001b[38;5;241m2\u001b[39m] \u001b[38;5;241m=\u001b[39m \u001b[38;5;124m'\u001b[39m\u001b[38;5;124ma\u001b[39m\u001b[38;5;124m'\u001b[39m\n",
      "\u001b[1;31mTypeError\u001b[0m: 'tuple' object does not support item assignment"
     ]
    }
   ],
   "source": [
    "metin[2] = 'a'"
   ]
  },
  {
   "cell_type": "markdown",
   "id": "b1efd055-3342-4497-b278-1cd5742679f0",
   "metadata": {},
   "source": [
    "Tuple değiştirilemez yani inmutable bir yapı olduğu için hata aldık.Eğer yanlış bir değer varsa bunun değiştirmenin yolu tuple ı tekrar atamaktır."
   ]
  },
  {
   "cell_type": "markdown",
   "id": "958c1708-4315-483b-98c8-bf17c9ebd4f3",
   "metadata": {},
   "source": [
    "**Tuple karşılaştırması**"
   ]
  },
  {
   "cell_type": "code",
   "execution_count": 33,
   "id": "f865cedb-c3d1-49b2-86bc-17e72f271e1d",
   "metadata": {
    "tags": []
   },
   "outputs": [
    {
     "data": {
      "text/plain": [
       "False"
      ]
     },
     "execution_count": 33,
     "metadata": {},
     "output_type": "execute_result"
    }
   ],
   "source": [
    "# sadece ilk elemanı karşılaştırır.\n",
    "(2,5,8) < (1,2,3)"
   ]
  },
  {
   "cell_type": "code",
   "execution_count": 35,
   "id": "1e53d12e-465e-4621-8621-d660c0786e54",
   "metadata": {
    "tags": []
   },
   "outputs": [
    {
     "data": {
      "text/plain": [
       "False"
      ]
     },
     "execution_count": 35,
     "metadata": {},
     "output_type": "execute_result"
    }
   ],
   "source": [
    "# her iki tuple da aynı değer ile başlıyorsa başlamadığı noktdan karşılaştırmaya başlanır.\n",
    "(2,3,5) > (2,4,6)"
   ]
  },
  {
   "cell_type": "code",
   "execution_count": 44,
   "id": "b1cca54c-c42d-45a8-b654-f60d6f5013e1",
   "metadata": {
    "tags": []
   },
   "outputs": [
    {
     "name": "stdout",
     "output_type": "stream",
     "text": [
      "Python C Swift\n"
     ]
    }
   ],
   "source": [
    "# bir listedeki değerlerimi değişkenlere atamak istiyorsam aşağıdaki yapıyı kullanabilirim\n",
    "a,b,c = ['Python','C','Swift']\n",
    "print(a,b,c)"
   ]
  },
  {
   "cell_type": "code",
   "execution_count": null,
   "id": "e9943ecd-c5a8-46cc-93fb-eab6fdf984aa",
   "metadata": {},
   "outputs": [],
   "source": []
  }
 ],
 "metadata": {
  "kernelspec": {
   "display_name": "Python 3 (ipykernel)",
   "language": "python",
   "name": "python3"
  },
  "language_info": {
   "codemirror_mode": {
    "name": "ipython",
    "version": 3
   },
   "file_extension": ".py",
   "mimetype": "text/x-python",
   "name": "python",
   "nbconvert_exporter": "python",
   "pygments_lexer": "ipython3",
   "version": "3.11.7"
  }
 },
 "nbformat": 4,
 "nbformat_minor": 5
}
