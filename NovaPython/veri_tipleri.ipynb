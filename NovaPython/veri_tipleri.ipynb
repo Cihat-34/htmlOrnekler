{
 "cells": [
  {
   "cell_type": "markdown",
   "id": "df26b0b3-513d-4ebc-8b6a-d4b8104621b9",
   "metadata": {},
   "source": [
    "## Python Veri Tipleri"
   ]
  },
  {
   "cell_type": "markdown",
   "id": "cd9dcd43-caa2-4e5d-8ec7-7373abfd731d",
   "metadata": {},
   "source": [
    "**Python Veri Tipleri**<br>\n",
    "    Text Tipi: **str**<br>\n",
    "    Numarik Tip: **int,float**<br>\n",
    "    Liste Tipleri: **list,tuple,range**<br>\n",
    "    İlişki Tipi: **dict**<br>\n",
    "    Küme Tipi: **set**<br>\n",
    "    Boolean Tip: **bool**<br>"
   ]
  },
  {
   "cell_type": "code",
   "execution_count": 1,
   "id": "de814e42-79e1-448a-924c-abcf96930b6e",
   "metadata": {},
   "outputs": [
    {
     "name": "stdout",
     "output_type": "stream",
     "text": [
      "<class 'float'>\n"
     ]
    }
   ],
   "source": [
    "kesirli_sayi = 4.5\n",
    "print(type(kesirli_sayi))"
   ]
  },
  {
   "cell_type": "code",
   "execution_count": 2,
   "id": "46416e0c-41cc-4691-ae5f-9a6e819620bb",
   "metadata": {},
   "outputs": [
    {
     "data": {
      "text/plain": [
       "list"
      ]
     },
     "execution_count": 2,
     "metadata": {},
     "output_type": "execute_result"
    }
   ],
   "source": [
    "liste = [1,2,3,4,5]\n",
    "type(liste)\n"
   ]
  },
  {
   "cell_type": "code",
   "execution_count": 3,
   "id": "6b1ce7ec-e5ef-4078-a76a-1ca32954f288",
   "metadata": {},
   "outputs": [
    {
     "name": "stdout",
     "output_type": "stream",
     "text": [
      "[1, 2, 3, 4, 5]\n"
     ]
    }
   ],
   "source": [
    "print(liste)"
   ]
  },
  {
   "cell_type": "code",
   "execution_count": 5,
   "id": "ef5fcb4e-e414-4f27-b19e-562c431cf097",
   "metadata": {},
   "outputs": [
    {
     "data": {
      "text/plain": [
       "tuple"
      ]
     },
     "execution_count": 5,
     "metadata": {},
     "output_type": "execute_result"
    }
   ],
   "source": [
    "harfler = ('a','b','c','d')\n",
    "type(harfler)"
   ]
  },
  {
   "cell_type": "code",
   "execution_count": 6,
   "id": "4dfddf56-1540-41bc-9f9a-84c7e6cb5eef",
   "metadata": {},
   "outputs": [
    {
     "data": {
      "text/plain": [
       "range"
      ]
     },
     "execution_count": 6,
     "metadata": {},
     "output_type": "execute_result"
    }
   ],
   "source": [
    "onluk = range(10)\n",
    "type(onluk)\n"
   ]
  },
  {
   "cell_type": "code",
   "execution_count": 7,
   "id": "b46b9e82-60b3-4be9-9d18-ae6692187db5",
   "metadata": {},
   "outputs": [
    {
     "name": "stdout",
     "output_type": "stream",
     "text": [
      "range(0, 10)\n"
     ]
    }
   ],
   "source": [
    "print(onluk)"
   ]
  },
  {
   "cell_type": "code",
   "execution_count": 11,
   "id": "af8794bd-fba1-49a2-b9be-8bba78f57b0f",
   "metadata": {},
   "outputs": [],
   "source": [
    "calisan = {\n",
    "    \"ad\" : \"Cihat\",\n",
    "    \"soyad\" : \"Yeşiloğlu\",\n",
    "    \"maaş\" :  \"55555\",\n",
    "    \"uzmanlık\" : \"Python\"\n",
    "}"
   ]
  },
  {
   "cell_type": "code",
   "execution_count": 12,
   "id": "29fb0e43-072d-49a5-b81a-50896c3c2cff",
   "metadata": {},
   "outputs": [
    {
     "data": {
      "text/plain": [
       "dict"
      ]
     },
     "execution_count": 12,
     "metadata": {},
     "output_type": "execute_result"
    }
   ],
   "source": [
    "type(calisan)"
   ]
  },
  {
   "cell_type": "code",
   "execution_count": 13,
   "id": "bd530492-ea3f-43c0-a357-794a6b428569",
   "metadata": {},
   "outputs": [
    {
     "name": "stdout",
     "output_type": "stream",
     "text": [
      "{'ad': 'Cihat', 'soyad': 'Yeşiloğlu', 'maaş': '55555', 'uzmanlık': 'Python'}\n"
     ]
    }
   ],
   "source": [
    "print(calisan)"
   ]
  },
  {
   "cell_type": "code",
   "execution_count": 14,
   "id": "f06453da-bf58-4d8e-806e-4d97b4618d42",
   "metadata": {},
   "outputs": [],
   "source": [
    "kume = set([1,2,3,4,5])"
   ]
  },
  {
   "cell_type": "code",
   "execution_count": 15,
   "id": "b86c85b3-915a-4fc0-8bab-5687f42c91df",
   "metadata": {},
   "outputs": [
    {
     "data": {
      "text/plain": [
       "set"
      ]
     },
     "execution_count": 15,
     "metadata": {},
     "output_type": "execute_result"
    }
   ],
   "source": [
    "type(kume)"
   ]
  },
  {
   "cell_type": "code",
   "execution_count": 16,
   "id": "60c96689-cc7c-4698-a012-afec418e91dc",
   "metadata": {},
   "outputs": [
    {
     "name": "stdout",
     "output_type": "stream",
     "text": [
      "{1, 2, 3, 4, 5}\n"
     ]
    }
   ],
   "source": [
    "print(kume)"
   ]
  },
  {
   "cell_type": "code",
   "execution_count": 17,
   "id": "44f09130-0ab6-41aa-afef-521bc69a7a5c",
   "metadata": {},
   "outputs": [
    {
     "data": {
      "text/plain": [
       "bool"
      ]
     },
     "execution_count": 17,
     "metadata": {},
     "output_type": "execute_result"
    }
   ],
   "source": [
    "dogru = True\n",
    "yanlıs = False\n",
    "type(dogru)"
   ]
  },
  {
   "cell_type": "code",
   "execution_count": null,
   "id": "d4b7b56d-c6ba-4424-86b3-a0e378b38896",
   "metadata": {},
   "outputs": [],
   "source": []
  }
 ],
 "metadata": {
  "kernelspec": {
   "display_name": "Python 3 (ipykernel)",
   "language": "python",
   "name": "python3"
  },
  "language_info": {
   "codemirror_mode": {
    "name": "ipython",
    "version": 3
   },
   "file_extension": ".py",
   "mimetype": "text/x-python",
   "name": "python",
   "nbconvert_exporter": "python",
   "pygments_lexer": "ipython3",
   "version": "3.11.7"
  }
 },
 "nbformat": 4,
 "nbformat_minor": 5
}
