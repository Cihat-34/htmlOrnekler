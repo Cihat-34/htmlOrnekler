{
 "cells": [
  {
   "cell_type": "markdown",
   "id": "016f8cfd-104e-4d81-909a-1a51de568884",
   "metadata": {
    "tags": []
   },
   "source": [
    "## OOP"
   ]
  },
  {
   "cell_type": "markdown",
   "id": "10bb613d-ef06-4a9f-9c36-246482bb2a1c",
   "metadata": {},
   "source": [
    "nesne -> etradımızdaki her şey\n",
    "\n",
    "\n",
    "OOP'de nesnenin amacı kod tekrarını ortadan kaldırır.\n",
    "\n",
    "\n",
    "DRY -> do not repeat yourself.\n",
    "\n",
    "\n",
    "Python'da nesnelerin özellikleri:\n",
    "* Öznitelikleri (attribute) Örnek : ad,yaş,renk\n",
    "* Davranış (method) örnek: Penguen yüzebilir yürüyebilir.\n",
    "\n",
    "\n",
    "Class nesnenin mimari çizimidir. Nesnenin neye benzediğini anlatır.\n",
    "\n",
    "Örneğin: Bina bir nesnedir. O binanın kağıttaki çizimi classtır.Nesne classın ete kemiğe bölünmüş halidir.\n",
    "\n",
    "Nesne yaratmak -> instance\n",
    "\n",
    "Class tanımlandığında bir nesne oluşmaz nesne oluşması için classı çağırmalıyız.\n",
    "\n",
    "Method = Fonksiyon,Class içindeki fonksiyonlara method denir."
   ]
  },
  {
   "cell_type": "code",
   "execution_count": 77,
   "id": "f05f599a-19fb-4319-a209-fb4414e1c61d",
   "metadata": {
    "tags": []
   },
   "outputs": [],
   "source": [
    "class Penguen:\n",
    "    #class attribute\n",
    "    tur = 'kuş'\n",
    "    \n",
    "    #instance attribute\n",
    "    def __init__(self,ad,yas,renk):\n",
    "        self.ad = ad\n",
    "        self.yas = yas\n",
    "        self.renk = renk"
   ]
  },
  {
   "cell_type": "markdown",
   "id": "a72bcc44-66f1-4ae1-916c-a670308f6b0a",
   "metadata": {},
   "source": [
    "self: o anki yaratılan penguenin özelliklerini tanımlar.\n",
    "\n",
    "attributelara . ile erişilir\n",
    "\n",
    "class attribute erişmek için __class__ kullanılır."
   ]
  },
  {
   "cell_type": "code",
   "execution_count": 79,
   "id": "a57282cf-9dd5-4a88-b9d3-7d0d608b09f3",
   "metadata": {
    "tags": []
   },
   "outputs": [],
   "source": [
    "# penguen yaratalım\n",
    "kral = Penguen(\"Kral Penguen\",4,\"Turuncu\")\n",
    "sarigoz = Penguen(\"Sarı gözlü Penguen\",1,\"kahverengi\")"
   ]
  },
  {
   "cell_type": "code",
   "execution_count": 80,
   "id": "6e5c2d73-8dee-48c0-b9cc-1ceb49466c2a",
   "metadata": {
    "tags": []
   },
   "outputs": [
    {
     "name": "stdout",
     "output_type": "stream",
     "text": [
      "Kral Penguen'in türü kuş\n"
     ]
    }
   ],
   "source": [
    "print(\"{0}'in türü {1}\".format(kral.ad,kral.__class__.tur))"
   ]
  },
  {
   "cell_type": "code",
   "execution_count": 81,
   "id": "82350d4a-78f8-4756-aeda-c90dd02208d5",
   "metadata": {
    "tags": []
   },
   "outputs": [
    {
     "name": "stdout",
     "output_type": "stream",
     "text": [
      "Sarı gözlü Penguen'in türü kuş\n"
     ]
    }
   ],
   "source": [
    "print(\"{0}'in türü {1}\".format(sarigoz.ad,sarigoz.__class__.tur))"
   ]
  },
  {
   "cell_type": "code",
   "execution_count": 82,
   "id": "baf92b8b-bc23-43a8-b2cc-5a310745f991",
   "metadata": {
    "tags": []
   },
   "outputs": [
    {
     "name": "stdout",
     "output_type": "stream",
     "text": [
      "Sarı gözlü Penguen'in yaşı: 1 rengi: kahverengi \n"
     ]
    }
   ],
   "source": [
    "print(\"{0}'in yaşı: {1} rengi: {2} \".format(sarigoz.ad,sarigoz.yas,sarigoz.renk))"
   ]
  },
  {
   "cell_type": "markdown",
   "id": "9def40be-8da8-492f-987e-e0138201e136",
   "metadata": {},
   "source": [
    "__ init__(self): Bir classtan nesne oluşturulurken ilk çağırılan yapıcı methodtur (contructor)\n",
    " \n",
    "__ init__(self): instance oluşturur.\n",
    " \n",
    " self o anda yaratılan nesneyi anlatır."
   ]
  },
  {
   "cell_type": "markdown",
   "id": "9c84879f-be0c-48ce-b145-02889a26a860",
   "metadata": {},
   "source": [
    "**Methodlar(Davranışlar)**"
   ]
  },
  {
   "cell_type": "code",
   "execution_count": 94,
   "id": "62b430a3-b3e0-4818-9b65-a5f685eb500e",
   "metadata": {
    "tags": []
   },
   "outputs": [],
   "source": [
    "class Penguen:\n",
    "    tur = 'Penguen'\n",
    "    def __init__(self,ad,yas,renk):\n",
    "        self.ad = ad\n",
    "        self.yas = yas\n",
    "        self.renk = renk\n",
    "    \n",
    "    # Method\n",
    "    def yuzme(self):\n",
    "        print(\"{0} Pengueni yüzebilir\".format(self.ad))\n",
    "    def sarki_soyle(self,soyleyebilir_mi = False):\n",
    "        if soyleyebilir_mi:\n",
    "            return f\"{self.ad} şarkı söyleyebilir.\"\n",
    "        else:\n",
    "            return \"Şarkı söyleyemez\""
   ]
  },
  {
   "cell_type": "code",
   "execution_count": 96,
   "id": "8420896f-ab8b-4f03-958d-4cceb0b8687f",
   "metadata": {
    "tags": []
   },
   "outputs": [],
   "source": [
    "makaroni = Penguen(\"Makaroni\",8,\"Siyah\")"
   ]
  },
  {
   "cell_type": "code",
   "execution_count": 98,
   "id": "950c5d31-badb-43aa-979c-ae1c66499565",
   "metadata": {
    "tags": []
   },
   "outputs": [
    {
     "name": "stdout",
     "output_type": "stream",
     "text": [
      "Makaroni Pengueni yüzebilir\n"
     ]
    }
   ],
   "source": [
    "makaroni.yuzme()"
   ]
  },
  {
   "cell_type": "code",
   "execution_count": 100,
   "id": "212bb181-0d59-49c8-a07b-e9a801d931b8",
   "metadata": {
    "tags": []
   },
   "outputs": [
    {
     "name": "stdout",
     "output_type": "stream",
     "text": [
      "Makaroni şarkı söyleyebilir.\n"
     ]
    }
   ],
   "source": [
    "print(makaroni.sarki_soyle(True))"
   ]
  },
  {
   "cell_type": "markdown",
   "id": "9f5cd2ba-5821-438a-a054-b58a099b302c",
   "metadata": {},
   "source": [
    "**Kalıtım (intheritance)**"
   ]
  },
  {
   "cell_type": "markdown",
   "id": "eec220f3-c878-4f51-b3d5-b4b609835ef8",
   "metadata": {},
   "source": [
    "Aynen gerçek hayattaki gibi OOP'de de kalıtım vardır.\n",
    "\n",
    "Kalıtım alan class -> child class\n",
    "\n",
    "Kalıtım veren class -> parent class,base class "
   ]
  },
  {
   "cell_type": "code",
   "execution_count": 106,
   "id": "cd109f5e-4ba5-44e2-be3e-5ad1951a7c6a",
   "metadata": {
    "tags": []
   },
   "outputs": [],
   "source": [
    "class Kus:\n",
    "    def __init__(self):\n",
    "        print(\"Kuş yaratıldı.\")\n",
    "    def kimim_ben(self):\n",
    "        print(\"Ben bir kuşum.\")\n",
    "    def ucma(self):\n",
    "        print(\"kuşlar uçabilir.\")\n",
    "        "
   ]
  },
  {
   "cell_type": "code",
   "execution_count": 110,
   "id": "3b395b21-4419-4994-80cb-1c984af00edb",
   "metadata": {
    "tags": []
   },
   "outputs": [
    {
     "name": "stdout",
     "output_type": "stream",
     "text": [
      "Kuş yaratıldı.\n",
      "Ben bir kuşum.\n",
      "kuşlar uçabilir.\n"
     ]
    }
   ],
   "source": [
    "minik_kus = Kus()\n",
    "minik_kus.kimim_ben()\n",
    "minik_kus.ucma()"
   ]
  },
  {
   "cell_type": "code",
   "execution_count": 116,
   "id": "836467ac-a459-48eb-95c3-2c6f22d6df88",
   "metadata": {
    "tags": []
   },
   "outputs": [],
   "source": [
    "# Kuş türleri için bir ana classımız var.\n",
    "# Baykuşta bir kuş türü.\n",
    "\n",
    "class Baykus(Kus):\n",
    "    # Bir sınıf hangi sınıftan kalıtım alınıyosa içine ana sınıf yazılır.\n",
    "    def __init__(self):\n",
    "        # önce ana sınıfın super(), yani __init__ methodunu çağıracağız.\n",
    "        super().__init__()\n",
    "        print(\"Baykuş yaratıldı.\")\n",
    "        # kimim_ben methodunu override ettik yani ezdik. \n",
    "    def kimim_ben(self):\n",
    "        print(\"Ben bir baykuşum.\")\n",
    "    def gece_gorusu(self):\n",
    "        print(\"Baykuşun gece görüşü vardır.\")\n",
    "        "
   ]
  },
  {
   "cell_type": "code",
   "execution_count": 118,
   "id": "6b6b6081-64ef-40f4-abe6-fad972d02e7f",
   "metadata": {
    "tags": []
   },
   "outputs": [
    {
     "name": "stdout",
     "output_type": "stream",
     "text": [
      "Kuş yaratıldı.\n",
      "Baykuş yaratıldı.\n"
     ]
    }
   ],
   "source": [
    "kucuk_baykus = Baykus()"
   ]
  },
  {
   "cell_type": "code",
   "execution_count": 120,
   "id": "b79d0d64-43f1-4577-91af-d12c16a3296c",
   "metadata": {
    "tags": []
   },
   "outputs": [
    {
     "name": "stdout",
     "output_type": "stream",
     "text": [
      "Ben bir baykuşum.\n"
     ]
    }
   ],
   "source": [
    "kucuk_baykus.kimim_ben()"
   ]
  },
  {
   "cell_type": "code",
   "execution_count": 122,
   "id": "9867b6dc-3d85-43ac-b1dd-d4f4b91bc818",
   "metadata": {
    "tags": []
   },
   "outputs": [
    {
     "name": "stdout",
     "output_type": "stream",
     "text": [
      "kuşlar uçabilir.\n"
     ]
    }
   ],
   "source": [
    "kucuk_baykus.ucma()"
   ]
  },
  {
   "cell_type": "code",
   "execution_count": 124,
   "id": "10ff2523-a55c-4e8d-9838-6e16cdf4ebba",
   "metadata": {
    "tags": []
   },
   "outputs": [
    {
     "name": "stdout",
     "output_type": "stream",
     "text": [
      "Baykuşun gece görüşü vardır.\n"
     ]
    }
   ],
   "source": [
    "kucuk_baykus.gece_gorusu()"
   ]
  },
  {
   "cell_type": "markdown",
   "id": "6776508f-aef6-4197-a00d-3adeb09f67a0",
   "metadata": {
    "tags": []
   },
   "source": [
    "**Encapsulation**"
   ]
  },
  {
   "cell_type": "markdown",
   "id": "c219a372-b6aa-4c4e-9e91-270dedd64cc5",
   "metadata": {},
   "source": [
    "OOP'de bizim classımız içindeki attributelara erişilmesini istemeyebiliriz.\n",
    "\n",
    "Attribute gizleme __ ile yapılır.\n",
    "\n",
    "İki alt tireli __name private olmuş olur."
   ]
  },
  {
   "cell_type": "code",
   "execution_count": 140,
   "id": "8cd574bd-a686-488c-878d-fed1b6501404",
   "metadata": {
    "tags": []
   },
   "outputs": [
    {
     "ename": "AttributeError",
     "evalue": "'Telefon' object has no attribute '__fiyat'",
     "output_type": "error",
     "traceback": [
      "\u001b[1;31m---------------------------------------------------------------------------\u001b[0m",
      "\u001b[1;31mAttributeError\u001b[0m                            Traceback (most recent call last)",
      "Cell \u001b[1;32mIn[140], line 10\u001b[0m\n\u001b[0;32m      8\u001b[0m \u001b[38;5;66;03m# Şimdi telefon nesnesi yaratalım.\u001b[39;00m\n\u001b[0;32m      9\u001b[0m telefon \u001b[38;5;241m=\u001b[39m Telefon()\n\u001b[1;32m---> 10\u001b[0m \u001b[38;5;28mprint\u001b[39m(telefon\u001b[38;5;241m.\u001b[39m__fiyat)\n",
      "\u001b[1;31mAttributeError\u001b[0m: 'Telefon' object has no attribute '__fiyat'"
     ]
    }
   ],
   "source": [
    "#Telefon sınıfımız olsun\n",
    "class Telefon:\n",
    "    def __init__(self):\n",
    "        #Telefonun fiyatını belirleyelim.\n",
    "        self.__fiyat = 1000\n",
    "    def sat(self):\n",
    "        print(\"Satış fiyatı: {}\".format(self.__fiyat))\n",
    "# Şimdi telefon nesnesi yaratalım.\n",
    "telefon = Telefon()\n",
    "print(telefon.__fiyat)"
   ]
  },
  {
   "cell_type": "code",
   "execution_count": 142,
   "id": "2e8b7ff7-faf8-48b6-94f7-1d671c594278",
   "metadata": {
    "tags": []
   },
   "outputs": [
    {
     "name": "stdout",
     "output_type": "stream",
     "text": [
      "Satış fiyatı: 1000\n"
     ]
    }
   ],
   "source": [
    "telefon.sat()"
   ]
  },
  {
   "cell_type": "code",
   "execution_count": 144,
   "id": "0dafc950-e078-4c8a-a668-245949419515",
   "metadata": {
    "tags": []
   },
   "outputs": [],
   "source": [
    "# Telefonun fiyatını dışarıdan değiştirmeye çalışalım.\n",
    "telefon.__fiyat = 5000"
   ]
  },
  {
   "cell_type": "code",
   "execution_count": 146,
   "id": "755987ab-8931-497a-a024-bf531a3352f0",
   "metadata": {
    "tags": []
   },
   "outputs": [
    {
     "name": "stdout",
     "output_type": "stream",
     "text": [
      "Satış fiyatı: 1000\n"
     ]
    }
   ],
   "source": [
    "#Tekrar 1000 tl gelmesinin sebebi -> telefon__fiyat değil\n",
    "telefon.sat()"
   ]
  },
  {
   "cell_type": "code",
   "execution_count": 148,
   "id": "718f4de1-4098-4f41-8b6b-d6130bb4e00f",
   "metadata": {
    "tags": []
   },
   "outputs": [],
   "source": [
    "#Gerçekten içindeki fiyatı set etmek istersek.\n",
    "class Telefon:\n",
    "    def __init__(self):\n",
    "        #Telefonun fiyatını belirleyelim.\n",
    "        self.__fiyat = 1000\n",
    "    def sat(self):\n",
    "        print(\"Satış fiyatı: {}\".format(self.__fiyat))\n",
    "    def set_fiyat(self,yeni_fiyat):\n",
    "        self.__fiyat = yeni_fiyat"
   ]
  },
  {
   "cell_type": "code",
   "execution_count": 152,
   "id": "706688fd-ddcb-4ceb-87fb-a267b6177452",
   "metadata": {
    "tags": []
   },
   "outputs": [
    {
     "name": "stdout",
     "output_type": "stream",
     "text": [
      "Satış fiyatı: 1000\n",
      "Satış fiyatı: 6000\n"
     ]
    }
   ],
   "source": [
    "telefon = Telefon()\n",
    "telefon.sat()\n",
    "telefon.set_fiyat(6000)\n",
    "telefon.sat()"
   ]
  },
  {
   "cell_type": "code",
   "execution_count": 154,
   "id": "8dada3fd-9f02-4257-9daa-ef1c9849c6b5",
   "metadata": {
    "tags": []
   },
   "outputs": [],
   "source": [
    "# Sadece fiyatı görmek istiyosam\n",
    "# Bu bir veriyi almak olduğu için buna get_etmek denir"
   ]
  },
  {
   "cell_type": "code",
   "execution_count": 156,
   "id": "63ebce82-f4e7-4c2b-b611-d228624adfae",
   "metadata": {
    "tags": []
   },
   "outputs": [],
   "source": [
    "class Telefon:\n",
    "    def __init__(self):\n",
    "        #Telefonun fiyatını belirleyelim.\n",
    "        self.__fiyat = 1000\n",
    "    def sat(self):\n",
    "        print(\"Satış fiyatı: {}\".format(self.__fiyat))\n",
    "    def set_fiyat(self,yeni_fiyat):\n",
    "        self.__fiyat = yeni_fiyat\n",
    "    def get_fiyat(self):\n",
    "        return self.__fiyat"
   ]
  },
  {
   "cell_type": "code",
   "execution_count": 158,
   "id": "6ee77d29-4904-4e68-b972-48ec45bbf696",
   "metadata": {
    "tags": []
   },
   "outputs": [
    {
     "data": {
      "text/plain": [
       "1000"
      ]
     },
     "execution_count": 158,
     "metadata": {},
     "output_type": "execute_result"
    }
   ],
   "source": [
    "telefon = Telefon()\n",
    "telefon.get_fiyat()"
   ]
  },
  {
   "cell_type": "code",
   "execution_count": 6,
   "id": "a27be16f-45e2-4ff4-908c-f35a70b8c9fd",
   "metadata": {},
   "outputs": [
    {
     "name": "stdout",
     "output_type": "stream",
     "text": [
      "Ahmet\n",
      "Yürüyor\n",
      "Koşuyor\n",
      "Duruyor\n"
     ]
    }
   ],
   "source": [
    "class İnsan:\n",
    "    def __init__(self,name,surname,boy):\n",
    "        self.name = name\n",
    "        self.surname = surname\n",
    "        self.boy = boy\n",
    "    \n",
    "    def yurur(self):\n",
    "        print(\"Yürüyor\")\n",
    "        \n",
    "    def kosuyor(self):\n",
    "        print(\"Koşuyor\")\n",
    "        \n",
    "    def dursun(self):\n",
    "        print(\"Duruyor\")\n",
    "        \n",
    "\n",
    "insan1 = İnsan(\"Ahmet\",\"veli\",24)\n",
    "\n",
    "print(f\"{insan1.name}\")\n",
    "insan1.yurur()\n",
    "insan1.kosuyor()\n",
    "insan1.dursun()"
   ]
  },
  {
   "cell_type": "code",
   "execution_count": 22,
   "id": "401e5491-0a01-46b7-b961-74067a432a79",
   "metadata": {
    "tags": []
   },
   "outputs": [
    {
     "name": "stdout",
     "output_type": "stream",
     "text": [
      "1000\n"
     ]
    }
   ],
   "source": [
    "class Employed:\n",
    "    \n",
    "    def __init__(self,name,surname,department,salary,zam):\n",
    "        self.name = name\n",
    "        self.surname = surname\n",
    "        self.department = department\n",
    "        self.salary = salary\n",
    "        self.zam = zam\n",
    "    def calısıyor(self):\n",
    "        print(\"Bu eleman çalışıyor\")\n",
    "    def kovuldu(self):\n",
    "        print(\"kovuldu\")\n",
    "\n",
    "\n",
    "calisan1 = Employed(\"Ahmet\",\"Can\",\"Software\",1000,0.20)\n",
    "print(f\"{calisan1.salary}\")"
   ]
  },
  {
   "cell_type": "code",
   "execution_count": 32,
   "id": "fec10cfc-fb1e-4568-adfa-e428f183a3eb",
   "metadata": {
    "tags": []
   },
   "outputs": [
    {
     "name": "stdout",
     "output_type": "stream",
     "text": [
      "Anna Karanina\n",
      "Dostoyevski\n",
      "1100\n",
      "Kitap eklendi\n"
     ]
    }
   ],
   "source": [
    "class Kutuphane:\n",
    "    def __init__(self,kitap_adi,yazar_adi,sayfa_sayisi):\n",
    "        self.kitap_adi = kitap_adi\n",
    "        self.yazar_adi = yazar_adi\n",
    "        self.sayfa_sayisi = sayfa_sayisi\n",
    "    def kitap_ekle(self):\n",
    "        return(\"Kitap eklendi\")\n",
    "    def kitap_cikar(self):\n",
    "        return(\"Kitap çıkarıldı\")\n",
    "\n",
    "\n",
    "kitap1 = Kutuphane(\"Anna Karanina\",\"Dostoyevski\",1100)\n",
    "print(f\"{kitap1.kitap_adi}\")\n",
    "print(f\"{kitap1.yazar_adi}\")\n",
    "print(f\"{kitap1.sayfa_sayisi}\")\n",
    "print(f\"{kitap1.kitap_ekle()}\")\n"
   ]
  },
  {
   "cell_type": "code",
   "execution_count": 54,
   "id": "adb2676f-d78f-4928-afb5-44e0821b01a1",
   "metadata": {
    "tags": []
   },
   "outputs": [
    {
     "name": "stdout",
     "output_type": "stream",
     "text": [
      "Minnoş\n",
      "Bu hayvan beslenir\n",
      "None\n",
      "Pamuk\n",
      "Gece görüş\n",
      "None\n",
      "Piton\n",
      "Bu hayvan beslenir\n",
      "None\n",
      "Bu hayvan sürünür\n",
      "None\n"
     ]
    }
   ],
   "source": [
    "class Animal:\n",
    "    def __init__(self,isim,yas,tur):\n",
    "        self.isim = isim\n",
    "        self.yas = yas\n",
    "        self.tur = tur\n",
    "    \n",
    "    def beslenme(self):\n",
    "        print(\"Bu hayvan beslenir\")\n",
    "\n",
    "\n",
    "\n",
    "hayvan1 = Animal(\"Minnoş\",\"2\",\"kedi\")\n",
    "print(hayvan1.isim)\n",
    "\n",
    "class Kedigiller(Animal):\n",
    "    \n",
    "    def seslendirme(self):\n",
    "        print(\"Seslendirme\")\n",
    "    def gorus(self):\n",
    "        print(\"Gece görüş\")\n",
    "\n",
    "kedi1 = Kedigiller(\"Minnoş\",\"2\",\"kedi\")\n",
    "\n",
    "print(kedi1.beslenme())\n",
    "\n",
    "kedi2 = Kedigiller(\"Pamuk\",\"3\",\"Kedi\")\n",
    "print(kedi2.isim)\n",
    "print(kedi2.gorus())\n",
    "\n",
    "class Sürüngenler(Animal):\n",
    "    def surunur(self):\n",
    "        print(\"Bu hayvan sürünür\")\n",
    "\n",
    "print(yilan1.isim)\n",
    "yilan1 = Sürüngenler(\"Piton\",\"4\",\"Yılan\")\n",
    "\n",
    "print(yilan1.beslenme())\n",
    "print(yilan1.surunur())"
   ]
  },
  {
   "cell_type": "code",
   "execution_count": 68,
   "id": "5c22c2a1-eb55-45b9-bdc9-4ca24d8bdb74",
   "metadata": {
    "tags": []
   },
   "outputs": [
    {
     "name": "stdout",
     "output_type": "stream",
     "text": [
      "Harry Potter\n",
      "Kitap Silindi\n"
     ]
    }
   ],
   "source": [
    "#kütüphane yönetim sistemi kitap eklemesilme ve listeleme olacak şekilde 3 methodu olacak\n",
    "class Library: #class oluşturdum\n",
    "    \n",
    "    def __init__(self):\n",
    "        self.books = []\n",
    "        \n",
    "    def AddBook(self,book):\n",
    "        self.books.append(book)\n",
    "        \n",
    "    def RemoveBook(self,book):\n",
    "        if book in self.books:\n",
    "            self.books.remove(book)\n",
    "            print(\"Kitap Silindi\")\n",
    "        else:\n",
    "            print(\"Kitap bulunamadı\")\n",
    "    def ListBooks(self):\n",
    "        for book in self.books:\n",
    "            print(book)\n",
    "\n",
    "\n",
    "kitap1 = Library()\n",
    "kitap1.AddBook(\"Harry Potter\")\n",
    "kitap1.ListBooks()\n",
    "kitap1.RemoveBook(\"Harry Potter\")"
   ]
  },
  {
   "cell_type": "code",
   "execution_count": 82,
   "id": "8efbba33-8826-444a-80f4-64f91fa104d0",
   "metadata": {
    "tags": []
   },
   "outputs": [],
   "source": [
    "class Animal:\n",
    "    def __init__(self):\n",
    "        self.Animals = []\n",
    "        \n",
    "    def __init__(self,isim,yas,tur):\n",
    "        self.isim = isim\n",
    "        self.yas = yas\n",
    "        self.tur = tur\n",
    "    \n",
    "    def beslenme(self,Animals):\n",
    "        print(\"Bu hayvan beslenir\")\n",
    "    \n",
    "class Kedigiller(Animal):\n",
    "    def seslenme(self):\n",
    "        print(\"Bu hayvan miyavlar\")\n",
    "    \n",
    "    \n"
   ]
  },
  {
   "cell_type": "code",
   "execution_count": 116,
   "id": "625d143e-521b-4d6f-843e-cf568b6349c3",
   "metadata": {
    "tags": []
   },
   "outputs": [
    {
     "name": "stdout",
     "output_type": "stream",
     "text": [
      "Aslan\n"
     ]
    },
    {
     "data": {
      "text/plain": [
       "['Aslan']"
      ]
     },
     "execution_count": 116,
     "metadata": {},
     "output_type": "execute_result"
    }
   ],
   "source": [
    "class Animal:\n",
    "    animals = []\n",
    "    def __init__(self):\n",
    "        Animal.Animals = []\n",
    "        \n",
    "        \n",
    "    def ekleme(self,name):\n",
    "        self.Animals.append(name)\n",
    "        return(\"Ekleme yapıldı\")\n",
    "        \n",
    "    def beslenme(self,name):\n",
    "        return(\"Gezdirildi\")\n",
    "    def showme(self):\n",
    "        for i in self.Animals:\n",
    "            print(i)\n",
    "\n",
    "class Kedigiller:\n",
    "    def gezdirme(self,name):\n",
    "        return(\"Gezdirildi\")\n",
    "    \n",
    "\n",
    "animal1 = Animal()\n",
    "animal1.ekleme(\"Kedi\")\n",
    "animal2 = Animal()\n",
    "animal2.ekleme(\"Kurt\")\n",
    "animal3 = Animal()\n",
    "animal3.ekleme(\"Tilki\")\n",
    "animal4 = Animal()\n",
    "animal4.ekleme(\"Aslan\")\n",
    "animal4.showme()\n",
    "animal4.Animals"
   ]
  },
  {
   "cell_type": "code",
   "execution_count": null,
   "id": "f78f3a83-66c3-448a-8bf0-60f0401b6386",
   "metadata": {},
   "outputs": [],
   "source": []
  },
  {
   "cell_type": "code",
   "execution_count": null,
   "id": "05ac5e80-094b-4760-975e-4f45f0714a6a",
   "metadata": {},
   "outputs": [],
   "source": []
  }
 ],
 "metadata": {
  "kernelspec": {
   "display_name": "Python 3 (ipykernel)",
   "language": "python",
   "name": "python3"
  },
  "language_info": {
   "codemirror_mode": {
    "name": "ipython",
    "version": 3
   },
   "file_extension": ".py",
   "mimetype": "text/x-python",
   "name": "python",
   "nbconvert_exporter": "python",
   "pygments_lexer": "ipython3",
   "version": "3.11.7"
  }
 },
 "nbformat": 4,
 "nbformat_minor": 5
}
