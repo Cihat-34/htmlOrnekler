{
 "cells": [
  {
   "cell_type": "code",
   "execution_count": 1,
   "id": "cd4a9522-0715-4990-8b11-7d35fe624714",
   "metadata": {},
   "outputs": [],
   "source": [
    "sayilar = [1,2,3,4,5,6,7,8]"
   ]
  },
  {
   "cell_type": "code",
   "execution_count": 2,
   "id": "5fe0b61d-4b23-41da-84bf-2b203d58d88b",
   "metadata": {},
   "outputs": [
    {
     "data": {
      "text/plain": [
       "8"
      ]
     },
     "execution_count": 2,
     "metadata": {},
     "output_type": "execute_result"
    }
   ],
   "source": [
    "sayilar[-1]"
   ]
  },
  {
   "cell_type": "code",
   "execution_count": 3,
   "id": "b926dc03-1f74-4c7a-9a17-c2e433c74523",
   "metadata": {},
   "outputs": [
    {
     "data": {
      "text/plain": [
       "[4, 5, 6, 7, 8]"
      ]
     },
     "execution_count": 3,
     "metadata": {},
     "output_type": "execute_result"
    }
   ],
   "source": [
    "sayilar[3:8]"
   ]
  },
  {
   "cell_type": "code",
   "execution_count": 4,
   "id": "8d13b99b-9585-4d46-9543-6d7acbd4a260",
   "metadata": {},
   "outputs": [
    {
     "data": {
      "text/plain": [
       "[1, 2, 3, 4, 5, 9, 7, 8]"
      ]
     },
     "execution_count": 4,
     "metadata": {},
     "output_type": "execute_result"
    }
   ],
   "source": [
    "sayilar[5] = 9\n",
    "sayilar"
   ]
  },
  {
   "cell_type": "code",
   "execution_count": 5,
   "id": "32933c94-0f8b-452b-8eb6-84f0b7f03951",
   "metadata": {},
   "outputs": [
    {
     "data": {
      "text/plain": [
       "[9, 8, 7, 5, 4, 3, 2, 1]"
      ]
     },
     "execution_count": 5,
     "metadata": {},
     "output_type": "execute_result"
    }
   ],
   "source": [
    "sayilar.sort(reverse = True)\n",
    "sayilar"
   ]
  },
  {
   "cell_type": "code",
   "execution_count": 6,
   "id": "f55489e2-ad93-47be-9cc5-e00b4dd73a9d",
   "metadata": {},
   "outputs": [
    {
     "data": {
      "text/plain": [
       "[1, 2, 3, 4, 5, 7, 8, 9]"
      ]
     },
     "execution_count": 6,
     "metadata": {},
     "output_type": "execute_result"
    }
   ],
   "source": [
    "sayilar.sort()\n",
    "sayilar"
   ]
  },
  {
   "cell_type": "code",
   "execution_count": 7,
   "id": "28f5adda-98fd-4ba7-8ac5-8c0f62f59ec9",
   "metadata": {},
   "outputs": [
    {
     "data": {
      "text/plain": [
       "True"
      ]
     },
     "execution_count": 7,
     "metadata": {},
     "output_type": "execute_result"
    }
   ],
   "source": [
    "5 in sayilar"
   ]
  },
  {
   "cell_type": "code",
   "execution_count": 8,
   "id": "4af9a44d-19a8-4ba0-b483-e724106a60d4",
   "metadata": {},
   "outputs": [
    {
     "data": {
      "text/plain": [
       "False"
      ]
     },
     "execution_count": 8,
     "metadata": {},
     "output_type": "execute_result"
    }
   ],
   "source": [
    "6 in sayilar"
   ]
  },
  {
   "cell_type": "code",
   "execution_count": 9,
   "id": "e1851c2f-70c6-43aa-b5d0-d9c15ec85572",
   "metadata": {},
   "outputs": [
    {
     "data": {
      "text/plain": [
       "(9, 1)"
      ]
     },
     "execution_count": 9,
     "metadata": {},
     "output_type": "execute_result"
    }
   ],
   "source": [
    "sayilar.sort()\n",
    "sayilar[-1],sayilar[0]"
   ]
  },
  {
   "cell_type": "code",
   "execution_count": 10,
   "id": "94e76c71-1333-4e2d-a966-26c0700b4e20",
   "metadata": {},
   "outputs": [
    {
     "data": {
      "text/plain": [
       "3"
      ]
     },
     "execution_count": 10,
     "metadata": {},
     "output_type": "execute_result"
    }
   ],
   "source": [
    "sayilar.pop(2)"
   ]
  },
  {
   "cell_type": "code",
   "execution_count": 1,
   "id": "0d0a25c0-00fb-43b4-92bb-24535609b7e3",
   "metadata": {},
   "outputs": [],
   "source": [
    "sayilar = [1,2,3,4,5,6,7,8]"
   ]
  },
  {
   "cell_type": "code",
   "execution_count": 2,
   "id": "edcf1a4e-dc05-4c9b-8087-5d8e1a70e1ba",
   "metadata": {},
   "outputs": [
    {
     "name": "stdin",
     "output_type": "stream",
     "text": [
      "Değiştirmek istediğiniz indexi seçiniz: 2\n",
      "Hangi sayı ile değiştirmek istediğinizi seçiniz: 11\n"
     ]
    },
    {
     "data": {
      "text/plain": [
       "[1, 2, 11, 4, 5, 6, 7, 8]"
      ]
     },
     "execution_count": 2,
     "metadata": {},
     "output_type": "execute_result"
    }
   ],
   "source": [
    "sayi_sec = int(input(\"Değiştirmek istediğiniz indexi seçiniz:\"))\n",
    "atanan_sayi = int(input(\"Hangi sayı ile değiştirmek istediğinizi seçiniz:\"))\n",
    "if sayi_sec <= sayilar[-1]:\n",
    "    sayilar[sayi_sec] = atanan_sayi\n",
    "sayilar"
   ]
  },
  {
   "cell_type": "code",
   "execution_count": 7,
   "id": "0f612815-291f-45cc-82d4-278ecaff2585",
   "metadata": {},
   "outputs": [],
   "source": [
    "kullanici_1 = dict({})"
   ]
  },
  {
   "cell_type": "code",
   "execution_count": 8,
   "id": "cbbb7fdc-032b-450c-aa9f-0132fc40636f",
   "metadata": {},
   "outputs": [
    {
     "data": {
      "text/plain": [
       "{'E-Posta adresi': 'adsoyad123@gmail.com',\n",
       " 'Kullanıcı Adı': 'ad.soyad35',\n",
       " 'Şifre': '1234567890'}"
      ]
     },
     "execution_count": 8,
     "metadata": {},
     "output_type": "execute_result"
    }
   ],
   "source": [
    "kullanici_1[\"E-Posta adresi\"] = \"adsoyad123@gmail.com\"\n",
    "kullanici_1[\"Kullanıcı Adı\"] = \"ad.soyad35\"\n",
    "kullanici_1[\"Şifre\"] = \"1234567890\"\n",
    "kullanici_1"
   ]
  },
  {
   "cell_type": "code",
   "execution_count": 9,
   "id": "707204fc-cffe-42e7-ba97-63a1b573ba9b",
   "metadata": {},
   "outputs": [
    {
     "data": {
      "text/plain": [
       "{'E-Posta adresi': 'adsoyad123@gmail.com',\n",
       " 'Kullanıcı Adı': 'ad.soyad35',\n",
       " 'Şifre': '1234567890',\n",
       " 'Posta Kodu': 35800,\n",
       " 'Papara kart no': 2088900111}"
      ]
     },
     "execution_count": 9,
     "metadata": {},
     "output_type": "execute_result"
    }
   ],
   "source": [
    "kullanici_1.update({\"Posta Kodu\" : 35800, \"Papara kart no\" : 2088900111}),\n",
    "kullanici_1"
   ]
  },
  {
   "cell_type": "code",
   "execution_count": 10,
   "id": "b4648183-6ed3-4e6d-a02e-1fee93de5a53",
   "metadata": {},
   "outputs": [
    {
     "data": {
      "text/plain": [
       "{'E-Posta adresi': 'adsoyad123@gmail.com',\n",
       " 'Kullanıcı Adı': 'ad.soyad35',\n",
       " 'Şifre': '0987654321',\n",
       " 'Posta Kodu': 35800,\n",
       " 'Papara kart no': 2088900111}"
      ]
     },
     "execution_count": 10,
     "metadata": {},
     "output_type": "execute_result"
    }
   ],
   "source": [
    "kullanici_1[\"Şifre\"] = \"0987654321\"\n",
    "kullanici_1"
   ]
  },
  {
   "cell_type": "code",
   "execution_count": 11,
   "id": "643d5b14-72ff-4258-979d-0d4699e547bb",
   "metadata": {},
   "outputs": [
    {
     "data": {
      "text/plain": [
       "True"
      ]
     },
     "execution_count": 11,
     "metadata": {},
     "output_type": "execute_result"
    }
   ],
   "source": [
    "\"Kullanıcı Adı\" in kullanici_1.keys()"
   ]
  },
  {
   "cell_type": "code",
   "execution_count": 14,
   "id": "7cc27034-7770-40a9-81ee-3747b0d8903c",
   "metadata": {},
   "outputs": [
    {
     "name": "stdin",
     "output_type": "stream",
     "text": [
      "Bir Key giriniz: Şifre\n",
      "Yeni değeri giriniz: 123456789\n"
     ]
    },
    {
     "data": {
      "text/plain": [
       "{'E-Posta adresi': 'adsoyad123@gmail.com',\n",
       " 'Kullanıcı Adı': 'ad.soyad35',\n",
       " 'Şifre': '123456789',\n",
       " 'Posta Kodu': '35800',\n",
       " 'Papara kart no': 2088900111}"
      ]
     },
     "execution_count": 14,
     "metadata": {},
     "output_type": "execute_result"
    }
   ],
   "source": [
    "alinan_key = str(input(\"Bir Key giriniz:\"))\n",
    "verilen_deger = str(input(\"Yeni değeri giriniz:\"))\n",
    "kullanici_1[alinan_key] = verilen_deger\n",
    "kullanici_1"
   ]
  },
  {
   "cell_type": "code",
   "execution_count": 15,
   "id": "a3402ed0-b3a3-411f-ba28-9b3242b2ba64",
   "metadata": {},
   "outputs": [
    {
     "data": {
      "text/plain": [
       "True"
      ]
     },
     "execution_count": 15,
     "metadata": {},
     "output_type": "execute_result"
    }
   ],
   "source": [
    "\"Kullanıcı Adı\" in kullanici_1.keys()"
   ]
  },
  {
   "cell_type": "code",
   "execution_count": 24,
   "id": "a0307f6f-e290-4ecb-81cd-e389eea49815",
   "metadata": {},
   "outputs": [
    {
     "data": {
      "text/plain": [
       "{'a', 'c', 'h'}"
      ]
     },
     "execution_count": 24,
     "metadata": {},
     "output_type": "execute_result"
    }
   ],
   "source": [
    "yigit = set(\"yigit\")\n",
    "cihat = set(\"cihat\")\n",
    "cihat.difference(yigit) "
   ]
  },
  {
   "cell_type": "code",
   "execution_count": 25,
   "id": "c9cd06ed-222f-4014-9da5-7f78824111db",
   "metadata": {},
   "outputs": [
    {
     "data": {
      "text/plain": [
       "{'g', 'y'}"
      ]
     },
     "execution_count": 25,
     "metadata": {},
     "output_type": "execute_result"
    }
   ],
   "source": [
    "yigit.difference(cihat)"
   ]
  },
  {
   "cell_type": "code",
   "execution_count": 27,
   "id": "edefeb26-7baf-4585-96e7-283fd5456f50",
   "metadata": {},
   "outputs": [
    {
     "data": {
      "text/plain": [
       "{'a', 'c', 'g', 'h', 'i', 't', 'y'}"
      ]
     },
     "execution_count": 27,
     "metadata": {},
     "output_type": "execute_result"
    }
   ],
   "source": [
    "yigit.union(cihat)"
   ]
  },
  {
   "cell_type": "code",
   "execution_count": 28,
   "id": "08a3c187-12b5-435d-bfe3-33a0a6b3ce3d",
   "metadata": {},
   "outputs": [
    {
     "data": {
      "text/plain": [
       "{'i', 't'}"
      ]
     },
     "execution_count": 28,
     "metadata": {},
     "output_type": "execute_result"
    }
   ],
   "source": [
    "yigit.intersection(cihat)"
   ]
  },
  {
   "cell_type": "code",
   "execution_count": 30,
   "id": "770dab17-bb47-426a-8224-90635c560a9f",
   "metadata": {},
   "outputs": [
    {
     "data": {
      "text/plain": [
       "True"
      ]
     },
     "execution_count": 30,
     "metadata": {},
     "output_type": "execute_result"
    }
   ],
   "source": [
    "alt_kume = {'c','h','t'}\n",
    "alt_kume.issubset(cihat)"
   ]
  },
  {
   "cell_type": "code",
   "execution_count": 10,
   "id": "b4470c0f-4da8-4c10-8235-e3c7743a76a6",
   "metadata": {},
   "outputs": [],
   "source": [
    "sayilar = [1,1,2,2,3,3,4,4,5,6,7]"
   ]
  },
  {
   "cell_type": "code",
   "execution_count": 11,
   "id": "bf8ff0f4-297e-4d17-a305-f970528cf880",
   "metadata": {},
   "outputs": [
    {
     "data": {
      "text/plain": [
       "{1, 2, 3, 4, 5, 6, 7}"
      ]
     },
     "execution_count": 11,
     "metadata": {},
     "output_type": "execute_result"
    }
   ],
   "source": [
    "sayilar_set = set(sayilar)\n",
    "sayilar_set"
   ]
  },
  {
   "cell_type": "code",
   "execution_count": 12,
   "id": "fda74a0d-d8cf-4fb9-83b2-b382e8ea392a",
   "metadata": {},
   "outputs": [],
   "source": [
    "sayilar_set.remove(1)"
   ]
  },
  {
   "cell_type": "code",
   "execution_count": 13,
   "id": "057a4326-05b2-47c7-bf05-4e1b4de60d0d",
   "metadata": {},
   "outputs": [
    {
     "data": {
      "text/plain": [
       "{2, 3, 4, 5, 6, 7}"
      ]
     },
     "execution_count": 13,
     "metadata": {},
     "output_type": "execute_result"
    }
   ],
   "source": [
    "sayilar_set"
   ]
  },
  {
   "cell_type": "code",
   "execution_count": 14,
   "id": "3a47f69e-32c1-4794-a4c0-4a172cc41f80",
   "metadata": {},
   "outputs": [
    {
     "name": "stdin",
     "output_type": "stream",
     "text": [
      "Eklemek istediğiniz sayıyı girin: 1\n",
      "Eklemek istediğiniz ikinci sayıyı girin: 8\n"
     ]
    },
    {
     "data": {
      "text/plain": [
       "{1, 2, 3, 4, 5, 6, 7, 8}"
      ]
     },
     "execution_count": 14,
     "metadata": {},
     "output_type": "execute_result"
    }
   ],
   "source": [
    "ilk_sayi = int(input(\"Eklemek istediğiniz sayıyı girin:\"))\n",
    "ikinci_sayi = int(input(\"Eklemek istediğiniz ikinci sayıyı girin:\"))\n",
    "sayilar_set.add(ilk_sayi)\n",
    "sayilar_set.add(ikinci_sayi)\n",
    "sayilar_set"
   ]
  },
  {
   "cell_type": "code",
   "execution_count": 17,
   "id": "9040b311-3a98-4684-8afb-fca6abaa1fe8",
   "metadata": {},
   "outputs": [],
   "source": [
    "harf = (\"a\",\"b\",\"c\",\"d\",\"f\",\"g\")"
   ]
  },
  {
   "cell_type": "code",
   "execution_count": 18,
   "id": "fa47979a-1db7-4e78-82d9-2b64cfa87e72",
   "metadata": {},
   "outputs": [
    {
     "data": {
      "text/plain": [
       "tuple"
      ]
     },
     "execution_count": 18,
     "metadata": {},
     "output_type": "execute_result"
    }
   ],
   "source": [
    "type(harf)"
   ]
  },
  {
   "cell_type": "code",
   "execution_count": 19,
   "id": "65e17952-4215-473d-ad59-709f6cf6e6fb",
   "metadata": {},
   "outputs": [
    {
     "data": {
      "text/plain": [
       "('d', 'f')"
      ]
     },
     "execution_count": 19,
     "metadata": {},
     "output_type": "execute_result"
    }
   ],
   "source": [
    "harf[3:5]"
   ]
  },
  {
   "cell_type": "code",
   "execution_count": 20,
   "id": "9f2237ec-0310-41a3-9e9c-0a7c24e7420a",
   "metadata": {},
   "outputs": [
    {
     "data": {
      "text/plain": [
       "1"
      ]
     },
     "execution_count": 20,
     "metadata": {},
     "output_type": "execute_result"
    }
   ],
   "source": [
    "harf.index(\"b\")"
   ]
  },
  {
   "cell_type": "code",
   "execution_count": 21,
   "id": "13c6715d-c6fe-41c0-997a-89052d27429f",
   "metadata": {},
   "outputs": [],
   "source": [
    "sayilar = (1,2,2,2,2,2,2,3,4,4,4,5,5,6)"
   ]
  },
  {
   "cell_type": "code",
   "execution_count": 22,
   "id": "ea2b6de9-18dd-4ec2-8666-47486f7fdd3f",
   "metadata": {},
   "outputs": [
    {
     "data": {
      "text/plain": [
       "6"
      ]
     },
     "execution_count": 22,
     "metadata": {},
     "output_type": "execute_result"
    }
   ],
   "source": [
    "sayilar.count(2)"
   ]
  },
  {
   "cell_type": "code",
   "execution_count": null,
   "id": "3875986f-58a6-4aa8-92d7-059e81da6fcd",
   "metadata": {},
   "outputs": [],
   "source": []
  }
 ],
 "metadata": {
  "kernelspec": {
   "display_name": "Python 3 (ipykernel)",
   "language": "python",
   "name": "python3"
  },
  "language_info": {
   "codemirror_mode": {
    "name": "ipython",
    "version": 3
   },
   "file_extension": ".py",
   "mimetype": "text/x-python",
   "name": "python",
   "nbconvert_exporter": "python",
   "pygments_lexer": "ipython3",
   "version": "3.11.9"
  }
 },
 "nbformat": 4,
 "nbformat_minor": 5
}
