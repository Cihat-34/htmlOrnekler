{
 "cells": [
  {
   "cell_type": "code",
   "execution_count": 3,
   "id": "6c818ecb-7754-493e-820f-608a212de002",
   "metadata": {
    "tags": []
   },
   "outputs": [],
   "source": [
    "import pandas as pd"
   ]
  },
  {
   "cell_type": "code",
   "execution_count": 9,
   "id": "9337a6bd-0bcd-43ea-9222-63828f92661f",
   "metadata": {},
   "outputs": [
    {
     "data": {
      "text/plain": [
       "I           1\n",
       "am          2\n",
       "learning    3\n",
       "data        4\n",
       "science     5\n",
       "dtype: int64"
      ]
     },
     "execution_count": 9,
     "metadata": {},
     "output_type": "execute_result"
    }
   ],
   "source": [
    "Label_List = ['I','am','learning','data','science']\n",
    "Data_List =[1,2,3,4,5]\n",
    "Pd_Series1 = pd.Series(Data_List,Label_List)\n",
    "Pd_Series1"
   ]
  },
  {
   "cell_type": "code",
   "execution_count": 15,
   "id": "8e96fbc4-3659-4217-944d-8b21fe29371e",
   "metadata": {},
   "outputs": [
    {
     "data": {
      "text/plain": [
       "Michael's exam result    35\n",
       "Olivia's exam result     85\n",
       "dtype: int64"
      ]
     },
     "execution_count": 15,
     "metadata": {},
     "output_type": "execute_result"
    }
   ],
   "source": [
    "import pandas as pd\n",
    "DataDict ={\"Michael's exam result\":35,\"Olivia's exam result\":85}\n",
    "A = pd.Series(DataDict)\n",
    "A"
   ]
  },
  {
   "cell_type": "code",
   "execution_count": 21,
   "id": "fba0b362-687e-45a0-b1ff-6ee5f873e852",
   "metadata": {},
   "outputs": [
    {
     "data": {
      "text/plain": [
       "Michael's exam result    44\n",
       "dtype: int64"
      ]
     },
     "execution_count": 21,
     "metadata": {},
     "output_type": "execute_result"
    }
   ],
   "source": [
    "DataDict2  = {\"Michael's exam result\":44}\n",
    "B = pd.Series(DataDict2)\n",
    "B"
   ]
  },
  {
   "cell_type": "code",
   "execution_count": 23,
   "id": "e19045ca-b728-452f-b4ee-e700476aef9e",
   "metadata": {
    "tags": []
   },
   "outputs": [
    {
     "data": {
      "text/plain": [
       "Michael's exam result    79.0\n",
       "Olivia's exam result      NaN\n",
       "dtype: float64"
      ]
     },
     "execution_count": 23,
     "metadata": {},
     "output_type": "execute_result"
    }
   ],
   "source": [
    "A + B "
   ]
  },
  {
   "cell_type": "code",
   "execution_count": null,
   "id": "c1e01306-ecc0-4b9d-abf3-b1dfb6720332",
   "metadata": {},
   "outputs": [],
   "source": []
  }
 ],
 "metadata": {
  "kernelspec": {
   "display_name": "Python 3 (ipykernel)",
   "language": "python",
   "name": "python3"
  },
  "language_info": {
   "codemirror_mode": {
    "name": "ipython",
    "version": 3
   },
   "file_extension": ".py",
   "mimetype": "text/x-python",
   "name": "python",
   "nbconvert_exporter": "python",
   "pygments_lexer": "ipython3",
   "version": "3.11.7"
  }
 },
 "nbformat": 4,
 "nbformat_minor": 5
}
