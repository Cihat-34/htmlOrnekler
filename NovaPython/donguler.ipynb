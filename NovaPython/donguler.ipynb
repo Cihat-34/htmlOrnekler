{
 "cells": [
  {
   "cell_type": "markdown",
   "id": "be6c7003-dd14-4d08-a1aa-8dd5b584705c",
   "metadata": {},
   "source": [
    "## Döngüler"
   ]
  },
  {
   "cell_type": "markdown",
   "id": "c6330cfd-5d26-4860-9f48-7e2058f8b468",
   "metadata": {},
   "source": [
    "Döngü brlirli bir kurala göre belirlenmiş aralıklar içinde belirli operasyonu tekrar eden yapılardır."
   ]
  },
  {
   "cell_type": "code",
   "execution_count": null,
   "id": "e7ec19a3-9f7c-4220-9cbd-ea217410dd72",
   "metadata": {
    "tags": []
   },
   "outputs": [],
   "source": [
    "# 10 dan bire kadar olan sayıları yazdıralım\n",
    "n = 10 \n",
    "\n",
    "while n > 0:\n",
    "    print(n)\n",
    "    n = n - 1"
   ]
  },
  {
   "cell_type": "markdown",
   "id": "5d870022-0bee-40fe-91b1-c1ef5815c5b6",
   "metadata": {
    "tags": []
   },
   "source": [
    "**While Döngüsünün işleyişi**\n",
    "* While döngüsü işlemeye başlamadan önce kuraın doğruluğunu kontrol eder.\n",
    "* Kural doğru ise (True) bir defa işlem yapar.\n",
    "* Kuralı tekrar kontrol eder tekrar doğruysa aynı işlemi tekrar yapar.\n",
    "* Sonsuz bir döngü oluşmaması için her tekrarlandığında kural kontrol edilir.\n",
    "* Yukarıdaki örnekte n=n-1 yaparak bu ayarlamayı yaptık.\n",
    "* Böylece her adımda n değeri 1 azaldığı için en sonunda 0 oldu döngüye girmedi ve döngü bitti"
   ]
  },
  {
   "cell_type": "code",
   "execution_count": null,
   "id": "8dc3b0a6-bf44-4798-8c4f-4db99cbec7f7",
   "metadata": {
    "tags": []
   },
   "outputs": [],
   "source": [
    "# 1 den 20 ye kadar olan tek sayıların karelerini alalım\n",
    "\n",
    "x = 1\n",
    "while x <= 20:\n",
    "    if x % 2 == 1:\n",
    "        print(x**2)\n",
    "    x+=1"
   ]
  },
  {
   "cell_type": "code",
   "execution_count": null,
   "id": "75f0449f-8d7d-44f3-98a2-afeca6e2a9fd",
   "metadata": {
    "tags": []
   },
   "outputs": [],
   "source": [
    "# 1 den 10 a kadar olan çift sayıların toplamını bulan python programını yazınız.\n",
    "x = 1\n",
    "toplam = 0\n",
    "while x <= 10:\n",
    "    if x % 2 == 0:\n",
    "        toplam += x\n",
    "    x += 1\n",
    "print(toplam)"
   ]
  },
  {
   "cell_type": "code",
   "execution_count": null,
   "id": "f732fc07-38c5-4238-851d-04117a346cc5",
   "metadata": {
    "tags": []
   },
   "outputs": [
    {
     "name": "stdin",
     "output_type": "stream",
     "text": [
      "Bir sayı giriniz:  10\n"
     ]
    },
    {
     "name": "stdout",
     "output_type": "stream",
     "text": [
      "2\n",
      "5\n",
      "10\n"
     ]
    }
   ],
   "source": [
    "# Kullanıcıdan girilen bir sayının çarpanlarını bulalım\n",
    "\n",
    "x = int(input(\"Bir sayı giriniz: \"))\n",
    "y = 2\n",
    "while y <= x:\n",
    "    if x % y == 0:\n",
    "        print(y)\n",
    "    y += 1"
   ]
  },
  {
   "cell_type": "markdown",
   "id": "9036007a-0a87-4744-bdff-135c2d77ab01",
   "metadata": {
    "tags": []
   },
   "source": [
    "## For döngüsü"
   ]
  },
  {
   "cell_type": "code",
   "execution_count": 4,
   "id": "88a2aa69-b65c-4a36-b4ee-db8dd2420420",
   "metadata": {
    "tags": []
   },
   "outputs": [
    {
     "name": "stdout",
     "output_type": "stream",
     "text": [
      "0\n",
      "1\n",
      "2\n",
      "3\n",
      "4\n",
      "5\n",
      "6\n",
      "7\n",
      "8\n",
      "9\n",
      "10\n"
     ]
    }
   ],
   "source": [
    "# 0 dan 10 a kadar olan sayıları ekrana yazdıralım\n",
    "for i in range(11):\n",
    "    print(i)"
   ]
  },
  {
   "cell_type": "markdown",
   "id": "fce71dbc-4f3d-4923-afee-54dbdbede62e",
   "metadata": {},
   "source": [
    "**For döngüsü** : bir aralıkta(range) ya da liste içinde kolayca döngü kurmamızı sağlar.\n",
    "\n",
    "**For Döngüsü özellikleri : **\n",
    "* belirli bir aralıkta -> range(başlangıç,bitiş,artış)\n",
    "* başlangıç -> dahil default(0)\n",
    "* bitiş -> hariç (dahil değil)\n",
    "* artış -> default(1)"
   ]
  },
  {
   "cell_type": "code",
   "execution_count": 9,
   "id": "488e98fd-a8f7-4c1a-b50b-8d6204f9e68c",
   "metadata": {
    "tags": []
   },
   "outputs": [
    {
     "name": "stdout",
     "output_type": "stream",
     "text": [
      "2\n",
      "4\n",
      "6\n",
      "8\n",
      "10\n"
     ]
    }
   ],
   "source": [
    "# 1 den 10 a kadar olan sayıları 2 şer arttırarak ekrana yazalım\n",
    "for i in range(2,11,2):\n",
    "    print(i)"
   ]
  },
  {
   "cell_type": "code",
   "execution_count": 13,
   "id": "a92fcd25-2e42-4733-97c7-e2d220eee550",
   "metadata": {
    "tags": []
   },
   "outputs": [
    {
     "name": "stdin",
     "output_type": "stream",
     "text": [
      "Bir sayı giriniz 10\n"
     ]
    },
    {
     "name": "stdout",
     "output_type": "stream",
     "text": [
      "2\n",
      "5\n"
     ]
    }
   ],
   "source": [
    "sayi = int(input(\"Bir sayı giriniz\"))\n",
    "for i in range(2,sayi):\n",
    "    if sayi % i == 0:\n",
    "        print(i)"
   ]
  },
  {
   "cell_type": "code",
   "execution_count": 29,
   "id": "dfa80ab8-4a0a-4b67-adbe-0a7b32e33851",
   "metadata": {
    "tags": []
   },
   "outputs": [
    {
     "name": "stdout",
     "output_type": "stream",
     "text": [
      "Tek sayılar:  [1, 3, 5, 7, 9, 11, 13, 15, 17, 19, 21, 23, 25, 27, 29, 31, 33, 35, 37, 39, 41, 43, 45, 47, 49, 51, 53, 55, 57, 59, 61, 63, 65, 67, 69, 71, 73, 75, 77, 79, 81, 83, 85, 87, 89, 91, 93, 95, 97, 99]\n",
      "Çift sayılar:  [2, 4, 6, 8, 10, 12, 14, 16, 18, 20, 22, 24, 26, 28, 30, 32, 34, 36, 38, 40, 42, 44, 46, 48, 50, 52, 54, 56, 58, 60, 62, 64, 66, 68, 70, 72, 74, 76, 78, 80, 82, 84, 86, 88, 90, 92, 94, 96, 98, 100]\n"
     ]
    }
   ],
   "source": [
    "# 1 den 100 e kadar olan sayılar arasında çift ve tek olanları ayrı ayrı listeleyen python programını yazınız.\n",
    "tek = []\n",
    "cift = []\n",
    "\n",
    "for i in range(1,101):\n",
    "    if i % 2 == 0:\n",
    "        cift.append(i)\n",
    "    else:\n",
    "        tek.append(i)\n",
    "print(\"Tek sayılar: \",tek)\n",
    "print(\"Çift sayılar: \",cift)"
   ]
  },
  {
   "cell_type": "markdown",
   "id": "43fb5738-fc87-4a5b-89cd-34ffe3deba1b",
   "metadata": {},
   "source": [
    "**For Döngüsü ile Metinler(string) Üzerinde Dönme**"
   ]
  },
  {
   "cell_type": "code",
   "execution_count": 33,
   "id": "2282d979-5e63-4752-9f73-16867bf17b50",
   "metadata": {
    "tags": []
   },
   "outputs": [
    {
     "name": "stdout",
     "output_type": "stream",
     "text": [
      "P\n",
      "y\n",
      "t\n",
      "h\n",
      "o\n",
      "n\n"
     ]
    }
   ],
   "source": [
    "metin = \"Python\"\n",
    "for harf in metin:\n",
    "    print(harf)"
   ]
  },
  {
   "cell_type": "code",
   "execution_count": 1,
   "id": "4f93f0b9-e825-4fa7-a4bc-c55a073917b5",
   "metadata": {
    "tags": []
   },
   "outputs": [
    {
     "name": "stdin",
     "output_type": "stream",
     "text": [
      "Bir metin giriniz:  python\n"
     ]
    },
    {
     "name": "stdout",
     "output_type": "stream",
     "text": [
      "p-y-t-h-o-n-\n"
     ]
    }
   ],
   "source": [
    "# Kullanıcıdan bir metin isteyiniz bu metnin her harfinden sonra \"-\" işareti ekleyiniz.\n",
    "metin = input(\"Bir metin giriniz: \")\n",
    "yeni_metin = \"\"\n",
    "\n",
    "for harf in metin:\n",
    "    yeni_metin += harf + \"-\"\n",
    "print(yeni_metin)"
   ]
  },
  {
   "cell_type": "code",
   "execution_count": 3,
   "id": "dbad45d6-d568-4a06-a40e-3caca54c3216",
   "metadata": {
    "tags": []
   },
   "outputs": [
    {
     "name": "stdout",
     "output_type": "stream",
     "text": [
      "1\n",
      "2\n",
      "3\n",
      "4\n",
      "5\n"
     ]
    }
   ],
   "source": [
    "# bir listeyi for ile dönmek\n",
    "\n",
    "liste = [1,2,3,4,5]\n",
    "for sayi in liste:\n",
    "    print(sayi)"
   ]
  },
  {
   "cell_type": "code",
   "execution_count": 5,
   "id": "f18c2c66-0c07-4e73-8468-31dfb4a81f4b",
   "metadata": {
    "tags": []
   },
   "outputs": [
    {
     "name": "stdout",
     "output_type": "stream",
     "text": [
      "Öğrencinin notu:  66.66666666666667\n"
     ]
    }
   ],
   "source": [
    "# Bir öğrencinin aldığı notlar aşağıdaki listede verilmiştir . Öğrencinin ortalamasını veren python kodunu yazınız.\n",
    "notlar = [50,90,60]\n",
    "toplam = 0\n",
    "for ogr_notu in notlar:\n",
    "    toplam += ogr_notu\n",
    "ortalama = toplam / len(notlar)\n",
    "print(\"Öğrencinin notu: \", ortalama)"
   ]
  },
  {
   "cell_type": "code",
   "execution_count": 21,
   "id": "0e4f3510-f167-426c-8a8e-a8418ade62e2",
   "metadata": {
    "tags": []
   },
   "outputs": [
    {
     "name": "stdout",
     "output_type": "stream",
     "text": [
      "Tasarruf Edilmiştir\n"
     ]
    }
   ],
   "source": [
    "# Bir kişinin geliri ve gideri aşağıda liste şeklinde verilmiştir.\n",
    "# Toplam gelir toplam giderden büyükse \"Tasarruf Edilmiştir\"\n",
    "# Toplam gelir toplam giderden küçükse \"Zarar Edilmiştir\"\n",
    "# Toplam gelir toplam gidere eşitse \"Dengelenmiştir\"\n",
    "gelirler = [2500,800,700,500]\n",
    "giderler = [1500,200,300,600,100]\n",
    "toplam_gelir = 0\n",
    "toplam_gider = 0\n",
    "for gelir_sayi in gelirler:\n",
    "    toplam_gelir += gelir_sayi\n",
    "\n",
    "for gider_sayi in giderler:\n",
    "    toplam_gider += gider_sayi\n",
    "    \n",
    "if toplam_gelir > toplam_gider:\n",
    "    print(\"Tasarruf Edilmiştir\")\n",
    "elif toplam_gelir == toplam_gider:\n",
    "    print(\"Dengelenmiştir\")\n",
    "else:\n",
    "    print(\"Zarar Edilmiştir\")"
   ]
  },
  {
   "cell_type": "code",
   "execution_count": null,
   "id": "61def1a6-2059-448e-8077-890bf3917406",
   "metadata": {},
   "outputs": [],
   "source": [
    "# Aşağıda menü sözlüğü ve sipariş listesi verilmiştir. Liste içerisinde olan yemeklere göre müşterinin toplam ödeyeceği fiyatı veren kodu yazalım.\n",
    "# Eğer sipariş listesinde olan ve menüde olmayan bir yiyecek varsa örneğin \"Su menüde yoktur\" diye bir çıktı versin\n",
    "menu = {\n",
    "    \"Köfte\" : 100,\n",
    "    \"Kebap\" : 150,\n",
    "    \"Pilav\" : 50,\n",
    "    \"Salata\" : 20,\n",
    "    \"Tavuk Şiş\" : 70\n",
    "}\n",
    "\n",
    "siparisler = [\"Köfte\",\"Kebap\",\"Su\",\"Pilav\",\"Ayran\"]\n",
    "toplam_fiyat = 0\n",
    "for yemek in siparisler:\n",
    "    if yemek in menu:\n",
    "        toplam_fiyat += menu[yemek]\n",
    "    else:\n",
    "        print(yemek , \"menüde mevcut değildir\")\n",
    "print(\"Toplam tutarınız: \",toplam_fiyat)"
   ]
  },
  {
   "cell_type": "markdown",
   "id": "4e183401-923a-4eb0-b363-bbe18c87ae65",
   "metadata": {},
   "source": [
    "**Döngüden Çıkış:break**"
   ]
  },
  {
   "cell_type": "markdown",
   "id": "81a811ea-de2d-40b2-b21d-daaaa1b411fd",
   "metadata": {},
   "source": [
    "Bazen bir döngü tamamlanmadan döngüden çıkmamız gerekebilir.\n",
    "\n",
    "Bunun için break keyword'u kullanılır."
   ]
  },
  {
   "cell_type": "code",
   "execution_count": 6,
   "id": "8a99593a-3164-4c67-945a-1618e4fd7803",
   "metadata": {
    "tags": []
   },
   "outputs": [
    {
     "name": "stdin",
     "output_type": "stream",
     "text": [
      "Bir metin girin:  aaa b\n"
     ]
    },
    {
     "name": "stdout",
     "output_type": "stream",
     "text": [
      "a\n",
      "a\n",
      "a\n"
     ]
    }
   ],
   "source": [
    "#Kullanıcıdan bir metin alalım boşluk gördüğümüzde döngü dursun\n",
    "metin = input(\"Bir metin girin: \")\n",
    "for harf in metin:\n",
    "    if harf == \" \":\n",
    "        break\n",
    "    #boşluk yoksa yaz\n",
    "    print(harf)"
   ]
  },
  {
   "cell_type": "code",
   "execution_count": 14,
   "id": "9da921b2-e6d6-4b1a-9d1d-7c16136bcc70",
   "metadata": {
    "tags": []
   },
   "outputs": [
    {
     "name": "stdout",
     "output_type": "stream",
     "text": [
      "30\n",
      "31\n",
      "32\n",
      "33\n"
     ]
    }
   ],
   "source": [
    "# 30 dan 100 e kadar olan sayılarda 11 in ilk katını bulduğumuzda döngüden çıkalım.\n",
    "for sayi in range(30,101):\n",
    "    if sayi % 11 == 0 :\n",
    "        print(sayi)\n",
    "        break\n",
    "    else:\n",
    "        print(sayi)"
   ]
  },
  {
   "cell_type": "markdown",
   "id": "e2d44cac-2d1a-413e-bd6c-877816c2514f",
   "metadata": {},
   "source": [
    "**Döngüde bir sonraki adıma atlamak: continue**"
   ]
  },
  {
   "cell_type": "markdown",
   "id": "b47ed2c2-b206-4e3b-923d-e307458b526c",
   "metadata": {},
   "source": [
    "Bazen döngü içinde dönerken, bir koşula göre o anki adımı atlayıp, sıradaki adımdan devam ederiz.\n",
    "\n",
    "Bunun için countinue keywordunu kullanırız."
   ]
  },
  {
   "cell_type": "code",
   "execution_count": 18,
   "id": "00ddfd7f-a684-4d75-96f0-73500ee28998",
   "metadata": {
    "tags": []
   },
   "outputs": [
    {
     "name": "stdin",
     "output_type": "stream",
     "text": [
      "Bir metin giriniz:  aaa b\n"
     ]
    },
    {
     "name": "stdout",
     "output_type": "stream",
     "text": [
      "a\n",
      "a\n",
      "a\n",
      "b\n"
     ]
    }
   ],
   "source": [
    "# Kullanıcıdan aldığımız metni boşlukları atarak hepsini yan yana yazalım\n",
    "metin = input(\"Bir metin giriniz: \")\n",
    "for harf in metin:\n",
    "    if harf == \" \":\n",
    "        continue\n",
    "    print(harf)"
   ]
  },
  {
   "cell_type": "code",
   "execution_count": 28,
   "id": "9b5bbca4-5f83-42bf-8f8b-5d3d92a0f3e1",
   "metadata": {
    "tags": []
   },
   "outputs": [
    {
     "name": "stdout",
     "output_type": "stream",
     "text": [
      "1\n",
      "3\n",
      "5\n",
      "7\n",
      "9\n"
     ]
    }
   ],
   "source": [
    "for sayi in range(0,11):\n",
    "    if sayi % 2 == 0:\n",
    "        continue\n",
    "    print(sayi)"
   ]
  },
  {
   "cell_type": "markdown",
   "id": "d883231b-eb62-467b-ad77-b7da386f6c5d",
   "metadata": {},
   "source": [
    "**Döngü içinde Döngü(Nested Loop)**"
   ]
  },
  {
   "cell_type": "markdown",
   "id": "1da114ec-35fa-47c2-9644-70f4f7acb21d",
   "metadata": {},
   "source": [
    "Bazen döngü içinde gezerken döngünün o anki elemanı için başka bir döngü çalıştırmamız gerekir. "
   ]
  },
  {
   "cell_type": "code",
   "execution_count": 35,
   "id": "bd1a91b9-8c82-4924-8a1b-c86331f54501",
   "metadata": {
    "tags": []
   },
   "outputs": [
    {
     "name": "stdout",
     "output_type": "stream",
     "text": [
      "* * * * \n",
      "* * * * \n",
      "* * * * \n",
      "* * * * \n"
     ]
    }
   ],
   "source": [
    "## sütunlar için bir döngü\n",
    "## satırlar için ayrı bir döngü\n",
    "\n",
    "\n",
    "# satır döngüsü\n",
    "i = 0\n",
    "while i < 4:\n",
    "    yildizlar = \"\"\n",
    "    j = 0\n",
    "    while j < 4:\n",
    "        yildizlar += \"* \"\n",
    "        j += 1\n",
    "    print(yildizlar)\n",
    "    i += 1    "
   ]
  },
  {
   "cell_type": "code",
   "execution_count": 37,
   "id": "6b77ac5f-0885-4006-a2b8-63c07d0d81a7",
   "metadata": {},
   "outputs": [
    {
     "name": "stdout",
     "output_type": "stream",
     "text": [
      "1 x 1 =  1\n",
      "1 x 2 =  2\n",
      "1 x 3 =  3\n",
      "1 x 4 =  4\n",
      "1 x 5 =  5\n",
      "1 x 6 =  6\n",
      "1 x 7 =  7\n",
      "1 x 8 =  8\n",
      "1 x 9 =  9\n",
      "1 x 10 =  10\n",
      "2 x 1 =  2\n",
      "2 x 2 =  4\n",
      "2 x 3 =  6\n",
      "2 x 4 =  8\n",
      "2 x 5 =  10\n",
      "2 x 6 =  12\n",
      "2 x 7 =  14\n",
      "2 x 8 =  16\n",
      "2 x 9 =  18\n",
      "2 x 10 =  20\n",
      "3 x 1 =  3\n",
      "3 x 2 =  6\n",
      "3 x 3 =  9\n",
      "3 x 4 =  12\n",
      "3 x 5 =  15\n",
      "3 x 6 =  18\n",
      "3 x 7 =  21\n",
      "3 x 8 =  24\n",
      "3 x 9 =  27\n",
      "3 x 10 =  30\n",
      "4 x 1 =  4\n",
      "4 x 2 =  8\n",
      "4 x 3 =  12\n",
      "4 x 4 =  16\n",
      "4 x 5 =  20\n",
      "4 x 6 =  24\n",
      "4 x 7 =  28\n",
      "4 x 8 =  32\n",
      "4 x 9 =  36\n",
      "4 x 10 =  40\n",
      "5 x 1 =  5\n",
      "5 x 2 =  10\n",
      "5 x 3 =  15\n",
      "5 x 4 =  20\n",
      "5 x 5 =  25\n",
      "5 x 6 =  30\n",
      "5 x 7 =  35\n",
      "5 x 8 =  40\n",
      "5 x 9 =  45\n",
      "5 x 10 =  50\n",
      "6 x 1 =  6\n",
      "6 x 2 =  12\n",
      "6 x 3 =  18\n",
      "6 x 4 =  24\n",
      "6 x 5 =  30\n",
      "6 x 6 =  36\n",
      "6 x 7 =  42\n",
      "6 x 8 =  48\n",
      "6 x 9 =  54\n",
      "6 x 10 =  60\n",
      "7 x 1 =  7\n",
      "7 x 2 =  14\n",
      "7 x 3 =  21\n",
      "7 x 4 =  28\n",
      "7 x 5 =  35\n",
      "7 x 6 =  42\n",
      "7 x 7 =  49\n",
      "7 x 8 =  56\n",
      "7 x 9 =  63\n",
      "7 x 10 =  70\n",
      "8 x 1 =  8\n",
      "8 x 2 =  16\n",
      "8 x 3 =  24\n",
      "8 x 4 =  32\n",
      "8 x 5 =  40\n",
      "8 x 6 =  48\n",
      "8 x 7 =  56\n",
      "8 x 8 =  64\n",
      "8 x 9 =  72\n",
      "8 x 10 =  80\n",
      "9 x 1 =  9\n",
      "9 x 2 =  18\n",
      "9 x 3 =  27\n",
      "9 x 4 =  36\n",
      "9 x 5 =  45\n",
      "9 x 6 =  54\n",
      "9 x 7 =  63\n",
      "9 x 8 =  72\n",
      "9 x 9 =  81\n",
      "9 x 10 =  90\n",
      "10 x 1 =  10\n",
      "10 x 2 =  20\n",
      "10 x 3 =  30\n",
      "10 x 4 =  40\n",
      "10 x 5 =  50\n",
      "10 x 6 =  60\n",
      "10 x 7 =  70\n",
      "10 x 8 =  80\n",
      "10 x 9 =  90\n",
      "10 x 10 =  100\n"
     ]
    }
   ],
   "source": [
    "# Çarpım Tablosu \n",
    "for i in range(1,11):\n",
    "    for j in range(1,11):\n",
    "        print(i, \"x\", j, \"= \", i*j )"
   ]
  },
  {
   "cell_type": "code",
   "execution_count": 47,
   "id": "2e9f16ab-c252-46c7-bce1-9eec20ed48db",
   "metadata": {
    "tags": []
   },
   "outputs": [
    {
     "name": "stdout",
     "output_type": "stream",
     "text": [
      "* * * * \n",
      "* * * * \n",
      "* * * * \n",
      "* * * * \n"
     ]
    }
   ],
   "source": [
    "# yukarıdaki örneği for ile yapalım\n",
    "#satır\n",
    "for i in range(1,5):\n",
    "    yildizlar = \"\"\n",
    "    #sütun\n",
    "    for j in range(1,5):\n",
    "        yildizlar += \"* \"\n",
    "    print(yildizlar)"
   ]
  },
  {
   "cell_type": "code",
   "execution_count": 61,
   "id": "4e360227-38a1-4f13-8d43-5e72fbbdd653",
   "metadata": {
    "tags": []
   },
   "outputs": [
    {
     "name": "stdout",
     "output_type": "stream",
     "text": [
      "[22, 32, 42, 23, 33, 43, 24, 34, 44]\n"
     ]
    }
   ],
   "source": [
    "liste = [2,3,4]\n",
    "liste2 = [20,30,40]\n",
    "sonliste = []\n",
    "for i in liste:\n",
    "    for j in liste2:\n",
    "        sonliste.append(i + j) \n",
    "print(sonliste)"
   ]
  },
  {
   "cell_type": "code",
   "execution_count": 4,
   "id": "8c6e938f-5781-4f5e-8e8e-b68b8b4c87a4",
   "metadata": {},
   "outputs": [
    {
     "name": "stdout",
     "output_type": "stream",
     "text": [
      "6  Mükemmel sayıdır\n",
      "28  Mükemmel sayıdır\n"
     ]
    }
   ],
   "source": [
    "## Sayılar teorisinde kendisi hariç pozitif tam bölenlerinin toplamı kendine eşit olan sayılara mükemmel sayı denir.\n",
    "#Örneğin 6 bir mükemmel sayıdır. 1+2+3 = 6\n",
    "# 1 ile 100 arasındaki mükemmel sayıları bulan python programını yazınız.\n",
    "n = 2\n",
    "while n <= 100:\n",
    "    toplam = 0\n",
    "    for i in range(1,n):\n",
    "        if n % i == 0:\n",
    "            toplam += i\n",
    "    if toplam == n:\n",
    "        print(toplam,\" Mükemmel sayıdır\")\n",
    "    n += 1"
   ]
  },
  {
   "cell_type": "markdown",
   "id": "50976167-e95a-41db-9eba-b50e42187552",
   "metadata": {},
   "source": [
    "**For-Else Yapısı**"
   ]
  },
  {
   "cell_type": "markdown",
   "id": "845e70bf-6915-4159-9272-02cdcb53d4d8",
   "metadata": {},
   "source": [
    "Bazen bir döngünün düzgün tamamlanıp tamamlanmadığını kontrol etmemiz gerekebilir.<br>\n",
    "Örneğin: Eğer for döngüsü bir elemanı için çalışmış, break ifadesi uygulandıysa döngü düzgün çalışmamış demektir."
   ]
  },
  {
   "cell_type": "code",
   "execution_count": 10,
   "id": "3d485103-a4f0-4928-9745-20eab93fd9b5",
   "metadata": {
    "tags": []
   },
   "outputs": [
    {
     "name": "stdout",
     "output_type": "stream",
     "text": [
      "---Döngüden önce---\n",
      "2\n",
      "3\n",
      "4\n",
      "5\n",
      "6\n",
      "7\n",
      "8\n",
      "9\n",
      "---Döngüden sonra---\n"
     ]
    }
   ],
   "source": [
    "# 2 ile 10 arasındaki sayılarda 7 nin katı olan sayıyı gördüğünde döngüden çık\n",
    "print(\"---Döngüden önce---\")\n",
    "\n",
    "for i in range(2,10):\n",
    "    print(i)\n",
    "    if i % 17 == 0:\n",
    "        break\n",
    "print(\"---Döngüden sonra---\")"
   ]
  },
  {
   "cell_type": "code",
   "execution_count": 14,
   "id": "2510f9fc-d30b-46e9-98f9-2ae8604a7b47",
   "metadata": {
    "tags": []
   },
   "outputs": [
    {
     "name": "stdout",
     "output_type": "stream",
     "text": [
      "---Döngüden önce---\n",
      "2\n",
      "3\n",
      "4\n",
      "5\n",
      "6\n",
      "7\n",
      "8\n",
      "9\n",
      "Döngü düzgün çalıştı\n",
      "---Döngüden sonra---\n"
     ]
    }
   ],
   "source": [
    "print(\"---Döngüden önce---\")\n",
    "\n",
    "for i in range(2,10):\n",
    "    print(i)\n",
    "    if i % 17 == 0:\n",
    "        break\n",
    "else:\n",
    "        print(\"Döngü düzgün çalıştı\")\n",
    "print(\"---Döngüden sonra---\")"
   ]
  },
  {
   "cell_type": "markdown",
   "id": "5cf06d02-486a-4311-8444-6aeef5831744",
   "metadata": {},
   "source": [
    "**Enumerate kavramı**\n",
    "\n",
    "bazen,for döngüsü ile gezerken döngünün o andaki indexine ihtiyaç duyabiliriz. Bunun için enumerate() fonksiyonu kullanılır."
   ]
  },
  {
   "cell_type": "code",
   "execution_count": 22,
   "id": "ee3fdec2-0841-4684-94af-20400a118b41",
   "metadata": {
    "tags": []
   },
   "outputs": [
    {
     "name": "stdin",
     "output_type": "stream",
     "text": [
      "Bir kelime giriniz:  Python\n"
     ]
    },
    {
     "name": "stdout",
     "output_type": "stream",
     "text": [
      "P-y-t-h-o-n\n"
     ]
    }
   ],
   "source": [
    "metin = input(\"Bir kelime giriniz: \")\n",
    "yeni_metin = \"\"\n",
    "for index,harf in enumerate(metin):\n",
    "    # harfleri yeni metine ekleyelim\n",
    "    yeni_metin += harf\n",
    "    if index < len(metin) - 1:\n",
    "        yeni_metin += \"-\"\n",
    "print(yeni_metin)"
   ]
  },
  {
   "cell_type": "code",
   "execution_count": null,
   "id": "e4a9621c-9f94-4337-a914-4b2133e4c94a",
   "metadata": {},
   "outputs": [],
   "source": []
  }
 ],
 "metadata": {
  "kernelspec": {
   "display_name": "Python 3 (ipykernel)",
   "language": "python",
   "name": "python3"
  },
  "language_info": {
   "codemirror_mode": {
    "name": "ipython",
    "version": 3
   },
   "file_extension": ".py",
   "mimetype": "text/x-python",
   "name": "python",
   "nbconvert_exporter": "python",
   "pygments_lexer": "ipython3",
   "version": "3.11.7"
  }
 },
 "nbformat": 4,
 "nbformat_minor": 5
}
