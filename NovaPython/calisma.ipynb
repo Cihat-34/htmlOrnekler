{
 "cells": [
  {
   "cell_type": "code",
   "execution_count": 1,
   "id": "672778fa-27f0-4735-b8f8-73ce050f390a",
   "metadata": {
    "tags": []
   },
   "outputs": [],
   "source": [
    "import csv\n",
    "import random\n",
    "import numpy as np\n",
    "import pandas as pd\n",
    "import matplotlib.pyplot as plt\n",
    "from sklearn.compose import ColumnTransformer\n",
    "from sklearn.preprocessing import OneHotEncoder\n",
    "from sklearn.preprocessing import LabelEncoder\n",
    "from sklearn.model_selection import train_test_split\n",
    "from sklearn.preprocessing import StandardScaler\n",
    "from sklearn.linear_model import LinearRegression"
   ]
  },
  {
   "cell_type": "code",
   "execution_count": 2,
   "id": "d35717d8-563d-4b04-9c08-9fa93a06e802",
   "metadata": {
    "tags": []
   },
   "outputs": [
    {
     "name": "stdin",
     "output_type": "stream",
     "text": [
      "Bir sayı giriniz:  50\n"
     ]
    },
    {
     "name": "stdout",
     "output_type": "stream",
     "text": [
      "Tuttugun sayı: 50\n",
      "Sayı daha büyük\n"
     ]
    }
   ],
   "source": [
    "sayi = int(input(\"Bir sayı giriniz: \"))\n",
    "\n",
    "rndm_sayi = np.random.randint(0,100)\n",
    "\n",
    "def number_guessing():\n",
    "    print(\"Tuttugun sayı:\",sayi)\n",
    "    if rndm_sayi < sayi:\n",
    "        print(\"sayı daha küçük\")\n",
    "    elif rndm_sayi == sayi:\n",
    "        print(\"dogru bildin\")\n",
    "    else:\n",
    "        print(\"Sayı daha büyük\")\n",
    "number_guessing()"
   ]
  },
  {
   "cell_type": "code",
   "execution_count": 3,
   "id": "14348279-2a04-4c4a-aacd-4726bfa109d5",
   "metadata": {
    "tags": []
   },
   "outputs": [
    {
     "data": {
      "text/plain": [
       "6"
      ]
     },
     "execution_count": 3,
     "metadata": {},
     "output_type": "execute_result"
    }
   ],
   "source": [
    "liste = [1,2,3,4,5]\n",
    "\n",
    "liste.append(6)\n",
    "liste[-1]"
   ]
  },
  {
   "cell_type": "code",
   "execution_count": 4,
   "id": "39bb1741-cb00-4830-aaf9-e3010f1d25a7",
   "metadata": {
    "tags": []
   },
   "outputs": [
    {
     "data": {
      "text/plain": [
       "1"
      ]
     },
     "execution_count": 4,
     "metadata": {},
     "output_type": "execute_result"
    }
   ],
   "source": [
    "liste[0]"
   ]
  },
  {
   "cell_type": "code",
   "execution_count": 5,
   "id": "89cd253b-d959-4448-8137-6a3669a13813",
   "metadata": {
    "tags": []
   },
   "outputs": [
    {
     "name": "stdout",
     "output_type": "stream",
     "text": [
      "Cihat\n"
     ]
    }
   ],
   "source": [
    "sozluk = {\n",
    "    'ad' : 'Cihat',\n",
    "    'yas' : 14\n",
    "}\n",
    "print(sozluk['ad'])"
   ]
  },
  {
   "cell_type": "code",
   "execution_count": 6,
   "id": "5cbd26e0-44b4-472f-b7a2-32702cddeb8a",
   "metadata": {
    "tags": []
   },
   "outputs": [],
   "source": [
    "sozluk['yas'] = 16"
   ]
  },
  {
   "cell_type": "code",
   "execution_count": 7,
   "id": "bfb54204-259c-404e-87b2-a8afb084150c",
   "metadata": {
    "tags": []
   },
   "outputs": [
    {
     "data": {
      "text/plain": [
       "{'ad': 'Cihat', 'yas': 16}"
      ]
     },
     "execution_count": 7,
     "metadata": {},
     "output_type": "execute_result"
    }
   ],
   "source": [
    "sozluk"
   ]
  },
  {
   "cell_type": "code",
   "execution_count": 8,
   "id": "417ef9c9-ad0a-4843-8826-7b19250f60f6",
   "metadata": {
    "tags": []
   },
   "outputs": [
    {
     "name": "stdout",
     "output_type": "stream",
     "text": [
      "Hello World\n",
      "Hello World\n",
      "Hello World\n",
      "Hello World\n",
      "Hello World\n"
     ]
    }
   ],
   "source": [
    "def hw():\n",
    "    for i in range(5):\n",
    "        print('Hello World')\n",
    "hw()"
   ]
  },
  {
   "cell_type": "code",
   "execution_count": 9,
   "id": "2a995a42-c237-4fb4-bcf2-7b77077db310",
   "metadata": {
    "tags": []
   },
   "outputs": [
    {
     "name": "stdin",
     "output_type": "stream",
     "text": [
      "İsminizi girin Cihat\n"
     ]
    },
    {
     "name": "stdout",
     "output_type": "stream",
     "text": [
      "İsminiz: Cihat\n"
     ]
    }
   ],
   "source": [
    "isim = input(str('İsminizi girin'))\n",
    "\n",
    "def ad(name):\n",
    "    isim = name\n",
    "    print('İsminiz:',name)\n",
    "ad(isim)"
   ]
  },
  {
   "cell_type": "code",
   "execution_count": 10,
   "id": "57b104f5-ba29-4486-9660-dd5fb8b37d7c",
   "metadata": {
    "tags": []
   },
   "outputs": [],
   "source": [
    "file = 'test.txt'\n",
    "with open(file,'w',encoding = 'utf-8')as file:\n",
    "    file.write('Hello World')"
   ]
  },
  {
   "cell_type": "code",
   "execution_count": 11,
   "id": "7b28a174-7b98-4d95-ad68-742cd78a2d06",
   "metadata": {
    "tags": []
   },
   "outputs": [
    {
     "name": "stdout",
     "output_type": "stream",
     "text": [
      "Hello World\n"
     ]
    }
   ],
   "source": [
    "with open('test.txt','r')as file:\n",
    "    content = file.read()\n",
    "    print(content)"
   ]
  },
  {
   "cell_type": "code",
   "execution_count": 12,
   "id": "ec4ea800-7ad3-41ff-a698-aaf8fff2b8c4",
   "metadata": {
    "tags": []
   },
   "outputs": [
    {
     "name": "stdout",
     "output_type": "stream",
     "text": [
      "İsim: Cihat , Yaş: 16\n"
     ]
    }
   ],
   "source": [
    "class person:\n",
    "    def __init__(self,name,age):\n",
    "        self.name = name\n",
    "        self.age = age\n",
    "        \n",
    "kisi = person('Cihat',16)\n",
    "print(f\"İsim: {kisi.name} , Yaş: {kisi.age}\")"
   ]
  },
  {
   "cell_type": "code",
   "execution_count": 13,
   "id": "b944849b-666c-4c59-a424-2933e83c9d73",
   "metadata": {
    "tags": []
   },
   "outputs": [],
   "source": [
    "class Animal:\n",
    "    def __init__(self,cins,yas):\n",
    "        self.cins = cins\n",
    "        self.yas = yas\n",
    "hayvan = Animal(\"kangal\",11)"
   ]
  },
  {
   "cell_type": "code",
   "execution_count": 14,
   "id": "b9049ac3-46e0-49fa-9d36-7e727854e20b",
   "metadata": {
    "tags": []
   },
   "outputs": [],
   "source": [
    "class Dog(Animal):\n",
    "    def __init__(self,isim):\n",
    "        self.isim = isim\n",
    "kopek = Dog(\"Paşa\")"
   ]
  },
  {
   "cell_type": "code",
   "execution_count": 15,
   "id": "ab0f4e89-9270-46bd-92df-a30ea9cde9ff",
   "metadata": {
    "tags": []
   },
   "outputs": [
    {
     "name": "stdout",
     "output_type": "stream",
     "text": [
      "1)notları göster\n",
      "2)not ekle\n",
      "3)not sil\n",
      "4)çıkış\n"
     ]
    },
    {
     "name": "stdin",
     "output_type": "stream",
     "text": [
      "Lütfen bir sayı giriniz 4\n"
     ]
    }
   ],
   "source": [
    "liste = []\n",
    "print('1)notları göster')\n",
    "print('2)not ekle')\n",
    "print('3)not sil')\n",
    "print('4)çıkış')\n",
    "\n",
    "while True:\n",
    "    \n",
    "    x = int(input('Lütfen bir sayı giriniz'))\n",
    "    \n",
    "    if x == 1:\n",
    "        print(liste)\n",
    "    elif x == 2:\n",
    "        notlar = input('Değerleri gir')\n",
    "        liste.append(notlar)\n",
    "    elif x == 3:\n",
    "        print('Hangi notu silmek istiyorsnuz')\n",
    "        ind = int(input('Notun sırasını girin')) -1\n",
    "        liste.pop(ind)\n",
    "    elif x == 4:\n",
    "        break"
   ]
  },
  {
   "cell_type": "code",
   "execution_count": 16,
   "id": "159cb166-e5af-4b33-8025-5f577f531462",
   "metadata": {
    "tags": []
   },
   "outputs": [
    {
     "name": "stdout",
     "output_type": "stream",
     "text": [
      "1)Banka hesabı aç\n",
      "2)Para yatır\n",
      "3)Para çek\n",
      "4)Bakiye göster\n",
      "5)Çıkış\n"
     ]
    },
    {
     "name": "stdin",
     "output_type": "stream",
     "text": [
      "Yapacağınız işlem numarasını girin 5\n"
     ]
    }
   ],
   "source": [
    "hesaplar = {}\n",
    "class Banka_hesabi:\n",
    "    def __init__ (self,hesap_no,bakiye = 0):\n",
    "        self.hesap_no = hesap_no\n",
    "        self.bakiye = bakiye\n",
    "    \n",
    "    def para_yatir(self,miktar):\n",
    "        self.bakiye += miktar\n",
    "        print(f\"{miktar} yatırıldı.\")\n",
    "    def para_cek(self,miktar):\n",
    "        self.bakiye -= miktar \n",
    "    def bakiye_goster():\n",
    "        print(f\"kalan bakiyeniz :{self.bakiye}\")\n",
    "\n",
    "\n",
    "\n",
    "while True:\n",
    "    print(\"1)Banka hesabı aç\")\n",
    "    print(\"2)Para yatır\")\n",
    "    print(\"3)Para çek\")\n",
    "    print(\"4)Bakiye göster\")\n",
    "    print(\"5)Çıkış\")\n",
    "    \n",
    "    secim = int(input(\"Yapacağınız işlem numarasını girin\"))\n",
    "    \n",
    "    if secim == 1:\n",
    "        HesapNumarası = int(input(\"Hesap numarasını girin\"))\n",
    "        if HesapNumarası in hesaplar:\n",
    "            print(\"Hesap zaten mevcut\")\n",
    "        else:\n",
    "            hesaplar[HesapNumarası] = Banka_hesabi(HesapNumarası)\n",
    "            print(\"Hesap başarıyla oluşturuldu\")\n",
    "    elif secim == 2:\n",
    "        HesapNumarası = int(input(\"Hesap numarasını girin\"))\n",
    "        if HesapNumarası in hesaplar:\n",
    "            miktar = int(input(\"Yatırılacak olan tutar\"))\n",
    "            hesaplar[HesapNumarası].para_yatir(miktar)\n",
    "        else:\n",
    "            print(\"Hesap Bulunamadı\")\n",
    "    elif secim == 3:\n",
    "        HesapNumarası = int(input(\"Hesap numarasını girin\"))\n",
    "        if HesapNumarası in hesaplar:\n",
    "            miktar = int(input(\"Çekilecek olan tutar\"))\n",
    "            hesaplar[HesapNumarası].para_cek(miktar)\n",
    "        else:\n",
    "            print(\"Hesap Bulunamadı\")\n",
    "    \n",
    "    elif secim == 4:\n",
    "        HesapNumarası = int(input(\"Hesap numarasını girin\"))\n",
    "        if HesapNumarası in hesaplar:\n",
    "            hesaplar[HesapNumarası].bakiye_goster()\n",
    "        else:\n",
    "            print(\"Hesap Bulunamadı\")\n",
    "    else:\n",
    "        break"
   ]
  },
  {
   "cell_type": "code",
   "execution_count": 61,
   "id": "1c90b10a-e374-4bb3-a096-4c887278e319",
   "metadata": {},
   "outputs": [
    {
     "name": "stdout",
     "output_type": "stream",
     "text": [
      "1) film ekle\n",
      "2) filmleri görüntüle\n",
      "3) çıkış\n"
     ]
    },
    {
     "name": "stdin",
     "output_type": "stream",
     "text": [
      "Yapacağınız işlem numarasını girin 3\n"
     ]
    }
   ],
   "source": [
    "class Movie:\n",
    "    def __init__(self,title,director,year):\n",
    "        self.title = title\n",
    "        self.director = director\n",
    "        self.year = year\n",
    "\n",
    "    \n",
    "movies = []\n",
    "\n",
    "while True:\n",
    "    print(\"1) film ekle\")\n",
    "    print(\"2) filmleri görüntüle\")\n",
    "    print(\"3) çıkış\")\n",
    "    \n",
    "    secim = int(input(\"Yapacağınız işlem numarasını girin\"))\n",
    "    \n",
    "    if secim == 1:\n",
    "        title = input(\"Eklemek istediğiniz filmin adını giriniz\")\n",
    "        director = input(\"Eklemek istediğiniz filmin yönetmenini giriniz\")\n",
    "        year = int(input(\"Eklemek istediğiniz filmin vizyona giriş yılını yazınız\"))\n",
    "        film = Movie(title,director,year)\n",
    "        movies.append(film)\n",
    "        print(\"Film başarıyla eklendi\")\n",
    "    elif secim == 2:\n",
    "        for i in movies:\n",
    "            print(f\"filmler:{i}\")\n",
    "    elif secim == 3:\n",
    "        break"
   ]
  },
  {
   "cell_type": "code",
   "execution_count": 65,
   "id": "47f0060d-eff0-4c4c-9148-af234481e32c",
   "metadata": {
    "tags": []
   },
   "outputs": [
    {
     "name": "stdout",
     "output_type": "stream",
     "text": [
      "1) Çalışan ekle\n",
      "2) Çalışanları görüntüle\n",
      "3) Zam yap\n",
      "4) Çıkış\n"
     ]
    },
    {
     "name": "stdin",
     "output_type": "stream",
     "text": [
      "Yapacağınız işlem numarasını girin 4\n"
     ]
    }
   ],
   "source": [
    "class Staff:\n",
    "    def __init__(self,name,pozition,salary):\n",
    "        self.name = name\n",
    "        self.pozition = pozition\n",
    "        self.salary = salary\n",
    "    \n",
    "    def zam_yap(self,miktar):\n",
    "        self.salary += miktar\n",
    "        print(f\"Maaş güncellendi\")\n",
    "        \n",
    "calisanlar = {}\n",
    "        \n",
    "while True:\n",
    "    print(\"1) Çalışan ekle\")\n",
    "    print(\"2) Çalışanları görüntüle\")\n",
    "    print(\"3) Zam yap\")\n",
    "    print(\"4) Çıkış\")\n",
    "    \n",
    "    secim = int(input(\"Yapacağınız işlem numarasını girin\"))\n",
    "    \n",
    "    if secim == 1:\n",
    "        name = input(\"Eklemek istediğiniz çalışanın adını giriniz\")\n",
    "        pozition = input(\"Eklemek istediğiniz çalışanın pozisyonunu giriniz\")\n",
    "        salary = int(input(\"Çalışanın maaşını girin\"))\n",
    "    else:\n",
    "        break"
   ]
  },
  {
   "cell_type": "code",
   "execution_count": null,
   "id": "563aa481-9f2f-4bd5-aa55-fe00696e3e64",
   "metadata": {},
   "outputs": [],
   "source": []
  }
 ],
 "metadata": {
  "kernelspec": {
   "display_name": "Python 3 (ipykernel)",
   "language": "python",
   "name": "python3"
  },
  "language_info": {
   "codemirror_mode": {
    "name": "ipython",
    "version": 3
   },
   "file_extension": ".py",
   "mimetype": "text/x-python",
   "name": "python",
   "nbconvert_exporter": "python",
   "pygments_lexer": "ipython3",
   "version": "3.11.7"
  }
 },
 "nbformat": 4,
 "nbformat_minor": 5
}
