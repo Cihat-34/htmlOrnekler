{
 "cells": [
  {
   "cell_type": "markdown",
   "id": "b4004734-82ee-4b4e-8b46-ee8b0acbdb86",
   "metadata": {},
   "source": [
    "## Aritmatik Operatörler"
   ]
  },
  {
   "cell_type": "markdown",
   "id": "9b38430d-4e51-40d2-8b3a-c410d8f338bb",
   "metadata": {},
   "source": [
    "**Aritmatik işlemler**\n",
    "* Toplama: +\n",
    "* Çıkarma: -\n",
    "* Çarpma: *\n",
    "* Bölme: /\n",
    "* Üs Alma: **\n",
    "* Tam Sayılı Bölme://\n",
    "* Mod Alma: %"
   ]
  },
  {
   "cell_type": "code",
   "execution_count": 1,
   "id": "b2a2d87c-f4dd-4803-a3d3-3523e9f053db",
   "metadata": {},
   "outputs": [
    {
     "data": {
      "text/plain": [
       "8"
      ]
     },
     "execution_count": 1,
     "metadata": {},
     "output_type": "execute_result"
    }
   ],
   "source": [
    "3+5"
   ]
  },
  {
   "cell_type": "code",
   "execution_count": 6,
   "id": "650f4525-a28b-491f-b4a7-137c0097aa2f",
   "metadata": {},
   "outputs": [
    {
     "data": {
      "text/plain": [
       "6"
      ]
     },
     "execution_count": 6,
     "metadata": {},
     "output_type": "execute_result"
    }
   ],
   "source": [
    "2*3"
   ]
  },
  {
   "cell_type": "code",
   "execution_count": 2,
   "id": "c9e6abfa-2241-4892-8c10-7d92eada6cf3",
   "metadata": {},
   "outputs": [
    {
     "data": {
      "text/plain": [
       "8"
      ]
     },
     "execution_count": 2,
     "metadata": {},
     "output_type": "execute_result"
    }
   ],
   "source": [
    "2**3"
   ]
  },
  {
   "cell_type": "code",
   "execution_count": 3,
   "id": "6a70ab37-c330-4f70-85f5-e4f791f8f19d",
   "metadata": {},
   "outputs": [
    {
     "data": {
      "text/plain": [
       "12"
      ]
     },
     "execution_count": 3,
     "metadata": {},
     "output_type": "execute_result"
    }
   ],
   "source": [
    "15-3"
   ]
  },
  {
   "cell_type": "code",
   "execution_count": 4,
   "id": "2194e412-693b-4d12-97a9-b7188f2e9723",
   "metadata": {},
   "outputs": [
    {
     "data": {
      "text/plain": [
       "4.5"
      ]
     },
     "execution_count": 4,
     "metadata": {},
     "output_type": "execute_result"
    }
   ],
   "source": [
    "9/2"
   ]
  },
  {
   "cell_type": "code",
   "execution_count": 5,
   "id": "fc0c5a7f-d692-46cb-8c53-4a3ef15b42f2",
   "metadata": {},
   "outputs": [
    {
     "data": {
      "text/plain": [
       "4"
      ]
     },
     "execution_count": 5,
     "metadata": {},
     "output_type": "execute_result"
    }
   ],
   "source": [
    "9//2"
   ]
  },
  {
   "cell_type": "markdown",
   "id": "593fd613-7e67-423b-95b7-679727fa1166",
   "metadata": {},
   "source": [
    "**Değerler ve Tipler**<br>\n",
    "**Değerler** program içerisinde anlam taşıyan yapılardır. Programın hafızasında yer tutar<br>\n",
    "**Tipler** Bu hafızanın hangi formatta olduğunu belirler"
   ]
  },
  {
   "cell_type": "code",
   "execution_count": 8,
   "id": "1a0cbbd5-7805-4bea-a948-329a3614c018",
   "metadata": {
    "scrolled": true
   },
   "outputs": [
    {
     "data": {
      "text/plain": [
       "str"
      ]
     },
     "execution_count": 8,
     "metadata": {},
     "output_type": "execute_result"
    }
   ],
   "source": [
    "type(\"h\")"
   ]
  },
  {
   "cell_type": "code",
   "execution_count": 9,
   "id": "4c3ce467-c3c8-4224-a729-1b50f29f7a0c",
   "metadata": {
    "scrolled": true
   },
   "outputs": [
    {
     "data": {
      "text/plain": [
       "int"
      ]
     },
     "execution_count": 9,
     "metadata": {},
     "output_type": "execute_result"
    }
   ],
   "source": [
    "type(9)"
   ]
  },
  {
   "cell_type": "code",
   "execution_count": null,
   "id": "90712b55-54c6-4e2d-b95d-7f97abfda202",
   "metadata": {},
   "outputs": [],
   "source": []
  }
 ],
 "metadata": {
  "kernelspec": {
   "display_name": "Python 3 (ipykernel)",
   "language": "python",
   "name": "python3"
  },
  "language_info": {
   "codemirror_mode": {
    "name": "ipython",
    "version": 3
   },
   "file_extension": ".py",
   "mimetype": "text/x-python",
   "name": "python",
   "nbconvert_exporter": "python",
   "pygments_lexer": "ipython3",
   "version": "3.11.7"
  }
 },
 "nbformat": 4,
 "nbformat_minor": 5
}
