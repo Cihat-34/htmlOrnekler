{
 "cells": [
  {
   "cell_type": "code",
   "execution_count": 1,
   "id": "c4816266-41e1-4aaa-94b0-748a0482bc9e",
   "metadata": {
    "tags": []
   },
   "outputs": [],
   "source": [
    "import csv"
   ]
  },
  {
   "cell_type": "code",
   "execution_count": 3,
   "id": "afb542de-3d3d-43f9-a32d-66be48a120bf",
   "metadata": {
    "tags": []
   },
   "outputs": [],
   "source": [
    "file_path = 'books.csv'"
   ]
  },
  {
   "cell_type": "code",
   "execution_count": 12,
   "id": "d75f4354-7dab-467e-b65b-f795de061cfc",
   "metadata": {
    "tags": []
   },
   "outputs": [],
   "source": [
    "data = [\n",
    "    ['Title','Author','Publisher'],\n",
    "    ['Python Programing','John Smith','TechBooks'],\n",
    "    ['Python Programing','John Smith','TechBooks']]"
   ]
  },
  {
   "cell_type": "code",
   "execution_count": 16,
   "id": "75805f1f-97fa-4c6c-9639-9f62573eb4b9",
   "metadata": {
    "tags": []
   },
   "outputs": [],
   "source": [
    "with open(file_path,'w',newline = '',encoding = 'utf-8')as file:\n",
    "    writer = csv.writer(file)\n",
    "    writer.writerows(data)"
   ]
  },
  {
   "cell_type": "code",
   "execution_count": 27,
   "id": "2f7a1dc8-09cb-4352-b487-7036b5fa5d37",
   "metadata": {
    "tags": []
   },
   "outputs": [
    {
     "name": "stdout",
     "output_type": "stream",
     "text": [
      "['Title', 'Author', 'Publisher']\n",
      "['Python Programing', 'John Smith', 'TechBooks']\n",
      "['Python Programing', 'John Smith', 'TechBooks']\n"
     ]
    }
   ],
   "source": [
    "with open('books.csv','r',encoding = 'utf-8') as file:\n",
    "    reader = csv.reader(file)\n",
    "    for row in reader:\n",
    "        print(row)"
   ]
  },
  {
   "cell_type": "code",
   "execution_count": 40,
   "id": "24ec6992-50cb-430c-aa5d-20693d6e4ec6",
   "metadata": {
    "tags": []
   },
   "outputs": [],
   "source": [
    "import csv\n",
    "\n",
    "file_path = 'student.csv'\n",
    "\n",
    "data1 = [\n",
    "    ['Ad','Soyad','Yaş'],\n",
    "    ['Cihat','Yeşiloğlu','16']]\n",
    "\n",
    "with open('student.csv','w',newline = '',encoding = 'utf-8')as file:\n",
    "    writer = csv.writer(file)\n",
    "    writer.writerows(data1)"
   ]
  },
  {
   "cell_type": "code",
   "execution_count": 74,
   "id": "5842bf7a-3952-453f-af9c-cb442cf0c684",
   "metadata": {
    "tags": []
   },
   "outputs": [],
   "source": [
    "file_path = 'students1.txt'\n",
    "\n",
    "students =['Cihat','16','A','     ','Yiğit','16','B']\n",
    "\n",
    "with open(file_path,'w',encoding = 'utf-8')as file:\n",
    "    for line in students:\n",
    "        file.write(line + '/')"
   ]
  },
  {
   "cell_type": "code",
   "execution_count": 146,
   "id": "8e47b8da-ab40-4603-91d0-894f3f934794",
   "metadata": {
    "tags": []
   },
   "outputs": [
    {
     "name": "stdout",
     "output_type": "stream",
     "text": [
      "Okunan kitap değerleri:\n",
      "Nietsche Ağladığında \n",
      "Irvın D. Yalom\n",
      "Ayrıntı Yayınları\n",
      "Title:Nietsche Ağladığında ,Author:Irvın D. Yalom,Publisher:Ayrıntı Yayınları\n"
     ]
    }
   ],
   "source": [
    "class Book:\n",
    "    def __init__(self,title,author,publisher):\n",
    "        self.title = title\n",
    "        self.author = author\n",
    "        self.publisher = publisher\n",
    "    def __str__(self):\n",
    "        return f\"Title:{self.title},Author:{self.author},Publisher:{self.publisher}\"\n",
    "    \n",
    "file_path = 'books.txt'\n",
    "books = ['Nietsche Ağladığında ','Irvın D. Yalom','Ayrıntı Yayınları']\n",
    "\n",
    "with open(file_path,'w',encoding = 'utf-8')as file:\n",
    "    for line in books:\n",
    "        file.write(line + '  ')\n",
    "\n",
    "with open(file_path,'r') as file:\n",
    "    booklines = file.readlines()\n",
    "    \n",
    "    for line in booklines:\n",
    "        data = line.strip().split(',')\n",
    "        \n",
    "        title = books[0]\n",
    "        author = books[1]\n",
    "        publisher = books[2]\n",
    "        \n",
    "        book = Book(title,author,publisher)\n",
    "        \n",
    "        books.append(book)\n",
    "        \n",
    "print(\"Okunan kitap değerleri:\")\n",
    "\n",
    "for book in books:\n",
    "    print(book.__str__())\n",
    "        \n",
    "    "
   ]
  },
  {
   "cell_type": "code",
   "execution_count": null,
   "id": "22aa3373-654a-425b-9675-5f44b45a5353",
   "metadata": {},
   "outputs": [],
   "source": []
  }
 ],
 "metadata": {
  "kernelspec": {
   "display_name": "Python 3 (ipykernel)",
   "language": "python",
   "name": "python3"
  },
  "language_info": {
   "codemirror_mode": {
    "name": "ipython",
    "version": 3
   },
   "file_extension": ".py",
   "mimetype": "text/x-python",
   "name": "python",
   "nbconvert_exporter": "python",
   "pygments_lexer": "ipython3",
   "version": "3.11.7"
  }
 },
 "nbformat": 4,
 "nbformat_minor": 5
}
