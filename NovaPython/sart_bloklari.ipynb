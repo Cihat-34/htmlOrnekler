{
 "cells": [
  {
   "cell_type": "markdown",
   "id": "b3d15271-bed7-4317-8a78-16c7b561e424",
   "metadata": {},
   "source": [
    "# Şartlı İfadeler"
   ]
  },
  {
   "cell_type": "markdown",
   "id": "0d8a91c7-a522-4720-abf6-3bd5b797f280",
   "metadata": {},
   "source": [
    "Şartlı ifadeler sonucu True veya False olan ifadelerdir.\n",
    "\n",
    "Şartımız True ise if bloğu çalışır.\n",
    "\n",
    "Eğer else bloğu varsa false dönerse else bloğu çalışır."
   ]
  },
  {
   "cell_type": "markdown",
   "id": "61f40c23-4ca5-4e46-9511-c4fa1ee7ccdb",
   "metadata": {},
   "source": [
    "** Şart Operatöterleri **\n",
    "\n",
    "x == y : x,y'ye eşit mi?\n",
    "\n",
    "x != y : x,y'ye eşit değil mi?\n",
    "\n",
    "x < y : x,y'den küçük mü ?\n",
    "\n",
    "x > y : x,y'den büyük mü ?\n",
    "\n",
    "x <= y : x,y'den küçük eşit mi ?\n",
    "\n",
    "x >= y : x,y'den büyük eşit mi?"
   ]
  },
  {
   "cell_type": "code",
   "execution_count": 8,
   "id": "f5bc5e55-96c4-44fa-b326-76ba0e01b2d3",
   "metadata": {
    "tags": []
   },
   "outputs": [],
   "source": [
    "sayi1 = 10\n",
    "sayi2 = 15\n"
   ]
  },
  {
   "cell_type": "code",
   "execution_count": 10,
   "id": "9519f7d0-9b3c-4fbf-a53f-ce3a4a0e9ccf",
   "metadata": {
    "tags": []
   },
   "outputs": [
    {
     "data": {
      "text/plain": [
       "False"
      ]
     },
     "execution_count": 10,
     "metadata": {},
     "output_type": "execute_result"
    }
   ],
   "source": [
    "sayi1 == sayi2"
   ]
  },
  {
   "cell_type": "code",
   "execution_count": 12,
   "id": "b5eaf653-f26a-4382-a234-b9692f1afa43",
   "metadata": {
    "tags": []
   },
   "outputs": [
    {
     "data": {
      "text/plain": [
       "True"
      ]
     },
     "execution_count": 12,
     "metadata": {},
     "output_type": "execute_result"
    }
   ],
   "source": [
    "sayi1 != sayi2"
   ]
  },
  {
   "cell_type": "code",
   "execution_count": 14,
   "id": "562d86e8-f6bd-4187-a8cc-8c17618edfc3",
   "metadata": {
    "tags": []
   },
   "outputs": [
    {
     "data": {
      "text/plain": [
       "True"
      ]
     },
     "execution_count": 14,
     "metadata": {},
     "output_type": "execute_result"
    }
   ],
   "source": [
    "sayi1 < sayi2"
   ]
  },
  {
   "cell_type": "code",
   "execution_count": 16,
   "id": "72163353-a5b6-487e-bd22-84a449152780",
   "metadata": {
    "tags": []
   },
   "outputs": [
    {
     "data": {
      "text/plain": [
       "False"
      ]
     },
     "execution_count": 16,
     "metadata": {},
     "output_type": "execute_result"
    }
   ],
   "source": [
    "sayi1 > sayi2"
   ]
  },
  {
   "cell_type": "code",
   "execution_count": 18,
   "id": "92a5f98e-4e34-4676-9c58-f8335b358651",
   "metadata": {
    "tags": []
   },
   "outputs": [
    {
     "data": {
      "text/plain": [
       "True"
      ]
     },
     "execution_count": 18,
     "metadata": {},
     "output_type": "execute_result"
    }
   ],
   "source": [
    "sayi1 <= sayi2"
   ]
  },
  {
   "cell_type": "code",
   "execution_count": 20,
   "id": "cf28eccd-484e-4df7-b6f0-c67b4136a151",
   "metadata": {
    "tags": []
   },
   "outputs": [
    {
     "data": {
      "text/plain": [
       "False"
      ]
     },
     "execution_count": 20,
     "metadata": {},
     "output_type": "execute_result"
    }
   ],
   "source": [
    "sayi1 >= sayi2"
   ]
  },
  {
   "cell_type": "markdown",
   "id": "fb7beaa0-ba61-4561-9b63-05f7433f18df",
   "metadata": {},
   "source": [
    "**Mantıksal Operatörler**\n",
    "\n",
    "and: sadece her iki tarafta True ise sonuç True olur\n",
    "\n",
    "or: bir tane True dönen şart varsa sonuç True olur"
   ]
  },
  {
   "cell_type": "code",
   "execution_count": 2,
   "id": "df527b0a-7e64-4250-8a94-b84683ae211c",
   "metadata": {
    "tags": []
   },
   "outputs": [
    {
     "data": {
      "text/plain": [
       "True"
      ]
     },
     "execution_count": 2,
     "metadata": {},
     "output_type": "execute_result"
    }
   ],
   "source": [
    "True and True"
   ]
  },
  {
   "cell_type": "code",
   "execution_count": 4,
   "id": "abd0f273-0fb4-4df7-b77a-5d6e7855fc50",
   "metadata": {
    "tags": []
   },
   "outputs": [
    {
     "data": {
      "text/plain": [
       "False"
      ]
     },
     "execution_count": 4,
     "metadata": {},
     "output_type": "execute_result"
    }
   ],
   "source": [
    "True and False"
   ]
  },
  {
   "cell_type": "code",
   "execution_count": 6,
   "id": "a1578a08-23f7-4654-ad6e-e531a03e3716",
   "metadata": {
    "tags": []
   },
   "outputs": [
    {
     "data": {
      "text/plain": [
       "True"
      ]
     },
     "execution_count": 6,
     "metadata": {},
     "output_type": "execute_result"
    }
   ],
   "source": [
    "True or False"
   ]
  },
  {
   "cell_type": "code",
   "execution_count": 10,
   "id": "a02f20d3-7daa-4ac5-8c03-78bfb2cd7e47",
   "metadata": {
    "tags": []
   },
   "outputs": [
    {
     "name": "stdout",
     "output_type": "stream",
     "text": [
      "7 sayısı 0'dan büyüktür\n"
     ]
    }
   ],
   "source": [
    "x = 7\n",
    "\n",
    "if x > 0 :\n",
    "    print(\"{} sayısı 0'dan büyüktür\".format(x))"
   ]
  },
  {
   "cell_type": "code",
   "execution_count": 12,
   "id": "db9fc575-b241-4e99-9cf8-708b573a9668",
   "metadata": {
    "tags": []
   },
   "outputs": [
    {
     "name": "stdout",
     "output_type": "stream",
     "text": [
      "--if bloğu öncesi--\n",
      "7 sayısı 0'dan büyüktür\n",
      "--if bloğu sonrası--\n"
     ]
    }
   ],
   "source": [
    "x = 7\n",
    "print(\"--if bloğu öncesi--\")\n",
    "\n",
    "if x > 0 :\n",
    "    print(\"{} sayısı 0'dan büyüktür\".format(x))\n",
    "print(\"--if bloğu sonrası--\")\n"
   ]
  },
  {
   "cell_type": "code",
   "execution_count": 14,
   "id": "60e7b367-a2c6-486e-8fde-7301dfee1983",
   "metadata": {
    "tags": []
   },
   "outputs": [
    {
     "name": "stdout",
     "output_type": "stream",
     "text": [
      "--if bloğu öncesi--\n",
      "--if bloğu sonrası--\n"
     ]
    }
   ],
   "source": [
    "x = -5\n",
    "print(\"--if bloğu öncesi--\")\n",
    "\n",
    "if x > 0 :\n",
    "    print(\"{} sayısı 0'dan büyüktür\".format(x))\n",
    "print(\"--if bloğu sonrası--\")\n"
   ]
  },
  {
   "cell_type": "code",
   "execution_count": 18,
   "id": "50fa34dc-0599-44df-91ae-2913e8612217",
   "metadata": {
    "tags": []
   },
   "outputs": [
    {
     "name": "stdout",
     "output_type": "stream",
     "text": [
      "6 sayısı 0 dan büyük ve 10 dan küçük eşittir\n"
     ]
    }
   ],
   "source": [
    "# x sayısı 0 dan büyük ve 10 da küçükse ekrana yazdıralım\n",
    "x = 6\n",
    "if x > 0 and x <= 10:\n",
    "    print(\"{} sayısı 0 dan büyük ve 10 dan küçük eşittir\".format(x))"
   ]
  },
  {
   "cell_type": "markdown",
   "id": "18bd0bc7-b812-4e98-9937-c0fb0437920e",
   "metadata": {},
   "source": [
    "**else**\n",
    "\n",
    "Hiçbir koşul yerine gelmiyorsa else bloğu çalışır"
   ]
  },
  {
   "cell_type": "code",
   "execution_count": 29,
   "id": "a9cdce23-786c-408b-a161-4315d7eb1ebc",
   "metadata": {
    "tags": []
   },
   "outputs": [
    {
     "name": "stdin",
     "output_type": "stream",
     "text": [
      "Bir sayı giriniz 3\n"
     ]
    },
    {
     "name": "stdout",
     "output_type": "stream",
     "text": [
      "Tek sayıdır\n"
     ]
    }
   ],
   "source": [
    "x = int(input(\"Bir sayı giriniz\"))\n",
    "if x % 2 == 0:\n",
    "    print(\"Çift sayıdır\")\n",
    "else:\n",
    "    print(\"Tek sayıdır\")"
   ]
  },
  {
   "cell_type": "code",
   "execution_count": 37,
   "id": "fcea97f9-68c5-4d62-aeb2-52a818b5b71d",
   "metadata": {
    "tags": []
   },
   "outputs": [
    {
     "name": "stdin",
     "output_type": "stream",
     "text": [
      "1.sayıyı giriniz 8\n",
      "2.sayıyı giriniz 4\n",
      "3.sayıyı giriniz 3\n"
     ]
    },
    {
     "name": "stdout",
     "output_type": "stream",
     "text": [
      "8 sayısı en büyüktür\n"
     ]
    }
   ],
   "source": [
    "sayi1 = int(input(\"1.sayıyı giriniz\"))\n",
    "sayi2 = int(input(\"2.sayıyı giriniz\"))\n",
    "sayi3 = int(input(\"3.sayıyı giriniz\"))\n",
    "if sayi1 > sayi2:\n",
    "    if sayi1 > sayi3:\n",
    "        print(\"{} sayısı en büyüktür\".format(sayi1))\n",
    "else:\n",
    "    if sayi2 > sayi3:\n",
    "        print(\"{} sayısı en büyüktür\".format(sayi2))\n",
    "    else:\n",
    "        print(\"{} sayısı en büyüktür\".format(sayi3))    "
   ]
  },
  {
   "cell_type": "code",
   "execution_count": 1,
   "id": "ea8d3c60-0acf-48c8-a55b-d1b7879eca1f",
   "metadata": {
    "tags": []
   },
   "outputs": [
    {
     "name": "stdout",
     "output_type": "stream",
     "text": [
      "9\n"
     ]
    }
   ],
   "source": [
    "sayi1 = 9\n",
    "sayi2 = 6\n",
    "sayi3 = 7\n",
    "# sayi1 i en büyük değer olarak varsaydım\n",
    "en_buyuk = sayi1\n",
    "\n",
    "if sayi2 > en_buyuk:\n",
    "    en_buyuk = sayi2\n",
    "if sayi3 > en_buyuk:\n",
    "    en_buyuk = sayi2\n",
    "    \n",
    "print(en_buyuk)"
   ]
  },
  {
   "cell_type": "code",
   "execution_count": 7,
   "id": "e8bf2741-1c65-43df-a34a-52545d1b917f",
   "metadata": {
    "tags": []
   },
   "outputs": [
    {
     "name": "stdin",
     "output_type": "stream",
     "text": [
      "Kullanıcı adı giriniz cihat3455\n",
      "Şifrenizi giriniz 1234567890\n"
     ]
    },
    {
     "name": "stdout",
     "output_type": "stream",
     "text": [
      "Sisteme hoşgeldiniz\n"
     ]
    }
   ],
   "source": [
    "kullanici_adi = \"cihat3455\"\n",
    "sifre = \"1234567890\"\n",
    "kullanici_girisi = input(\"Kullanıcı adı giriniz\")\n",
    "kullanici_sifre_girisi = input(\"Şifrenizi giriniz\")\n",
    "if kullanici_adi == kullanici_girisi:\n",
    "    if kullanici_sifre_girisi == sifre:\n",
    "        print(\"Sisteme hoşgeldiniz\")\n",
    "    else:\n",
    "        print(\"Hatalı şifre\")\n",
    "else:\n",
    "    print(\"Hatalı kullanıcı adı\")"
   ]
  },
  {
   "cell_type": "code",
   "execution_count": 11,
   "id": "fc849a69-fe71-4a1d-a0bf-c6336429ed8b",
   "metadata": {
    "tags": []
   },
   "outputs": [
    {
     "name": "stdin",
     "output_type": "stream",
     "text": [
      "Kullanıcı adı giriniz cihat\n",
      "Şifrnizi giriniz 123\n"
     ]
    },
    {
     "name": "stdout",
     "output_type": "stream",
     "text": [
      "Hoşgeldiniz\n"
     ]
    }
   ],
   "source": [
    "kullanici_adi = input(\"Kullanıcı adı giriniz\")\n",
    "sifre =  input(\"Şifrnizi giriniz\")\n",
    "\n",
    "\n",
    "\n",
    "if kullanici_adi == \"cihat\" and sifre == \"123\":\n",
    "    print(\"Hoşgeldiniz\")\n",
    "else:\n",
    "    print(\"Kullanıcı adı veya şifrer hatalı\")"
   ]
  },
  {
   "cell_type": "code",
   "execution_count": null,
   "id": "f3cc7512-007f-4f06-ac0b-5d0d93b25868",
   "metadata": {
    "tags": []
   },
   "outputs": [],
   "source": [
    "dogum_yili = int(input(\"doğduğunuz yılı giriniz\"))\n",
    "kullanici_yasi = 2024 - dogum_yili\n",
    "if kullanici_yasi >= 18:\n",
    "    print(\"Ehliyet alabilirsiniz\")\n",
    "else:\n",
    "    print(\"Ehliyet alamazsınız\")"
   ]
  },
  {
   "cell_type": "markdown",
   "id": "f6412283-1793-45fb-85bd-5301d42aeb68",
   "metadata": {},
   "source": [
    "**not** keyword u bir ifadeyi tersine çevirmek için kullanılır. (True ise False yapar. False ise True yapar.)"
   ]
  },
  {
   "cell_type": "code",
   "execution_count": 4,
   "id": "64ce9158-4572-4f66-ae39-28bb88cbabca",
   "metadata": {
    "tags": []
   },
   "outputs": [
    {
     "name": "stdout",
     "output_type": "stream",
     "text": [
      "x 5'e eşit değil\n"
     ]
    }
   ],
   "source": [
    "x = 8\n",
    "if not x == 5:\n",
    "    print(\"x 5'e eşit değil\")"
   ]
  },
  {
   "cell_type": "markdown",
   "id": "9d9c31df-b972-4fbe-837b-05e90b359216",
   "metadata": {},
   "source": [
    "**elif**\n",
    "\n",
    "\n",
    "Çıktıları farklı olan birden fazla kontrol yapabiliriz.Bu kontrolleri yapabilmek için elif kullanırız."
   ]
  },
  {
   "cell_type": "code",
   "execution_count": 7,
   "id": "50eace60-61b4-4161-82de-f16e8e2ae17e",
   "metadata": {
    "tags": []
   },
   "outputs": [
    {
     "name": "stdin",
     "output_type": "stream",
     "text": [
      "Bir sayı yazınız -1\n"
     ]
    },
    {
     "name": "stdout",
     "output_type": "stream",
     "text": [
      "Negatif\n"
     ]
    }
   ],
   "source": [
    "sayi = int(input(\"Bir sayı yazınız\"))\n",
    "\n",
    "if sayi < 0:\n",
    "    print(\"Negatif\")\n",
    "elif sayi == 0:\n",
    "    print(\"Nötr\")\n",
    "else:\n",
    "    print(\"Pozitif\")"
   ]
  },
  {
   "cell_type": "code",
   "execution_count": 13,
   "id": "8c689698-692d-40d5-9b9c-16dd2119bb65",
   "metadata": {
    "tags": []
   },
   "outputs": [
    {
     "name": "stdin",
     "output_type": "stream",
     "text": [
      "Vize puanını giriniz 90\n",
      "Final puanını giriniz 80\n",
      "Ödev puanını giriniz 75\n"
     ]
    },
    {
     "name": "stdout",
     "output_type": "stream",
     "text": [
      "CB\n",
      "Notunuz 82.0\n"
     ]
    }
   ],
   "source": [
    "vize_puani = int(input(\"Vize puanını giriniz\"))\n",
    "final_puani= int(input(\"Final puanını giriniz\"))\n",
    "odev_puani = int(input(\"Ödev puanını giriniz\"))\n",
    "toplam_not = (vize_puani*0.3) + (final_puani*0.5) + (odev_puani*0.2)\n",
    "if toplam_not >= 90:\n",
    "    print(\"AA\")\n",
    "elif toplam_not >= 85:\n",
    "    print(\"BA\")\n",
    "elif toplam_not >= 75:\n",
    "    print(\"CB\")\n",
    "elif toplam_not >= 70:\n",
    "    print(\"CC\")\n",
    "elif toplam_not < 70:\n",
    "    print(\"FF kaldınız\")\n",
    "\n",
    "print(\"Notunuz\",toplam_not)"
   ]
  },
  {
   "cell_type": "markdown",
   "id": "4f01db2f-a8ba-4467-8819-fc73f911ad81",
   "metadata": {},
   "source": [
    "Bir kargo şirketi,\n",
    "\n",
    "2 kg a kadar olan kargoları kilogramını 6 tl\n",
    "\n",
    "2 ve 6 kg a kadar olan kargoları kilogramını 5 tl\n",
    "\n",
    "6 ve 10 kg a kadar olan kargoları kilogramını 4 tl\n",
    "\n",
    "10 kilogram ve üzeri kargoları kilogramını 3 tl den taşımaktadır.\n",
    "\n",
    "Buna göre kullanıcıdan alınan kilogram miktarının fiyatını belirleyen programı yazınız."
   ]
  },
  {
   "cell_type": "code",
   "execution_count": 13,
   "id": "0f04fcb7-4b7c-46b5-80b1-1c512fbcf9b7",
   "metadata": {
    "tags": []
   },
   "outputs": [
    {
     "name": "stdin",
     "output_type": "stream",
     "text": [
      "Kargonuzun kilosunu giriniz 7\n"
     ]
    },
    {
     "name": "stdout",
     "output_type": "stream",
     "text": [
      "kargonuz için ödeyeceğiniz tutar:  28 TL\n"
     ]
    }
   ],
   "source": [
    "kargo = int(input(\"Kargonuzun kilosunu giriniz\"))\n",
    "if kargo <= 2:\n",
    "    print(\"Kargonuz için ödeyeceğiniz tutar: \",kargo*6,\"TL\")\n",
    "elif kargo > 2 and kargo < 6:\n",
    "    print(\"kargonuz için ödeyeceğiniz tutar: \",kargo*5,\"TL\")\n",
    "elif kargo >= 6 and kargo < 10:\n",
    "    print(\"kargonuz için ödeyeceğiniz tutar: \",kargo*4,\"TL\")\n",
    "else:\n",
    "    print(\"kargonuz için ödeyeceğiniz tutar: \",kargo*3,\"TL\")"
   ]
  },
  {
   "cell_type": "code",
   "execution_count": null,
   "id": "df7c3299-b578-421f-9a04-e0085e0b6670",
   "metadata": {
    "tags": []
   },
   "outputs": [],
   "source": [
    "# kullanici 1 den 7 ye kadar sayı girsin. karşılığında print olarak haftanın günlerini yazdıralım.\n",
    "gun = int(input(\"1 den 7 ye kadar bir sayı giriniz:\"))\n",
    "\n",
    "if gun == 1:\n",
    "    print(\"Pazartesi\")\n",
    "elif gun == 2:\n",
    "    print(\"Salı\")\n",
    "elif gun == 3:\n",
    "    print(\"Çarşamba\")\n",
    "elif gun == 4:\n",
    "    print(\"Perşembe\")\n",
    "elif gun == 5:\n",
    "    print(\"Cuma\")\n",
    "elif gun == 6:\n",
    "    print(\"Cumartesi\")\n",
    "else:\n",
    "    print(\"Pazar\")"
   ]
  },
  {
   "cell_type": "markdown",
   "id": "52c3b08f-2d91-42a7-8d14-878e53444206",
   "metadata": {},
   "source": [
    "Programımız çalışıyor fakat bazı mantık hataları varsa.\n",
    "\n",
    "Ya kullanıcı sayı yerine bir harf girerse?\n",
    "\n",
    "ya kullanıcı 1 den küçük 7 den büyük bir sayı girerse?"
   ]
  },
  {
   "cell_type": "markdown",
   "id": "2f5b19a3-10e4-4e4f-a84a-cbccac2a2dd9",
   "metadata": {},
   "source": [
    "**iç içe if ler(Nested)**\n",
    "\n",
    "\n",
    "Koşul sağlandıktan sonra o koşul içinde farklı bir koşula bakmamız gerekiyorsa iç içe ifleri kullanırız."
   ]
  },
  {
   "cell_type": "code",
   "execution_count": 29,
   "id": "d0a2e7d8-a1a5-4eb9-aab1-fd7ff5ba8bf9",
   "metadata": {
    "tags": []
   },
   "outputs": [
    {
     "name": "stdin",
     "output_type": "stream",
     "text": [
      "Bir film izlemek ister misiniz?(Evet/Hayır) evet\n",
      "Hangi tür film izlemek istersiniz?(Aksiyon/Komedi) Aksiyon\n"
     ]
    },
    {
     "name": "stdout",
     "output_type": "stream",
     "text": [
      "Güzel tercih.Heyecan verici filmler\n"
     ]
    }
   ],
   "source": [
    "cevap = input(\"Bir film izlemek ister misiniz?(Evet/Hayır)\")\n",
    "\n",
    "if cevap == \"Evet\" or cevap ==\"evet\":\n",
    "    tur = input(\"Hangi tür film izlemek istersiniz?(Aksiyon/Komedi)\")\n",
    "    if tur == \"Aksiyon\" or tur == \"aksiyon\":\n",
    "        print(\"Güzel tercih.Heyecan verici filmler\")\n",
    "    elif tur == \"Komedi\" or tur == \"komedi\":\n",
    "        print(\"Eğlenmek için güzel bir tercih\")\n",
    "    else:\n",
    "        print(\"Aksiyon veya Komedi girmeniz gerekiyor.\")\n",
    "elif cevap == \"Hayır\" or cevap == \"hayır\":\n",
    "    print(\"Başka bir aktivite yapmak istermisiniz(Müzik dinleme/Kitap okuma)\")\n",
    "else:\n",
    "    print(\"Evet veya Hayır girmelisiniz.\")"
   ]
  },
  {
   "cell_type": "code",
   "execution_count": null,
   "id": "f5726c08-7af8-450f-a3f8-a893d387b60c",
   "metadata": {},
   "outputs": [],
   "source": [
    "girdi = input(\"Bir sayı giriniz(1 ve 7 arasında)\")\n",
    "\n",
    "if girdi.isdigit():\n",
    "    gun_numarasi = int(girdi)\n",
    "else:\n",
    "    print(\"Bir sayı girmelisiniz.\")\n",
    "    \n",
    "if gun_numarasi >= 1 and gun_numarasi <= 7:\n",
    "    prit(\"---\")\n",
    "else:\n",
    "    print(\"LÜtfen 1 ve 7 arasında giriniz.\")"
   ]
  },
  {
   "cell_type": "code",
   "execution_count": 43,
   "id": "1315053a-3a9d-4ebb-834d-c8cf11e518ac",
   "metadata": {
    "tags": []
   },
   "outputs": [
    {
     "name": "stdin",
     "output_type": "stream",
     "text": [
      "1 den 7 ye kadar bir sayı giriniz: 6\n"
     ]
    },
    {
     "name": "stdout",
     "output_type": "stream",
     "text": [
      "Cumartesi\n"
     ]
    }
   ],
   "source": [
    "# refactor edelim. \n",
    "gun = input(\"1 den 7 ye kadar bir sayı giriniz:\")\n",
    "\n",
    "if gun.isdigit():\n",
    "    gun_numarasi = int(gun)\n",
    "    if gun_numarasi >= 1 and gun_numarasi <= 7:\n",
    "        if gun_numarasi == 1:\n",
    "            print(\"Pazartesi\")\n",
    "        elif gun_numarasi == 2:\n",
    "            print(\"Salı\")\n",
    "        elif gun_numarasi == 3:\n",
    "            print(\"Çarşamba\")\n",
    "        elif gun_numarasi == 4:\n",
    "            print(\"Perşembe\")\n",
    "        elif gun_numarasi == 5:\n",
    "            print(\"Cuma\")\n",
    "        elif gun_numarasi == 6:\n",
    "            print(\"Cumartesi\")\n",
    "        else:\n",
    "            print(\"Pazar\")\n",
    "    else:\n",
    "        print(\"1 ile 7 arasında olmalı\")\n",
    "else:\n",
    "    print(\"Lütfen sayı giriniz.\")"
   ]
  },
  {
   "cell_type": "markdown",
   "id": "b8d3bb8a-c6ab-4bb9-b9a7-4068021a580d",
   "metadata": {},
   "source": [
    "kullanıcıdan bir sayı isteyelim.\n",
    "\n",
    "Sayı 10 dan küçük ise:<br>\n",
    "    tek ise-> 10 dan küçük TEK<br>\n",
    "    çift ise -> 10 dan küçük ÇİFT<br>\n",
    "Sayı 10 dan büyük ise:<br>\n",
    "    tek ise -> TEK<br>\n",
    "    çift ise -> ÇİFT"
   ]
  },
  {
   "cell_type": "code",
   "execution_count": 61,
   "id": "a13d7182-0812-4af4-8868-84e051e249d5",
   "metadata": {
    "tags": []
   },
   "outputs": [
    {
     "name": "stdin",
     "output_type": "stream",
     "text": [
      "Bir sayı giriniz 10\n"
     ]
    },
    {
     "name": "stdout",
     "output_type": "stream",
     "text": [
      "ÇİFT\n"
     ]
    }
   ],
   "source": [
    "sayi = input(\"Bir sayı giriniz\")\n",
    "\n",
    "if sayi.isdigit():\n",
    "    sayi = int(sayi)\n",
    "    if sayi < 10:\n",
    "        if sayi % 2 == 0:\n",
    "            print(\"10 dan küçük ÇİFT\")\n",
    "        else:\n",
    "            print(\"10 dan küçük TEK\")\n",
    "    else:\n",
    "        if sayi % 2 == 0:\n",
    "            print(\"ÇİFT\")\n",
    "        else:\n",
    "            print(\"TEK\")\n",
    "else:\n",
    "    print(\"Lütfen sadece sayı giriniz\")"
   ]
  },
  {
   "cell_type": "markdown",
   "id": "f0fe2e60-b9c6-4ae4-a8c2-d44f1ce4c01f",
   "metadata": {},
   "source": [
    "Kullanıcıdan 3 farklı değer alınız.\n",
    "\n",
    "\n",
    "Bu bir üçgen mi ?\n",
    "\n",
    "\n",
    "a+b>c\n",
    "\n",
    "\n",
    "a+c>b\n",
    "\n",
    "\n",
    "b+c>a\n",
    "\n",
    "\n",
    "İki kenar eşit ise ikizkenar üçgen\n",
    "\n",
    "\n",
    "Üç kenar eşit ise Eşkenar üçgen\n",
    "\n",
    "\n",
    "Hiçbiri eşit değilse çeşitkenar üçgen"
   ]
  },
  {
   "cell_type": "code",
   "execution_count": 73,
   "id": "de0cf15d-9327-4c76-8cd3-cc0442e85566",
   "metadata": {
    "tags": []
   },
   "outputs": [
    {
     "name": "stdin",
     "output_type": "stream",
     "text": [
      "İlk kenarı giriniz 3\n",
      "İkinci kenarı giriniz 4\n",
      "Üçüncü kenarı giriniz 5\n"
     ]
    },
    {
     "name": "stdout",
     "output_type": "stream",
     "text": [
      "Bu bir çeşitkenar üçgendir\n"
     ]
    }
   ],
   "source": [
    "kenar_1 = input(\"İlk kenarı giriniz\")\n",
    "kenar_2 = input(\"İkinci kenarı giriniz\")\n",
    "kenar_3 = input(\"Üçüncü kenarı giriniz\")\n",
    "\n",
    "if kenar_1.isdigit() and kenar_2.isdigit() and kenar_3.isdigit():\n",
    "    kenar_1 = int(kenar_1)\n",
    "    kenar_2 = int(kenar_2)\n",
    "    kenar_3 = int(kenar_3)\n",
    "    if kenar_1 + kenar_2 > kenar_3 and kenar_1 + kenar_3 > kenar_2 and kenar_2 + kenar_3 > kenar_1:\n",
    "        if kenar_1 == kenar_2 == kenar_3:\n",
    "            print(\"Bu bir eşkenar üçgendir\")\n",
    "        elif kenar_1 == kenar_2 or kenar_1 == kenar_3 or kenar_2 == kenar_3:\n",
    "            print(\"Bu ikizkenar üçgendir\")\n",
    "        else:\n",
    "            print(\"Bu bir çeşitkenar üçgendir\")\n",
    "    else:\n",
    "        print(\"Bu bir üçgen değil\")\n",
    "else:\n",
    "    print(\"Lütfen sadece sayı giriniz\")"
   ]
  },
  {
   "cell_type": "code",
   "execution_count": null,
   "id": "826ac73e-ab1f-4d66-b3e0-3b3b5827f0f8",
   "metadata": {},
   "outputs": [],
   "source": []
  }
 ],
 "metadata": {
  "kernelspec": {
   "display_name": "Python 3 (ipykernel)",
   "language": "python",
   "name": "python3"
  },
  "language_info": {
   "codemirror_mode": {
    "name": "ipython",
    "version": 3
   },
   "file_extension": ".py",
   "mimetype": "text/x-python",
   "name": "python",
   "nbconvert_exporter": "python",
   "pygments_lexer": "ipython3",
   "version": "3.11.7"
  }
 },
 "nbformat": 4,
 "nbformat_minor": 5
}
