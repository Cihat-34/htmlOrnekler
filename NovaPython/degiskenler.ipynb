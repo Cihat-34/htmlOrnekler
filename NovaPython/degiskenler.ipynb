{
 "cells": [
  {
   "cell_type": "markdown",
   "id": "0af79442-0b42-44c4-ac3d-5a6bc2def20f",
   "metadata": {},
   "source": [
    "## Değişkenler"
   ]
  },
  {
   "cell_type": "markdown",
   "id": "0c216a17-9e81-4995-a3f7-52a0a541d585",
   "metadata": {},
   "source": [
    "**Değişken** bir **değere** atıfta bulunan bir isimdir.<br>\n",
    "Bilgisayarın hafızasında o değere ait adresin ismidir.<br>\n",
    "**Atama** işlemi yeni bir değişken yaratır ve ona bir değer atar."
   ]
  },
  {
   "cell_type": "code",
   "execution_count": 22,
   "id": "d673231a-8713-4f19-86ff-0e4afced4508",
   "metadata": {},
   "outputs": [],
   "source": [
    "sayi = 5"
   ]
  },
  {
   "cell_type": "code",
   "execution_count": 23,
   "id": "73d47d2a-309a-4cb4-9ab5-35721ee5ed98",
   "metadata": {},
   "outputs": [
    {
     "name": "stdout",
     "output_type": "stream",
     "text": [
      "5\n"
     ]
    }
   ],
   "source": [
    "print (sayi)"
   ]
  },
  {
   "cell_type": "code",
   "execution_count": 24,
   "id": "826c3c18-b4b2-4d97-b10c-cfdd37a22d4e",
   "metadata": {},
   "outputs": [],
   "source": [
    "harf = \"Cihat\""
   ]
  },
  {
   "cell_type": "code",
   "execution_count": 25,
   "id": "534428c9-e701-4f78-b69c-4224d563bb07",
   "metadata": {},
   "outputs": [
    {
     "name": "stdout",
     "output_type": "stream",
     "text": [
      "Cihat\n"
     ]
    }
   ],
   "source": [
    "print (harf)"
   ]
  },
  {
   "cell_type": "code",
   "execution_count": 26,
   "id": "c5a60e32-3244-4e53-9b52-7ba29c4a32af",
   "metadata": {},
   "outputs": [],
   "source": [
    "sayi = 7"
   ]
  },
  {
   "cell_type": "code",
   "execution_count": 27,
   "id": "0133a2f8-7fcb-4afe-9781-dbe367003f8d",
   "metadata": {},
   "outputs": [
    {
     "name": "stdout",
     "output_type": "stream",
     "text": [
      "7\n"
     ]
    }
   ],
   "source": [
    "print(sayi)"
   ]
  },
  {
   "cell_type": "code",
   "execution_count": 28,
   "id": "456b9e76-80e4-4246-9f69-3bbb15d79828",
   "metadata": {},
   "outputs": [],
   "source": [
    "Sayi = 9"
   ]
  },
  {
   "cell_type": "code",
   "execution_count": 29,
   "id": "3f12c71f-6750-4ede-a3c5-b53af5f438ba",
   "metadata": {},
   "outputs": [
    {
     "name": "stdout",
     "output_type": "stream",
     "text": [
      "9\n"
     ]
    }
   ],
   "source": [
    "print(Sayi)"
   ]
  },
  {
   "cell_type": "markdown",
   "id": "d78ac4c0-663d-49cf-8989-9f3e9ab0a213",
   "metadata": {},
   "source": [
    "**Python'da Değişken İsimleri**\n",
    "* Seçtiğimiz değişkenin anlamlı olması gerekir.<br>\n",
    "* Genelde sanke_case isimlendirme kullanılır.\n",
    "(sesli_harfler)<br>\n",
    "* Değişken isimlerimiz:\n",
    "    * sayı ile başlamaz (1sayi, 2.deger)<br>\n",
    "    * Boşluk karakteri kullanılmaz.<br>\n",
    "    * Özel karakter içermez. (@,!,?)<br>\n",
    "    * Keyword(anahtar kelime) içermez.(if,for)"
   ]
  },
  {
   "cell_type": "code",
   "execution_count": 1,
   "id": "4b798659-ffb6-434d-98e9-5477b581677c",
   "metadata": {},
   "outputs": [],
   "source": [
    "sayi_1 = 7\n",
    "sayi_2 = 14\n",
    "\n",
    "sonuc = sayi_1 + sayi_2"
   ]
  },
  {
   "cell_type": "code",
   "execution_count": 2,
   "id": "69d95122-c4e8-4a88-aeb9-bb0d1a402ea2",
   "metadata": {},
   "outputs": [
    {
     "data": {
      "text/plain": [
       "21"
      ]
     },
     "execution_count": 2,
     "metadata": {},
     "output_type": "execute_result"
    }
   ],
   "source": [
    "sayi_1 + sayi_2"
   ]
  },
  {
   "cell_type": "code",
   "execution_count": 3,
   "id": "5357f0a7-3bc1-4eeb-85d2-33271d0cada4",
   "metadata": {},
   "outputs": [
    {
     "name": "stdout",
     "output_type": "stream",
     "text": [
      "21\n"
     ]
    }
   ],
   "source": [
    "print (sonuc)"
   ]
  },
  {
   "cell_type": "markdown",
   "id": "6b8f66cf-bb8b-47c0-8cce-137a496e6cdb",
   "metadata": {},
   "source": [
    "## String İşlemler"
   ]
  },
  {
   "cell_type": "code",
   "execution_count": 4,
   "id": "244f97ef-c9ba-4236-ba20-f7f57a1567e5",
   "metadata": {},
   "outputs": [
    {
     "name": "stdout",
     "output_type": "stream",
     "text": [
      "Python öğreniyorum\n"
     ]
    }
   ],
   "source": [
    "metin_cift = \"Python öğreniyorum\"\n",
    "print(metin_cift)"
   ]
  },
  {
   "cell_type": "code",
   "execution_count": 5,
   "id": "ef3b4237-0b9e-47a6-a2c4-6c031a47adc0",
   "metadata": {},
   "outputs": [
    {
     "name": "stdout",
     "output_type": "stream",
     "text": [
      "Python öğreniyorum\n"
     ]
    }
   ],
   "source": [
    "metin_tek = 'Python öğreniyorum'\n",
    "print(metin_tek)"
   ]
  },
  {
   "cell_type": "code",
   "execution_count": 7,
   "id": "2d8dc7c8-1e6f-47a3-b977-885ff66ab267",
   "metadata": {},
   "outputs": [
    {
     "name": "stdout",
     "output_type": "stream",
     "text": [
      "Nova Akademi'nin kursu\n"
     ]
    }
   ],
   "source": [
    "metin_tek_cift = \"Nova Akademi'nin kursu\"\n",
    "print(metin_tek_cift)"
   ]
  },
  {
   "cell_type": "code",
   "execution_count": 8,
   "id": "3444735b-a99b-40bc-965e-a6708f06e382",
   "metadata": {},
   "outputs": [
    {
     "ename": "SyntaxError",
     "evalue": "unterminated string literal (detected at line 1) (1914685739.py, line 1)",
     "output_type": "error",
     "traceback": [
      "\u001b[1;36m  Cell \u001b[1;32mIn[8], line 1\u001b[1;36m\u001b[0m\n\u001b[1;33m    metin = \"Bu iki'li tırnaktır.'\u001b[0m\n\u001b[1;37m            ^\u001b[0m\n\u001b[1;31mSyntaxError\u001b[0m\u001b[1;31m:\u001b[0m unterminated string literal (detected at line 1)\n"
     ]
    }
   ],
   "source": [
    "metin = \"Bu iki'li tırnaktır.'\n",
    "print(metin)"
   ]
  },
  {
   "cell_type": "markdown",
   "id": "0ae0a746-69b6-4b31-bdcc-5a6dd7115c86",
   "metadata": {},
   "source": [
    "Python'da string ifadeler üxerinde aritmatik işlemler yapamayız."
   ]
  },
  {
   "cell_type": "code",
   "execution_count": 9,
   "id": "d7636204-837a-46cd-a501-56d3e07f855b",
   "metadata": {},
   "outputs": [
    {
     "data": {
      "text/plain": [
       "7"
      ]
     },
     "execution_count": 9,
     "metadata": {},
     "output_type": "execute_result"
    }
   ],
   "source": [
    "4 + 3"
   ]
  },
  {
   "cell_type": "code",
   "execution_count": 10,
   "id": "cd9c1090-cb83-4ae2-8bfd-a1d2626b3713",
   "metadata": {},
   "outputs": [
    {
     "data": {
      "text/plain": [
       "'43'"
      ]
     },
     "execution_count": 10,
     "metadata": {},
     "output_type": "execute_result"
    }
   ],
   "source": [
    "'4' + '3'"
   ]
  },
  {
   "cell_type": "code",
   "execution_count": 11,
   "id": "2c8919c0-e4fe-4299-84cd-6c4233a15070",
   "metadata": {},
   "outputs": [
    {
     "data": {
      "text/plain": [
       "'Cihat Yeşiloğlu'"
      ]
     },
     "execution_count": 11,
     "metadata": {},
     "output_type": "execute_result"
    }
   ],
   "source": [
    "'Cihat' + ' ' + 'Yeşiloğlu'"
   ]
  },
  {
   "cell_type": "markdown",
   "id": "810d84f0-812b-4d17-b1e7-b92e5ef0b784",
   "metadata": {},
   "source": [
    "**İstisna** (+ ve *)işlemleri yapılabilir.Matematiksel olarak sonuç dönmez."
   ]
  },
  {
   "cell_type": "code",
   "execution_count": 12,
   "id": "c369535d-311e-4b9e-96a7-c9db81331f8e",
   "metadata": {},
   "outputs": [],
   "source": [
    "birinci = \"Python\"\n",
    "ikinci = \"kursu\""
   ]
  },
  {
   "cell_type": "code",
   "execution_count": 13,
   "id": "49ef0471-f46d-4d75-9ce7-a8bec0599213",
   "metadata": {},
   "outputs": [
    {
     "data": {
      "text/plain": [
       "'Pythonkursu'"
      ]
     },
     "execution_count": 13,
     "metadata": {},
     "output_type": "execute_result"
    }
   ],
   "source": [
    "birinci + ikinci"
   ]
  },
  {
   "cell_type": "code",
   "execution_count": 14,
   "id": "1ec967eb-f7f0-4cf0-9bca-940e8102c5ff",
   "metadata": {},
   "outputs": [
    {
     "data": {
      "text/plain": [
       "'PythonPythonPython'"
      ]
     },
     "execution_count": 14,
     "metadata": {},
     "output_type": "execute_result"
    }
   ],
   "source": [
    "3 * birinci"
   ]
  },
  {
   "cell_type": "code",
   "execution_count": 15,
   "id": "5f6851ad-2c86-4aaf-a8ae-7ed88227434b",
   "metadata": {},
   "outputs": [
    {
     "data": {
      "text/plain": [
       "'555555'"
      ]
     },
     "execution_count": 15,
     "metadata": {},
     "output_type": "execute_result"
    }
   ],
   "source": [
    "6 * '5'"
   ]
  },
  {
   "cell_type": "code",
   "execution_count": 22,
   "id": "49ae3eb7-0205-4eba-aec1-a98427628d35",
   "metadata": {},
   "outputs": [
    {
     "name": "stdin",
     "output_type": "stream",
     "text": [
      "Bir sayı giriniz: 5\n"
     ]
    }
   ],
   "source": [
    "sayi = int(input(\"Bir sayı giriniz:\"))"
   ]
  },
  {
   "cell_type": "code",
   "execution_count": 23,
   "id": "c83a56bd-5c47-4caa-a755-09a813ce7244",
   "metadata": {},
   "outputs": [
    {
     "data": {
      "text/plain": [
       "int"
      ]
     },
     "execution_count": 23,
     "metadata": {},
     "output_type": "execute_result"
    }
   ],
   "source": [
    "type(sayi)"
   ]
  },
  {
   "cell_type": "code",
   "execution_count": 20,
   "id": "d291ece4-5621-4135-981e-e14fa86cf6ed",
   "metadata": {},
   "outputs": [
    {
     "ename": "TypeError",
     "evalue": "can only concatenate str (not \"int\") to str",
     "output_type": "error",
     "traceback": [
      "\u001b[1;31m---------------------------------------------------------------------------\u001b[0m",
      "\u001b[1;31mTypeError\u001b[0m                                 Traceback (most recent call last)",
      "Cell \u001b[1;32mIn[20], line 1\u001b[0m\n\u001b[1;32m----> 1\u001b[0m sayi \u001b[38;5;241m+\u001b[39m \u001b[38;5;241m5\u001b[39m\n",
      "\u001b[1;31mTypeError\u001b[0m: can only concatenate str (not \"int\") to str"
     ]
    }
   ],
   "source": [
    "sayi + 5"
   ]
  },
  {
   "cell_type": "code",
   "execution_count": 21,
   "id": "cef8847e-1d7a-47b3-bf9a-048558a9082b",
   "metadata": {},
   "outputs": [
    {
     "data": {
      "text/plain": [
       "10"
      ]
     },
     "execution_count": 21,
     "metadata": {},
     "output_type": "execute_result"
    }
   ],
   "source": [
    "int(sayi) + 5"
   ]
  },
  {
   "cell_type": "code",
   "execution_count": null,
   "id": "7487d622-fca5-46b4-89a0-9be2123e5b26",
   "metadata": {},
   "outputs": [],
   "source": [
    "# int değeri için int() fonkdiyonu kullanılır\n",
    "birinci_sayi = int(input(\"Birinci sayıyı giriniz\"))\n",
    "ikinci_sayi = int(input(\"ikinci sayıyı giriniz\"))\n",
    "sonuc = birinci_sayi * ikinci_sayi\n",
    "print(sonuc)"
   ]
  },
  {
   "cell_type": "markdown",
   "id": "4a2abd96-1e85-4fc3-9a1b-8e73a4c12b1c",
   "metadata": {},
   "source": [
    "## Anahtar Kelimeler (Keywords)"
   ]
  },
  {
   "cell_type": "code",
   "execution_count": 25,
   "id": "6da52fd0-6e42-4c4d-b366-0ff054c3932f",
   "metadata": {},
   "outputs": [],
   "source": [
    "import keyword"
   ]
  },
  {
   "cell_type": "code",
   "execution_count": 26,
   "id": "65fd6a07-a32e-4a53-aa81-1ea0e25d053c",
   "metadata": {},
   "outputs": [],
   "source": [
    "anahtar_kelimeler = keyword.kwlist"
   ]
  },
  {
   "cell_type": "code",
   "execution_count": 27,
   "id": "5a7d725b-deb3-469a-bf18-916ea0ad6d6b",
   "metadata": {},
   "outputs": [
    {
     "name": "stdout",
     "output_type": "stream",
     "text": [
      "['False', 'None', 'True', 'and', 'as', 'assert', 'async', 'await', 'break', 'class', 'continue', 'def', 'del', 'elif', 'else', 'except', 'finally', 'for', 'from', 'global', 'if', 'import', 'in', 'is', 'lambda', 'nonlocal', 'not', 'or', 'pass', 'raise', 'return', 'try', 'while', 'with', 'yield']\n"
     ]
    }
   ],
   "source": [
    "print(anahtar_kelimeler)"
   ]
  },
  {
   "cell_type": "code",
   "execution_count": 28,
   "id": "ae2c52d9-2c26-40c0-9026-5416685a8319",
   "metadata": {},
   "outputs": [
    {
     "data": {
      "text/plain": [
       "True"
      ]
     },
     "execution_count": 28,
     "metadata": {},
     "output_type": "execute_result"
    }
   ],
   "source": [
    "keyword.iskeyword('is')"
   ]
  },
  {
   "cell_type": "code",
   "execution_count": 29,
   "id": "f673f0bb-94e2-477e-9d1e-fe28bab05eb0",
   "metadata": {},
   "outputs": [
    {
     "data": {
      "text/plain": [
       "False"
      ]
     },
     "execution_count": 29,
     "metadata": {},
     "output_type": "execute_result"
    }
   ],
   "source": [
    "keyword.iskeyword('sayi')"
   ]
  },
  {
   "cell_type": "markdown",
   "id": "b7e55aec-f70f-4b4b-acbc-75f8b1560725",
   "metadata": {},
   "source": [
    "**boolean değer**<br>\n",
    "true,false"
   ]
  },
  {
   "cell_type": "code",
   "execution_count": null,
   "id": "102f7f1e-3cd6-4662-96a5-aa30b7dc8fe5",
   "metadata": {},
   "outputs": [],
   "source": []
  }
 ],
 "metadata": {
  "kernelspec": {
   "display_name": "Python 3 (ipykernel)",
   "language": "python",
   "name": "python3"
  },
  "language_info": {
   "codemirror_mode": {
    "name": "ipython",
    "version": 3
   },
   "file_extension": ".py",
   "mimetype": "text/x-python",
   "name": "python",
   "nbconvert_exporter": "python",
   "pygments_lexer": "ipython3",
   "version": "3.11.7"
  }
 },
 "nbformat": 4,
 "nbformat_minor": 5
}
