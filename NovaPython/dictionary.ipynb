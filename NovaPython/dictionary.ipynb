{
 "cells": [
  {
   "cell_type": "markdown",
   "id": "f02d6647-a2d4-4542-944f-24e719b97cd8",
   "metadata": {},
   "source": [
    "## Dictionary"
   ]
  },
  {
   "cell_type": "markdown",
   "id": "560dcdd1-6706-4274-b53d-4a7274e365b4",
   "metadata": {},
   "source": [
    "{key : value}<br>\n",
    "\n",
    "İlişkisel bir veri türüdür anahtar değer ilişkisine dayanır.<br>\n",
    "\n",
    "{} veya dict()"
   ]
  },
  {
   "cell_type": "code",
   "execution_count": 4,
   "id": "d884e432-f198-4354-9aed-f45dbe47e2a5",
   "metadata": {
    "tags": []
   },
   "outputs": [
    {
     "data": {
      "text/plain": [
       "{'Audi': 'Almanya', 'Mazda': 'Japonya', 'Fiat': 'İtalya'}"
      ]
     },
     "execution_count": 4,
     "metadata": {},
     "output_type": "execute_result"
    }
   ],
   "source": [
    "araba = {\n",
    "    'Audi' : 'Almanya',\n",
    "    'Mazda' : 'Japonya',\n",
    "    'Fiat' : 'İtalya'\n",
    "}\n",
    "araba"
   ]
  },
  {
   "cell_type": "code",
   "execution_count": 6,
   "id": "107c4293-fe87-494e-bf7a-0e151b048c17",
   "metadata": {
    "tags": []
   },
   "outputs": [
    {
     "data": {
      "text/plain": [
       "{'Audi': 'Almanya', 'Mazda': 'Japonya', 'Fiat': 'İtalya'}"
      ]
     },
     "execution_count": 6,
     "metadata": {},
     "output_type": "execute_result"
    }
   ],
   "source": [
    "araba2 = dict({\n",
    "    'Audi' : 'Almanya',\n",
    "    'Mazda' : 'Japonya',\n",
    "    'Fiat' : 'İtalya'\n",
    "})\n",
    "araba2"
   ]
  },
  {
   "cell_type": "code",
   "execution_count": 10,
   "id": "7d841089-2625-408e-bda2-db9ba41111af",
   "metadata": {
    "tags": []
   },
   "outputs": [
    {
     "data": {
      "text/plain": [
       "{1: 'Türkiye', 2: 'Japonya', 3: 'İtalya'}"
      ]
     },
     "execution_count": 10,
     "metadata": {},
     "output_type": "execute_result"
    }
   ],
   "source": [
    "arabalar3 = {\n",
    "    1 : 'Almanya',\n",
    "    2 : 'Japonya',\n",
    "    3 : 'İtalya'\n",
    "}\n",
    "arabalar3\n",
    "arabalar3[1] = 'Türkiye'\n",
    "arabalar3"
   ]
  },
  {
   "cell_type": "markdown",
   "id": "8986cde6-8c95-4f9f-8a7f-40f01256ba65",
   "metadata": {},
   "source": [
    "Listelerde indeks ile erişiyorduk. Dictionarylerde köşeli parantez içine **key** yazılır"
   ]
  },
  {
   "cell_type": "code",
   "execution_count": 13,
   "id": "d00944ef-a87a-41ba-af86-a44bcad24ab7",
   "metadata": {
    "tags": []
   },
   "outputs": [
    {
     "ename": "KeyError",
     "evalue": "0",
     "output_type": "error",
     "traceback": [
      "\u001b[1;31m---------------------------------------------------------------------------\u001b[0m",
      "\u001b[1;31mKeyError\u001b[0m                                  Traceback (most recent call last)",
      "Cell \u001b[1;32mIn[13], line 1\u001b[0m\n\u001b[1;32m----> 1\u001b[0m arabalar3[\u001b[38;5;241m0\u001b[39m]\n",
      "\u001b[1;31mKeyError\u001b[0m: 0"
     ]
    }
   ],
   "source": [
    "arabalar3[0]"
   ]
  },
  {
   "cell_type": "code",
   "execution_count": 15,
   "id": "469889d0-3108-4d86-8380-f100dffac4dd",
   "metadata": {
    "tags": []
   },
   "outputs": [
    {
     "ename": "KeyError",
     "evalue": "'BMW'",
     "output_type": "error",
     "traceback": [
      "\u001b[1;31m---------------------------------------------------------------------------\u001b[0m",
      "\u001b[1;31mKeyError\u001b[0m                                  Traceback (most recent call last)",
      "Cell \u001b[1;32mIn[15], line 2\u001b[0m\n\u001b[0;32m      1\u001b[0m \u001b[38;5;66;03m# Olmayan bir key yazarsak KEY ERROR alırız\u001b[39;00m\n\u001b[1;32m----> 2\u001b[0m arabalar3[\u001b[38;5;124m'\u001b[39m\u001b[38;5;124mBMW\u001b[39m\u001b[38;5;124m'\u001b[39m]\n",
      "\u001b[1;31mKeyError\u001b[0m: 'BMW'"
     ]
    }
   ],
   "source": [
    "# Olmayan bir key yazarsak KEY ERROR alırız\n",
    "arabalar3['BMW']"
   ]
  },
  {
   "cell_type": "markdown",
   "id": "0d6bd76f-69ba-4b8e-9c17-99eae127c6d6",
   "metadata": {},
   "source": [
    "**Eleman ekleme ve değiştirme**"
   ]
  },
  {
   "cell_type": "code",
   "execution_count": 18,
   "id": "9a422646-6d42-4f38-9127-5bfaac83bc40",
   "metadata": {
    "tags": []
   },
   "outputs": [
    {
     "data": {
      "text/plain": [
       "{}"
      ]
     },
     "execution_count": 18,
     "metadata": {},
     "output_type": "execute_result"
    }
   ],
   "source": [
    "# boş dictionary\n",
    "ogrenci = dict()\n",
    "ogrenci"
   ]
  },
  {
   "cell_type": "code",
   "execution_count": 20,
   "id": "e408be6e-85c4-4f89-acbc-4c36218cb4fa",
   "metadata": {
    "tags": []
   },
   "outputs": [
    {
     "data": {
      "text/plain": [
       "{'ad': 'Umut'}"
      ]
     },
     "execution_count": 20,
     "metadata": {},
     "output_type": "execute_result"
    }
   ],
   "source": [
    "# bir eleman ekleyelim\n",
    "ogrenci['ad'] = 'Umut'\n",
    "ogrenci"
   ]
  },
  {
   "cell_type": "code",
   "execution_count": 22,
   "id": "4d06fa32-863b-416d-bf2d-8e7627a96ffa",
   "metadata": {
    "tags": []
   },
   "outputs": [
    {
     "data": {
      "text/plain": [
       "{'ad': 'Umut', 'yas': 22}"
      ]
     },
     "execution_count": 22,
     "metadata": {},
     "output_type": "execute_result"
    }
   ],
   "source": [
    "ogrenci['yas'] = 22\n",
    "ogrenci"
   ]
  },
  {
   "cell_type": "code",
   "execution_count": 24,
   "id": "48483a6f-5280-425f-98e0-421691343342",
   "metadata": {
    "tags": []
   },
   "outputs": [
    {
     "data": {
      "text/plain": [
       "{'marka': 'Ford', 'model': 'Mustang', 'Yıl': 1996}"
      ]
     },
     "execution_count": 24,
     "metadata": {},
     "output_type": "execute_result"
    }
   ],
   "source": [
    "arac = {\n",
    "    'marka' : 'Ford',\n",
    "    'model' : 'Mustang',\n",
    "    'Yıl' : 1996\n",
    "}\n",
    "arac"
   ]
  },
  {
   "cell_type": "code",
   "execution_count": 26,
   "id": "83d0c147-8e83-455c-bd35-c2b82e66c19c",
   "metadata": {
    "tags": []
   },
   "outputs": [
    {
     "data": {
      "text/plain": [
       "{'marka': 'Ford', 'model': 'Mustang', 'Yıl': 1996, 'renk': 'siyah', 'km': 180}"
      ]
     },
     "execution_count": 26,
     "metadata": {},
     "output_type": "execute_result"
    }
   ],
   "source": [
    "# update()\n",
    "arac.update({'renk':'siyah','km':180})\n",
    "arac"
   ]
  },
  {
   "cell_type": "markdown",
   "id": "89f8f88d-7f25-4313-b2b6-9d3761588612",
   "metadata": {},
   "source": [
    "**Eleman silme**"
   ]
  },
  {
   "cell_type": "code",
   "execution_count": 29,
   "id": "b38bfe52-d826-40eb-a45e-7fc24ed1b7d0",
   "metadata": {
    "tags": []
   },
   "outputs": [
    {
     "data": {
      "text/plain": [
       "180"
      ]
     },
     "execution_count": 29,
     "metadata": {},
     "output_type": "execute_result"
    }
   ],
   "source": [
    "arac.pop('km')"
   ]
  },
  {
   "cell_type": "code",
   "execution_count": 31,
   "id": "7962558d-89c9-4a83-83f4-a98eabdaa613",
   "metadata": {
    "tags": []
   },
   "outputs": [
    {
     "data": {
      "text/plain": [
       "{'marka': 'Ford', 'model': 'Mustang', 'Yıl': 1996, 'renk': 'siyah'}"
      ]
     },
     "execution_count": 31,
     "metadata": {},
     "output_type": "execute_result"
    }
   ],
   "source": [
    "arac"
   ]
  },
  {
   "cell_type": "code",
   "execution_count": 33,
   "id": "83971671-d6b2-4918-b0da-c0b611214ab2",
   "metadata": {
    "tags": []
   },
   "outputs": [
    {
     "data": {
      "text/plain": [
       "{'marka': 'Ford', 'model': 'Mustang', 'Yıl': 1996}"
      ]
     },
     "execution_count": 33,
     "metadata": {},
     "output_type": "execute_result"
    }
   ],
   "source": [
    "del arac['renk']\n",
    "arac"
   ]
  },
  {
   "cell_type": "markdown",
   "id": "a2ccd89b-6af2-41e3-8786-df91c48a4f61",
   "metadata": {},
   "source": [
    "**Eleman Okuma**"
   ]
  },
  {
   "cell_type": "code",
   "execution_count": 36,
   "id": "1a7f9e24-83ed-4086-a12d-8860b326eeaa",
   "metadata": {
    "tags": []
   },
   "outputs": [],
   "source": [
    "sozluk = {\n",
    "    'one' : 'bir',\n",
    "    'two' : 'iki',\n",
    "    'three' : 'üç',\n",
    "    'four' : 'dört'\n",
    "}"
   ]
  },
  {
   "cell_type": "code",
   "execution_count": 38,
   "id": "00c37088-45dc-45ee-a5b0-eadc1b1203dc",
   "metadata": {
    "tags": []
   },
   "outputs": [
    {
     "data": {
      "text/plain": [
       "'bir'"
      ]
     },
     "execution_count": 38,
     "metadata": {},
     "output_type": "execute_result"
    }
   ],
   "source": [
    "sozluk['one']"
   ]
  },
  {
   "cell_type": "code",
   "execution_count": 40,
   "id": "f5e64710-1a29-4704-a969-706a914038a9",
   "metadata": {
    "tags": []
   },
   "outputs": [
    {
     "data": {
      "text/plain": [
       "'iki'"
      ]
     },
     "execution_count": 40,
     "metadata": {},
     "output_type": "execute_result"
    }
   ],
   "source": [
    "# get() ile de değeri alabiliriz\n",
    "alinan = sozluk.get('two')\n",
    "alinan"
   ]
  },
  {
   "cell_type": "code",
   "execution_count": 44,
   "id": "0131739d-d44d-4c45-88aa-7e71069506cc",
   "metadata": {
    "tags": []
   },
   "outputs": [
    {
     "data": {
      "text/plain": [
       "True"
      ]
     },
     "execution_count": 44,
     "metadata": {},
     "output_type": "execute_result"
    }
   ],
   "source": [
    "# eleman varmı kontrol edelim\n",
    "'dört' in sozluk.values()"
   ]
  },
  {
   "cell_type": "code",
   "execution_count": 46,
   "id": "e7c85e7a-c1d7-4177-887b-ba9a66532489",
   "metadata": {
    "tags": []
   },
   "outputs": [
    {
     "data": {
      "text/plain": [
       "True"
      ]
     },
     "execution_count": 46,
     "metadata": {},
     "output_type": "execute_result"
    }
   ],
   "source": [
    "# anahtar varmı kontrol edelim\n",
    "'two' in sozluk.keys()"
   ]
  },
  {
   "cell_type": "code",
   "execution_count": 50,
   "id": "cfaf4818-867c-47a1-be45-712094f24e82",
   "metadata": {
    "tags": []
   },
   "outputs": [
    {
     "name": "stdout",
     "output_type": "stream",
     "text": [
      "one : bir\n",
      "two : iki\n",
      "three : üç\n",
      "four : dört\n"
     ]
    }
   ],
   "source": [
    "for k,v in sozluk.items():\n",
    "    print(k,':',v)"
   ]
  },
  {
   "cell_type": "markdown",
   "id": "97029c6f-8d9c-4774-b15d-de6f56deeeb3",
   "metadata": {},
   "source": [
    "**Listeler ve dictionaryler**"
   ]
  },
  {
   "cell_type": "code",
   "execution_count": 56,
   "id": "4c9db02b-e714-43fc-80c8-5525872b7e11",
   "metadata": {
    "tags": []
   },
   "outputs": [],
   "source": [
    "a = [1,2]\n",
    "s = dict()"
   ]
  },
  {
   "cell_type": "code",
   "execution_count": 58,
   "id": "79f78c8f-44b4-4d30-b2a0-3e80d1f0e403",
   "metadata": {
    "tags": []
   },
   "outputs": [
    {
     "ename": "TypeError",
     "evalue": "unhashable type: 'list'",
     "output_type": "error",
     "traceback": [
      "\u001b[1;31m---------------------------------------------------------------------------\u001b[0m",
      "\u001b[1;31mTypeError\u001b[0m                                 Traceback (most recent call last)",
      "Cell \u001b[1;32mIn[58], line 1\u001b[0m\n\u001b[1;32m----> 1\u001b[0m s[a] \u001b[38;5;241m=\u001b[39m \u001b[38;5;124m'\u001b[39m\u001b[38;5;124mrakamlar\u001b[39m\u001b[38;5;124m'\u001b[39m\n",
      "\u001b[1;31mTypeError\u001b[0m: unhashable type: 'list'"
     ]
    }
   ],
   "source": [
    "s[a] = 'rakamlar'"
   ]
  },
  {
   "cell_type": "markdown",
   "id": "72c523f2-bbdc-4fe3-9006-33f8ea526d28",
   "metadata": {},
   "source": [
    "Dictionarylerde listeler key olarak atanamaz.\n",
    "\n",
    "Eğer dictionarylerin keyleri inmutable(değiştirilemez) ise hiç bir sorun yoktur. Mutable olan tipler ile yaparsak dictionary burada değişen değerimizi algılayamaz. hash değeri değiştiğinden dictionary adreste bu değeri bulamaz. \n",
    "\n",
    "dictionaryler kendisine key olamaz.\n",
    "\n",
    "-List,Set,Dictionary key olarak kullanılmaz."
   ]
  },
  {
   "cell_type": "markdown",
   "id": "4d2c8cc2-db5d-4468-995e-fafc67324fd8",
   "metadata": {},
   "source": [
    "**dictionaryler ve Tuplelar**"
   ]
  },
  {
   "cell_type": "code",
   "execution_count": 64,
   "id": "8c0cf701-d87d-4894-9320-9aa2b7db391d",
   "metadata": {
    "tags": []
   },
   "outputs": [],
   "source": [
    "aylar_gunler = [('Ocak',31),\n",
    "               ('Şubat',28),\n",
    "               ('mart',31)\n",
    "               ]"
   ]
  },
  {
   "cell_type": "code",
   "execution_count": 66,
   "id": "158bb476-3e52-4f7b-b89c-056bbcb63aed",
   "metadata": {
    "tags": []
   },
   "outputs": [
    {
     "data": {
      "text/plain": [
       "{'Ocak': 31, 'Şubat': 28, 'mart': 31}"
      ]
     },
     "execution_count": 66,
     "metadata": {},
     "output_type": "execute_result"
    }
   ],
   "source": [
    "aylar = dict(aylar_gunler)\n",
    "aylar"
   ]
  },
  {
   "cell_type": "markdown",
   "id": "458b3de5-dc12-43c4-a657-35c44fdf09d8",
   "metadata": {},
   "source": [
    "Bir key'e iki değer atanmaz.Eğer atanırsa hata vermez son değerini alır."
   ]
  },
  {
   "cell_type": "code",
   "execution_count": null,
   "id": "289071bb-8783-4204-8733-6049ba98114a",
   "metadata": {},
   "outputs": [],
   "source": []
  }
 ],
 "metadata": {
  "kernelspec": {
   "display_name": "Python 3 (ipykernel)",
   "language": "python",
   "name": "python3"
  },
  "language_info": {
   "codemirror_mode": {
    "name": "ipython",
    "version": 3
   },
   "file_extension": ".py",
   "mimetype": "text/x-python",
   "name": "python",
   "nbconvert_exporter": "python",
   "pygments_lexer": "ipython3",
   "version": "3.11.7"
  }
 },
 "nbformat": 4,
 "nbformat_minor": 5
}
