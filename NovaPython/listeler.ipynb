{
 "cells": [
  {
   "cell_type": "markdown",
   "id": "d2027a90-5447-483e-b095-845da4387b9f",
   "metadata": {},
   "source": [
    "## Listeler"
   ]
  },
  {
   "cell_type": "code",
   "execution_count": 2,
   "id": "6a4a88ac-9404-45ac-856f-3b1fd6ce7cfa",
   "metadata": {},
   "outputs": [],
   "source": [
    "programlama_dilleri = [\"Java\",\"C#\",\"Python\",\"C\"]"
   ]
  },
  {
   "cell_type": "code",
   "execution_count": 3,
   "id": "78e0c5ab-d9b3-4347-8e6f-b1f1e863e1c5",
   "metadata": {},
   "outputs": [
    {
     "data": {
      "text/plain": [
       "'Java'"
      ]
     },
     "execution_count": 3,
     "metadata": {},
     "output_type": "execute_result"
    }
   ],
   "source": [
    "#0.indexteki değer\n",
    "programlama_dilleri[0]"
   ]
  },
  {
   "cell_type": "code",
   "execution_count": 4,
   "id": "715844d3-2cb9-46c0-b6ea-9b34f77d6eec",
   "metadata": {},
   "outputs": [
    {
     "data": {
      "text/plain": [
       "'C'"
      ]
     },
     "execution_count": 4,
     "metadata": {},
     "output_type": "execute_result"
    }
   ],
   "source": [
    "#listenin sonundaki değer\n",
    "programlama_dilleri[-1]"
   ]
  },
  {
   "cell_type": "code",
   "execution_count": 5,
   "id": "38773b6b-bebb-4d64-ae3d-c16e76802fdb",
   "metadata": {},
   "outputs": [
    {
     "data": {
      "text/plain": [
       "4"
      ]
     },
     "execution_count": 5,
     "metadata": {},
     "output_type": "execute_result"
    }
   ],
   "source": [
    "#listedeki index sayısı öğrenme\n",
    "len(programlama_dilleri)"
   ]
  },
  {
   "cell_type": "code",
   "execution_count": 6,
   "id": "4675ba95-896f-4add-ac5a-0ff3fa84fca8",
   "metadata": {},
   "outputs": [],
   "source": [
    "#index ekleme\n",
    "programlama_dilleri.append(\"C++\")"
   ]
  },
  {
   "cell_type": "code",
   "execution_count": 7,
   "id": "885ae023-3796-4fad-98ea-cda76e9f9011",
   "metadata": {},
   "outputs": [
    {
     "name": "stdout",
     "output_type": "stream",
     "text": [
      "['Java', 'C#', 'Python', 'C', 'C++']\n"
     ]
    }
   ],
   "source": [
    "print(programlama_dilleri)"
   ]
  },
  {
   "cell_type": "code",
   "execution_count": 8,
   "id": "d7718683-a04a-4654-ac5f-d6aad51f6954",
   "metadata": {},
   "outputs": [],
   "source": [
    "#istediğin sıraya istediğin indexi ekleme\n",
    "programlama_dilleri.insert(1,\"Swift\")"
   ]
  },
  {
   "cell_type": "code",
   "execution_count": 9,
   "id": "92f9cf64-3afa-4546-a21f-864917e361c1",
   "metadata": {},
   "outputs": [
    {
     "name": "stdout",
     "output_type": "stream",
     "text": [
      "['Java', 'Swift', 'C#', 'Python', 'C', 'C++']\n"
     ]
    }
   ],
   "source": [
    "print(programlama_dilleri)"
   ]
  },
  {
   "cell_type": "code",
   "execution_count": 10,
   "id": "0dd35117-39fa-43b8-a85a-347f43884e37",
   "metadata": {},
   "outputs": [],
   "source": [
    "programlama_dilleri.remove(\"C\")"
   ]
  },
  {
   "cell_type": "code",
   "execution_count": 11,
   "id": "7697b09c-d030-4746-8e12-1238080a73c9",
   "metadata": {},
   "outputs": [
    {
     "name": "stdout",
     "output_type": "stream",
     "text": [
      "['Java', 'Swift', 'C#', 'Python', 'C++']\n"
     ]
    }
   ],
   "source": [
    "print(programlama_dilleri)"
   ]
  },
  {
   "cell_type": "code",
   "execution_count": 12,
   "id": "33a2e32d-4f04-4298-96c7-f9afe0410224",
   "metadata": {},
   "outputs": [],
   "source": [
    "programlama_dilleri.remove(\"Swift\")"
   ]
  },
  {
   "cell_type": "code",
   "execution_count": 13,
   "id": "ea3211a3-576d-4df1-98fa-b3333818c901",
   "metadata": {},
   "outputs": [
    {
     "name": "stdout",
     "output_type": "stream",
     "text": [
      "['Java', 'C#', 'Python', 'C++']\n"
     ]
    }
   ],
   "source": [
    "print(programlama_dilleri)"
   ]
  },
  {
   "cell_type": "code",
   "execution_count": 14,
   "id": "ee240f36-87b5-4d98-b06d-e6f8785a439f",
   "metadata": {},
   "outputs": [],
   "source": [
    "programlama_dilleri.append(\"Swift\")"
   ]
  },
  {
   "cell_type": "code",
   "execution_count": 15,
   "id": "b454749a-ea71-435d-8dc7-b10339bc811c",
   "metadata": {},
   "outputs": [
    {
     "name": "stdout",
     "output_type": "stream",
     "text": [
      "['Java', 'C#', 'Python', 'C++', 'Swift']\n"
     ]
    }
   ],
   "source": [
    "print(programlama_dilleri)"
   ]
  },
  {
   "cell_type": "code",
   "execution_count": null,
   "id": "a1e989dc-5ec0-4668-abe6-8915b323efad",
   "metadata": {},
   "outputs": [],
   "source": [
    "programlama_dilleri"
   ]
  },
  {
   "cell_type": "code",
   "execution_count": 35,
   "id": "4fdc2e87-49e5-4074-9df3-b0a8ddc5c82c",
   "metadata": {
    "tags": []
   },
   "outputs": [
    {
     "data": {
      "text/plain": [
       "[]"
      ]
     },
     "execution_count": 35,
     "metadata": {},
     "output_type": "execute_result"
    }
   ],
   "source": [
    "## Python'da boş liste oluşturabilirim\n",
    "bos_liste = []\n",
    "bos_liste"
   ]
  },
  {
   "cell_type": "code",
   "execution_count": 37,
   "id": "7128f0a8-6cd3-47e9-983b-72e3c41cef9c",
   "metadata": {
    "tags": []
   },
   "outputs": [
    {
     "data": {
      "text/plain": [
       "['izmir', True, 4.5, 100]"
      ]
     },
     "execution_count": 37,
     "metadata": {},
     "output_type": "execute_result"
    }
   ],
   "source": [
    "#farklı veri tipleri aynı liste içinde bulunabilir\n",
    "karma_list = ['izmir',True,4.5,100]\n",
    "karma_list"
   ]
  },
  {
   "cell_type": "code",
   "execution_count": 43,
   "id": "83590432-b855-4f1c-9895-ad2ab89f61f9",
   "metadata": {
    "tags": []
   },
   "outputs": [
    {
     "data": {
      "text/plain": [
       "34"
      ]
     },
     "execution_count": 43,
     "metadata": {},
     "output_type": "execute_result"
    }
   ],
   "source": [
    "ic_ice_liste = ['İzmir','İstanbul',[34,35]]\n",
    "ic_ice_liste[2][0]"
   ]
  },
  {
   "cell_type": "code",
   "execution_count": 45,
   "id": "22b96a50-916b-4d6b-b152-2a98f2be423d",
   "metadata": {
    "tags": []
   },
   "outputs": [],
   "source": [
    "ogrenci1 = ['Cihat',2008,[92,74,51]]\n",
    "ogrenci2 = ['Osman',2011,[62,55,81]]\n",
    "ogrenciler = [ogrenci1,ogrenci2]"
   ]
  },
  {
   "cell_type": "code",
   "execution_count": 49,
   "id": "a6cce50b-3266-4357-8896-b34e312823f1",
   "metadata": {
    "tags": []
   },
   "outputs": [
    {
     "data": {
      "text/plain": [
       "'Cihat'"
      ]
     },
     "execution_count": 49,
     "metadata": {},
     "output_type": "execute_result"
    }
   ],
   "source": [
    "ogrenciler[0][0]"
   ]
  },
  {
   "cell_type": "code",
   "execution_count": 53,
   "id": "98446ec1-9703-4922-bc70-8f4e603726f8",
   "metadata": {
    "tags": []
   },
   "outputs": [
    {
     "name": "stdout",
     "output_type": "stream",
     "text": [
      "16\n",
      "13\n"
     ]
    }
   ],
   "source": [
    "cihatin_yasi = 2024 - ogrenci1[1]\n",
    "osmanin_yasi = 2024 - ogrenci2[1]\n",
    "print(cihatin_yasi)\n",
    "print(osmanin_yasi)"
   ]
  },
  {
   "cell_type": "code",
   "execution_count": 77,
   "id": "88314884-be87-41ac-a5b2-2f1ca58f770f",
   "metadata": {
    "tags": []
   },
   "outputs": [],
   "source": [
    "toplam = (ogrenci1[2][0]+ ogrenci1[2][1] + ogrenci1[2][2])\n",
    "ortalama = toplam / 3"
   ]
  },
  {
   "cell_type": "code",
   "execution_count": 79,
   "id": "e85872dd-93f6-438d-bc77-b960ef277bb1",
   "metadata": {
    "tags": []
   },
   "outputs": [
    {
     "data": {
      "text/plain": [
       "72.33333333333333"
      ]
     },
     "execution_count": 79,
     "metadata": {},
     "output_type": "execute_result"
    }
   ],
   "source": [
    "ortalama"
   ]
  },
  {
   "cell_type": "markdown",
   "id": "4e96100f-3686-43c3-b68a-92d97e8a0324",
   "metadata": {},
   "source": [
    "**Listler değiştirilebilirdir(Mutable)**"
   ]
  },
  {
   "cell_type": "code",
   "execution_count": 82,
   "id": "f05b19a3-d1cd-42ee-b96e-d686aa1db6d6",
   "metadata": {
    "tags": []
   },
   "outputs": [],
   "source": [
    "dersler = ['Matematik','Türkçe','Fizik','Kimya']"
   ]
  },
  {
   "cell_type": "code",
   "execution_count": 84,
   "id": "78758785-0e7c-421f-9eb8-eddb5b919bf8",
   "metadata": {
    "tags": []
   },
   "outputs": [
    {
     "data": {
      "text/plain": [
       "['Matematik', 'Edebiyat', 'Fizik', 'Kimya']"
      ]
     },
     "execution_count": 84,
     "metadata": {},
     "output_type": "execute_result"
    }
   ],
   "source": [
    "dersler[1] = \"Edebiyat\"\n",
    "dersler"
   ]
  },
  {
   "cell_type": "markdown",
   "id": "b22bdad2-0ea3-4ee6-ba50-09f47fc542fe",
   "metadata": {},
   "source": [
    "**Liste Operasyonları**"
   ]
  },
  {
   "cell_type": "code",
   "execution_count": 87,
   "id": "fc3e0f36-98fe-4706-8950-9e9870643f28",
   "metadata": {
    "tags": []
   },
   "outputs": [
    {
     "data": {
      "text/plain": [
       "[10, 20, 30, 40, 50]"
      ]
     },
     "execution_count": 87,
     "metadata": {},
     "output_type": "execute_result"
    }
   ],
   "source": [
    "# + operatörü \n",
    "a = [10,20,30]\n",
    "b = [40,50]\n",
    "c = a + b\n",
    "c"
   ]
  },
  {
   "cell_type": "code",
   "execution_count": 89,
   "id": "6cb26f15-09c9-4242-bddb-f18ff07c89c4",
   "metadata": {
    "tags": []
   },
   "outputs": [
    {
     "data": {
      "text/plain": [
       "[1, 2, 3, 1, 2, 3, 1, 2, 3]"
      ]
     },
     "execution_count": 89,
     "metadata": {},
     "output_type": "execute_result"
    }
   ],
   "source": [
    "# * çarpılan listeyi çarptığım değer kadar yazar\n",
    "sayilar =[1,2,3]\n",
    "sayilar * 3"
   ]
  },
  {
   "cell_type": "markdown",
   "id": "8a1ebc78-7d93-4d3d-9256-e796cabafe28",
   "metadata": {},
   "source": [
    "**Liste dilimleme(slicing)**"
   ]
  },
  {
   "cell_type": "code",
   "execution_count": 93,
   "id": "a6e1e387-5173-4889-8270-76ab8fb63adb",
   "metadata": {
    "tags": []
   },
   "outputs": [],
   "source": [
    "harfler = ['a','b','c','d','e','f']"
   ]
  },
  {
   "cell_type": "code",
   "execution_count": 95,
   "id": "a698c7ca-cf2c-420a-b25d-b854bfacf63b",
   "metadata": {
    "tags": []
   },
   "outputs": [
    {
     "data": {
      "text/plain": [
       "['a', 'b', 'c', 'd', 'e', 'f']"
      ]
     },
     "execution_count": 95,
     "metadata": {},
     "output_type": "execute_result"
    }
   ],
   "source": [
    "# Hepsini almak\n",
    "harfler[:]"
   ]
  },
  {
   "cell_type": "markdown",
   "id": "6ec32ff4-7008-4411-8ff8-59a5e181f949",
   "metadata": {},
   "source": [
    "[başlangıç değeri(dahil):bitiş değeri (dahil deği): artış]"
   ]
  },
  {
   "cell_type": "code",
   "execution_count": 99,
   "id": "3fb46f32-8b68-4d92-9356-8eca322f6cb7",
   "metadata": {
    "tags": []
   },
   "outputs": [
    {
     "data": {
      "text/plain": [
       "['a', 'b', 'c', 'd']"
      ]
     },
     "execution_count": 99,
     "metadata": {},
     "output_type": "execute_result"
    }
   ],
   "source": [
    "harfler[:4]"
   ]
  },
  {
   "cell_type": "code",
   "execution_count": 101,
   "id": "3443e43b-92eb-477f-a3e6-e96895aa3654",
   "metadata": {
    "tags": []
   },
   "outputs": [],
   "source": [
    "harfler [1:3] = ['k','l']"
   ]
  },
  {
   "cell_type": "code",
   "execution_count": 103,
   "id": "1e6c2a7d-7a5d-47ce-87d6-06593bfc8397",
   "metadata": {
    "tags": []
   },
   "outputs": [
    {
     "data": {
      "text/plain": [
       "['a', 'k', 'l', 'd', 'e', 'f']"
      ]
     },
     "execution_count": 103,
     "metadata": {},
     "output_type": "execute_result"
    }
   ],
   "source": [
    "harfler"
   ]
  },
  {
   "cell_type": "markdown",
   "id": "ef2e036a-7ad2-4b62-a1f6-c0e6da60e6ef",
   "metadata": {},
   "source": [
    "**İD nedir?**"
   ]
  },
  {
   "cell_type": "code",
   "execution_count": 106,
   "id": "b463f354-e4a6-4190-9df8-c9b78d095836",
   "metadata": {
    "tags": []
   },
   "outputs": [
    {
     "data": {
      "text/plain": [
       "2575825597888"
      ]
     },
     "execution_count": 106,
     "metadata": {},
     "output_type": "execute_result"
    }
   ],
   "source": [
    "id(harfler)"
   ]
  },
  {
   "cell_type": "markdown",
   "id": "65af54d5-21ff-4bb3-ae46-c241461eb117",
   "metadata": {},
   "source": [
    "**Değer ve referans Tipler**"
   ]
  },
  {
   "cell_type": "code",
   "execution_count": 109,
   "id": "9a134204-9e4a-4540-ad33-2351e7c8a835",
   "metadata": {
    "tags": []
   },
   "outputs": [
    {
     "data": {
      "text/plain": [
       "(15, 8)"
      ]
     },
     "execution_count": 109,
     "metadata": {},
     "output_type": "execute_result"
    }
   ],
   "source": [
    "sayi1 = 10\n",
    "sayi2 = 15\n",
    "\n",
    "sayi1 = sayi2\n",
    "sayi2 = 8\n",
    "sayi1,sayi2"
   ]
  },
  {
   "cell_type": "markdown",
   "id": "916d4744-8f36-4542-9f6f-ebd6d2ad60f0",
   "metadata": {},
   "source": [
    "sayi1 10 iken sayi2 değeri ile eşitlediğimizde sayi1 artık 15 olur. altta sayi2 ye 8 değeri verildiğinde sayı2 değeri artık 15 değil 8 dir ama sayi1 haerhangi bir sekilde sonradan değişmediği için 15 kaldı "
   ]
  },
  {
   "cell_type": "code",
   "execution_count": 114,
   "id": "bd7a27b9-e93b-4e97-9756-b6a98f354d9d",
   "metadata": {
    "tags": []
   },
   "outputs": [
    {
     "data": {
      "text/plain": [
       "(['Eylül', 'Dilek'], ['Eylül', 'Dilek'])"
      ]
     },
     "execution_count": 114,
     "metadata": {},
     "output_type": "execute_result"
    }
   ],
   "source": [
    "erkekler = ['Ahmet','Burak','Emre']\n",
    "kadınlar = ['Selin','Dilek']\n",
    "\n",
    "erkekler = kadınlar\n",
    "kadınlar[0] = 'Eylül'\n",
    "erkekler,kadınlar"
   ]
  },
  {
   "cell_type": "markdown",
   "id": "418fc46e-3263-4ecd-a383-bd3772ed8239",
   "metadata": {},
   "source": [
    "erkekler listesi ahmet burak ve emre kadınlar ise selin ve dilektir.altta erkekler ve kadınları eşitlediğimiz zaman artık erkekler listesi İD olarak kadınlar listesine eşitlenmiştir artık o liste isim olarak erkekler listeside olsa o id olark artık kadınlar listesidir bu yüzden erkekler listesinin yeni üyeleri kadınlar listesinde ne varsa odur .kadınlar listesine 0. index e eylül verdiğimizde selin yerini eylüle bırakmıştır bu yuzden kadınlar listemiz artık eylük ile dilektir ve erkekler ve kadınlar İD olarak eşit olduğu için artık erkekler listesi sonradan değiştirilmediği sürece eylül ve dilek olmustur"
   ]
  },
  {
   "cell_type": "markdown",
   "id": "43ab14ff-aff5-430f-8d6b-a7fa7eb95247",
   "metadata": {},
   "source": [
    "**Liste Methodları**"
   ]
  },
  {
   "cell_type": "code",
   "execution_count": 119,
   "id": "10bfc4cc-c71d-415a-b64a-712cdd3012ab",
   "metadata": {
    "tags": []
   },
   "outputs": [],
   "source": [
    "harfler = ['a','b','c','d','e']"
   ]
  },
  {
   "cell_type": "code",
   "execution_count": 121,
   "id": "d65eb392-9b5a-423c-8e04-472123fb92ff",
   "metadata": {
    "tags": []
   },
   "outputs": [
    {
     "data": {
      "text/plain": [
       "['a', 'b', 'c', 'd', 'e', 'f']"
      ]
     },
     "execution_count": 121,
     "metadata": {},
     "output_type": "execute_result"
    }
   ],
   "source": [
    "# append : listenin sonuna yeni bir eleman ekler\n",
    "harfler.append('f')\n",
    "harfler"
   ]
  },
  {
   "cell_type": "code",
   "execution_count": 123,
   "id": "1dea85e4-b1c9-4617-baba-a7cb666664f0",
   "metadata": {
    "tags": []
   },
   "outputs": [
    {
     "data": {
      "text/plain": [
       "['a', 'b', 'k', 'c', 'd', 'e', 'f']"
      ]
     },
     "execution_count": 123,
     "metadata": {},
     "output_type": "execute_result"
    }
   ],
   "source": [
    "# insert : eklemek istediğimiz indeksi biliyorsak \n",
    "harfler.insert(2,'k')\n",
    "harfler"
   ]
  },
  {
   "cell_type": "code",
   "execution_count": 125,
   "id": "96ef8f81-95b3-46ce-b803-e02cd68400b6",
   "metadata": {
    "tags": []
   },
   "outputs": [
    {
     "data": {
      "text/plain": [
       "[10, 20, 30, 40, 50]"
      ]
     },
     "execution_count": 125,
     "metadata": {},
     "output_type": "execute_result"
    }
   ],
   "source": [
    "# extend : iki listeyi farklı bir listeye atar\n",
    "sayilar1 = [10,20,30]\n",
    "sayilar2 = [40,50]\n",
    "\n",
    "sayilar1.extend(sayilar2)\n",
    "sayilar1"
   ]
  },
  {
   "cell_type": "markdown",
   "id": "757afbaf-bfd8-4ef7-b795-56f526b7043d",
   "metadata": {},
   "source": [
    "sort küçükten büyüğe\n",
    "\n",
    "reverse = True : büyükten küçüğe<br>\n",
    "reverse default değeri false dır\n"
   ]
  },
  {
   "cell_type": "code",
   "execution_count": 129,
   "id": "1190831d-c804-4a6f-8186-84320055e848",
   "metadata": {
    "tags": []
   },
   "outputs": [
    {
     "data": {
      "text/plain": [
       "['e', 'd', 'c', 'b', 'a']"
      ]
     },
     "execution_count": 129,
     "metadata": {},
     "output_type": "execute_result"
    }
   ],
   "source": [
    "harfler = ['a','b','c','d','e']\n",
    "harfler.sort(reverse = True)\n",
    "harfler"
   ]
  },
  {
   "cell_type": "code",
   "execution_count": 131,
   "id": "2b2d0a3a-47a7-4e9c-abf9-3ce8883c26ce",
   "metadata": {
    "tags": []
   },
   "outputs": [
    {
     "ename": "AttributeError",
     "evalue": "'list' object has no attribute 'sorted'",
     "output_type": "error",
     "traceback": [
      "\u001b[1;31m---------------------------------------------------------------------------\u001b[0m",
      "\u001b[1;31mAttributeError\u001b[0m                            Traceback (most recent call last)",
      "Cell \u001b[1;32mIn[131], line 1\u001b[0m\n\u001b[1;32m----> 1\u001b[0m a \u001b[38;5;241m=\u001b[39m harfler\u001b[38;5;241m.\u001b[39msorted()\n",
      "\u001b[1;31mAttributeError\u001b[0m: 'list' object has no attribute 'sorted'"
     ]
    }
   ],
   "source": [
    "a = harfler.sorted()"
   ]
  },
  {
   "cell_type": "code",
   "execution_count": 133,
   "id": "619c685a-e934-4ca2-8686-84bf77ec9f5e",
   "metadata": {
    "tags": []
   },
   "outputs": [
    {
     "data": {
      "text/plain": [
       "['a', 'b', 'c', 'd', 'e']"
      ]
     },
     "execution_count": 133,
     "metadata": {},
     "output_type": "execute_result"
    }
   ],
   "source": [
    "a = sorted(harfler)\n",
    "a"
   ]
  },
  {
   "cell_type": "code",
   "execution_count": 136,
   "id": "489cdfea-2133-4279-9f22-ea921bc1bb16",
   "metadata": {
    "tags": []
   },
   "outputs": [
    {
     "data": {
      "text/plain": [
       "4"
      ]
     },
     "execution_count": 136,
     "metadata": {},
     "output_type": "execute_result"
    }
   ],
   "source": [
    "# liste içindeki tekrarlı elemanın değerini döner\n",
    "sayilar = [1,2,3,3,3,3,5]\n",
    "tekrar = sayilar.count(3)\n",
    "tekrar"
   ]
  },
  {
   "cell_type": "markdown",
   "id": "305d77fb-0f9d-4d03-8242-1e1090af3f53",
   "metadata": {},
   "source": [
    "**Listelerde silme işlemi**"
   ]
  },
  {
   "cell_type": "code",
   "execution_count": 139,
   "id": "0d256784-8f24-4148-b6b9-27d56be32945",
   "metadata": {
    "tags": []
   },
   "outputs": [],
   "source": [
    "sayilar = [1,2,3,4,5,6,7,8]"
   ]
  },
  {
   "cell_type": "code",
   "execution_count": 141,
   "id": "e7ee77d0-9915-4419-a9d2-6212d64d684a",
   "metadata": {
    "tags": []
   },
   "outputs": [
    {
     "ename": "TypeError",
     "evalue": "'str' object cannot be interpreted as an integer",
     "output_type": "error",
     "traceback": [
      "\u001b[1;31m---------------------------------------------------------------------------\u001b[0m",
      "\u001b[1;31mTypeError\u001b[0m                                 Traceback (most recent call last)",
      "Cell \u001b[1;32mIn[141], line 2\u001b[0m\n\u001b[0;32m      1\u001b[0m \u001b[38;5;66;03m# sileceğin indeksi biliyorsam pop() : silinen değeri döner\u001b[39;00m\n\u001b[1;32m----> 2\u001b[0m a \u001b[38;5;241m=\u001b[39m sayilar\u001b[38;5;241m.\u001b[39mpop(\u001b[38;5;124m'\u001b[39m\u001b[38;5;124ma\u001b[39m\u001b[38;5;124m'\u001b[39m)\n",
      "\u001b[1;31mTypeError\u001b[0m: 'str' object cannot be interpreted as an integer"
     ]
    }
   ],
   "source": [
    "# sileceğin indeksi biliyorsam pop() : silinen değeri döner\n",
    "a = sayilar.pop('a')"
   ]
  },
  {
   "cell_type": "code",
   "execution_count": 143,
   "id": "188e0eca-d2a0-4d14-8dee-f743a4601974",
   "metadata": {
    "tags": []
   },
   "outputs": [
    {
     "data": {
      "text/plain": [
       "3"
      ]
     },
     "execution_count": 143,
     "metadata": {},
     "output_type": "execute_result"
    }
   ],
   "source": [
    "a = sayilar.pop(2)\n",
    "a"
   ]
  },
  {
   "cell_type": "code",
   "execution_count": 145,
   "id": "fd16fc5b-1300-4708-9b56-f9237c74d0f4",
   "metadata": {
    "tags": []
   },
   "outputs": [
    {
     "data": {
      "text/plain": [
       "[4, 5, 6, 7, 8]"
      ]
     },
     "execution_count": 145,
     "metadata": {},
     "output_type": "execute_result"
    }
   ],
   "source": [
    "# birden fazla değer silelim\n",
    "del sayilar[0:2]\n",
    "sayilar"
   ]
  },
  {
   "cell_type": "code",
   "execution_count": 147,
   "id": "94d7a2ca-b254-4ab5-8c15-e8e448956f94",
   "metadata": {
    "tags": []
   },
   "outputs": [
    {
     "data": {
      "text/plain": [
       "8"
      ]
     },
     "execution_count": 147,
     "metadata": {},
     "output_type": "execute_result"
    }
   ],
   "source": [
    "#pop() indeks almazsa en sondaki değeri siler\n",
    "silinen = sayilar.pop()\n",
    "silinen"
   ]
  },
  {
   "cell_type": "code",
   "execution_count": 149,
   "id": "eb14f90c-100f-4f9e-b671-1ee040ed5e8d",
   "metadata": {
    "tags": []
   },
   "outputs": [
    {
     "data": {
      "text/plain": [
       "[4, 5, 6]"
      ]
     },
     "execution_count": 149,
     "metadata": {},
     "output_type": "execute_result"
    }
   ],
   "source": [
    "# sileceğim değeri biliyorsam remove()\n",
    "sayilar.remove(7)\n",
    "sayilar"
   ]
  },
  {
   "cell_type": "code",
   "execution_count": 152,
   "id": "bf1121ef-fed0-4084-a187-f020eafa517c",
   "metadata": {
    "tags": []
   },
   "outputs": [
    {
     "data": {
      "text/plain": [
       "[]"
      ]
     },
     "execution_count": 152,
     "metadata": {},
     "output_type": "execute_result"
    }
   ],
   "source": [
    "# clear() listeyi temizler\n",
    "sayilar.clear()\n",
    "sayilar"
   ]
  },
  {
   "cell_type": "markdown",
   "id": "3260dcd1-15c0-449c-a0d4-c7b684edd00c",
   "metadata": {},
   "source": [
    "**İs ifadesi**"
   ]
  },
  {
   "cell_type": "code",
   "execution_count": 155,
   "id": "83a23853-a1b6-4328-8043-75c5ffdf5149",
   "metadata": {
    "tags": []
   },
   "outputs": [
    {
     "data": {
      "text/plain": [
       "False"
      ]
     },
     "execution_count": 155,
     "metadata": {},
     "output_type": "execute_result"
    }
   ],
   "source": [
    "a = [1,2,3]\n",
    "b = [1,2,3]\n",
    "\n",
    "# a ile b aynı mı ?\n",
    "a is b"
   ]
  },
  {
   "cell_type": "code",
   "execution_count": 157,
   "id": "374eb165-7d9b-4c23-b390-793f4b8ca651",
   "metadata": {
    "tags": []
   },
   "outputs": [
    {
     "data": {
      "text/plain": [
       "True"
      ]
     },
     "execution_count": 157,
     "metadata": {},
     "output_type": "execute_result"
    }
   ],
   "source": [
    "c = 'python'\n",
    "d = 'python'\n",
    "c is d"
   ]
  },
  {
   "cell_type": "markdown",
   "id": "cacb251e-258b-47ab-b8a5-c7b7c18c7b37",
   "metadata": {},
   "source": [
    "**İn ifadesi**"
   ]
  },
  {
   "cell_type": "code",
   "execution_count": 160,
   "id": "5916cabf-783d-428c-88df-9cc2d602fbbc",
   "metadata": {
    "tags": []
   },
   "outputs": [
    {
     "data": {
      "text/plain": [
       "True"
      ]
     },
     "execution_count": 160,
     "metadata": {},
     "output_type": "execute_result"
    }
   ],
   "source": [
    "a = [1,2,3]\n",
    "1 in a"
   ]
  },
  {
   "cell_type": "code",
   "execution_count": 162,
   "id": "c7d0d3c7-b5f8-41e6-8fa0-c093f43351b1",
   "metadata": {
    "tags": []
   },
   "outputs": [
    {
     "data": {
      "text/plain": [
       "False"
      ]
     },
     "execution_count": 162,
     "metadata": {},
     "output_type": "execute_result"
    }
   ],
   "source": [
    "5 in a"
   ]
  },
  {
   "cell_type": "code",
   "execution_count": 164,
   "id": "fbb59e10-f912-458a-83c7-179f3baa0c81",
   "metadata": {
    "tags": []
   },
   "outputs": [
    {
     "data": {
      "text/plain": [
       "True"
      ]
     },
     "execution_count": 164,
     "metadata": {},
     "output_type": "execute_result"
    }
   ],
   "source": [
    "5 not in a"
   ]
  },
  {
   "cell_type": "code",
   "execution_count": null,
   "id": "5bff9556-2ce9-473c-895d-3e96b4ca35bf",
   "metadata": {},
   "outputs": [],
   "source": []
  }
 ],
 "metadata": {
  "kernelspec": {
   "display_name": "Python 3 (ipykernel)",
   "language": "python",
   "name": "python3"
  },
  "language_info": {
   "codemirror_mode": {
    "name": "ipython",
    "version": 3
   },
   "file_extension": ".py",
   "mimetype": "text/x-python",
   "name": "python",
   "nbconvert_exporter": "python",
   "pygments_lexer": "ipython3",
   "version": "3.11.7"
  }
 },
 "nbformat": 4,
 "nbformat_minor": 5
}
