{
 "cells": [
  {
   "cell_type": "markdown",
   "id": "feae25d3-5d5f-45e5-b4ef-24fd253476aa",
   "metadata": {},
   "source": [
    "### Set"
   ]
  },
  {
   "cell_type": "markdown",
   "id": "c0405496-421b-4265-8562-144b08b33fcc",
   "metadata": {},
   "source": [
    "Birden fazla değeri bir değişkende tutmak için kullanılır -> Set (küme)\n",
    "\n",
    "Setler sırasızdır(unordered) ve indekslenemezler(unindexed).\n",
    "\n",
    "Set tanımlamak için süslü parantez veya set() kullanabiliriz.\n",
    "\n",
    "Süslü parantezlerin içine mutlaka değer girilmelidir. Değer girilmeden oluşturulursa kume = {} bu bir boş dictionary dir.\n",
    "\n",
    "Set in elemanları tekildir. bir sette aynı elemandan birden fazla olamaz."
   ]
  },
  {
   "cell_type": "code",
   "execution_count": 6,
   "id": "b9d398a1-31b2-4ce1-9499-5d04cafcdcac",
   "metadata": {
    "tags": []
   },
   "outputs": [
    {
     "data": {
      "text/plain": [
       "dict"
      ]
     },
     "execution_count": 6,
     "metadata": {},
     "output_type": "execute_result"
    }
   ],
   "source": [
    "kume = {}\n",
    "type(kume)"
   ]
  },
  {
   "cell_type": "code",
   "execution_count": 10,
   "id": "b15a325d-ae96-45f5-a2f8-b5dc2f86dc77",
   "metadata": {
    "tags": []
   },
   "outputs": [
    {
     "data": {
      "text/plain": [
       "set"
      ]
     },
     "execution_count": 10,
     "metadata": {},
     "output_type": "execute_result"
    }
   ],
   "source": [
    "kume = set()\n",
    "type(kume)"
   ]
  },
  {
   "cell_type": "code",
   "execution_count": 12,
   "id": "2b870bcf-261c-4c7d-be3b-0ded76cfa842",
   "metadata": {
    "tags": []
   },
   "outputs": [
    {
     "data": {
      "text/plain": [
       "{'at', 'kedi', 'tavşan'}"
      ]
     },
     "execution_count": 12,
     "metadata": {},
     "output_type": "execute_result"
    }
   ],
   "source": [
    "kume = {'at','kedi','at','tavşan','kedi'}\n",
    "kume"
   ]
  },
  {
   "cell_type": "code",
   "execution_count": 14,
   "id": "c56ae2c7-1b7f-4b80-b8c5-3ae9848f7eeb",
   "metadata": {
    "tags": []
   },
   "outputs": [
    {
     "data": {
      "text/plain": [
       "{'A', 'B', 'C', 'D'}"
      ]
     },
     "execution_count": 14,
     "metadata": {},
     "output_type": "execute_result"
    }
   ],
   "source": [
    "# set()\n",
    "harfler = set({'A','B','C','D'})\n",
    "harfler"
   ]
  },
  {
   "cell_type": "code",
   "execution_count": 16,
   "id": "589b5fba-5c1a-48fa-8ef1-7b26eeae565f",
   "metadata": {
    "tags": []
   },
   "outputs": [
    {
     "ename": "TypeError",
     "evalue": "'set' object is not subscriptable",
     "output_type": "error",
     "traceback": [
      "\u001b[1;31m---------------------------------------------------------------------------\u001b[0m",
      "\u001b[1;31mTypeError\u001b[0m                                 Traceback (most recent call last)",
      "Cell \u001b[1;32mIn[16], line 2\u001b[0m\n\u001b[0;32m      1\u001b[0m \u001b[38;5;66;03m# indekslenemez\u001b[39;00m\n\u001b[1;32m----> 2\u001b[0m harfler[\u001b[38;5;241m0\u001b[39m]\n",
      "\u001b[1;31mTypeError\u001b[0m: 'set' object is not subscriptable"
     ]
    }
   ],
   "source": [
    "# indekslenemez\n",
    "harfler[0]"
   ]
  },
  {
   "cell_type": "code",
   "execution_count": 20,
   "id": "845d44d5-7fbf-4666-b538-e14f2d9fd02f",
   "metadata": {
    "tags": []
   },
   "outputs": [
    {
     "name": "stdout",
     "output_type": "stream",
     "text": [
      "{'e', 'T', 't', 'V', 'i', 'p', 'y', ' ', 'n', 'P', 'r', 'l', 'o', 'h'}\n"
     ]
    }
   ],
   "source": [
    "# set ler sıralı değillerdir\n",
    "metin = 'Python Veri Tipleri'\n",
    "print(set(metin))"
   ]
  },
  {
   "cell_type": "markdown",
   "id": "b7971584-3f5d-4142-b228-87ba13ba291c",
   "metadata": {},
   "source": [
    "**Set Methodları**"
   ]
  },
  {
   "cell_type": "markdown",
   "id": "7e3f3d0c-0b9b-4630-bff8-58f7b35b7e8e",
   "metadata": {},
   "source": [
    "Kesişim(intersection)"
   ]
  },
  {
   "cell_type": "code",
   "execution_count": 24,
   "id": "13ecf630-9863-49a4-bc7d-73604abf3a90",
   "metadata": {
    "tags": []
   },
   "outputs": [
    {
     "data": {
      "text/plain": [
       "{'A', 'B'}"
      ]
     },
     "execution_count": 24,
     "metadata": {},
     "output_type": "execute_result"
    }
   ],
   "source": [
    "notlar = {'A','B','C','A','C'}\n",
    "dereceler = {'A','L','T','B','F'}\n",
    "\n",
    "notlar.intersection(dereceler)"
   ]
  },
  {
   "cell_type": "code",
   "execution_count": 28,
   "id": "76a0cc8c-f7f4-48ae-87a9-4d2db1b10d25",
   "metadata": {
    "tags": []
   },
   "outputs": [
    {
     "data": {
      "text/plain": [
       "{'A', 'B', 'C', 'F', 'L', 'T'}"
      ]
     },
     "execution_count": 28,
     "metadata": {},
     "output_type": "execute_result"
    }
   ],
   "source": [
    "# Birleşim .union()\n",
    "notlar.union(dereceler)"
   ]
  },
  {
   "cell_type": "code",
   "execution_count": 34,
   "id": "92b1ae00-c945-463c-a63a-215e36a8657c",
   "metadata": {
    "tags": []
   },
   "outputs": [
    {
     "data": {
      "text/plain": [
       "{'C'}"
      ]
     },
     "execution_count": 34,
     "metadata": {},
     "output_type": "execute_result"
    }
   ],
   "source": [
    "# fark .difference()\n",
    "notlar.difference(dereceler)\n"
   ]
  },
  {
   "cell_type": "code",
   "execution_count": 36,
   "id": "be851a5b-2c9d-4f0f-bd58-8a99bb8f749f",
   "metadata": {
    "tags": []
   },
   "outputs": [
    {
     "data": {
      "text/plain": [
       "{'F', 'L', 'T'}"
      ]
     },
     "execution_count": 36,
     "metadata": {},
     "output_type": "execute_result"
    }
   ],
   "source": [
    "dereceler.difference(notlar)"
   ]
  },
  {
   "cell_type": "code",
   "execution_count": 38,
   "id": "627e9c61-ee2d-4217-8d0f-7ba0c318b87d",
   "metadata": {
    "tags": []
   },
   "outputs": [
    {
     "data": {
      "text/plain": [
       "True"
      ]
     },
     "execution_count": 38,
     "metadata": {},
     "output_type": "execute_result"
    }
   ],
   "source": [
    "# alt küme .issubset() \n",
    "{'A','C'}.issubset(notlar)"
   ]
  },
  {
   "cell_type": "markdown",
   "id": "c763b88a-84ba-4cbd-b5ec-b13993b9c6b9",
   "metadata": {},
   "source": [
    "**Setlerde eleman ve atama işlemleri**"
   ]
  },
  {
   "cell_type": "code",
   "execution_count": 62,
   "id": "4e3a5323-8ae1-4947-95a8-36eaa5645f49",
   "metadata": {
    "tags": []
   },
   "outputs": [
    {
     "data": {
      "text/plain": [
       "{'A', 'B', 'C'}"
      ]
     },
     "execution_count": 62,
     "metadata": {},
     "output_type": "execute_result"
    }
   ],
   "source": [
    "notlar = ['A','B','A','C','B','C']\n",
    "notlar = set(notlar)\n",
    "notlar"
   ]
  },
  {
   "cell_type": "code",
   "execution_count": 64,
   "id": "d4307c91-4732-4f0c-b2bf-d95cac87a582",
   "metadata": {
    "tags": []
   },
   "outputs": [
    {
     "data": {
      "text/plain": [
       "{'A', 'B', 'C', 'f'}"
      ]
     },
     "execution_count": 64,
     "metadata": {},
     "output_type": "execute_result"
    }
   ],
   "source": [
    "# eleman ekleme\n",
    "notlar.add('f')\n",
    "notlar"
   ]
  },
  {
   "cell_type": "code",
   "execution_count": 66,
   "id": "1242b7f4-d05d-4daa-82eb-aad1b14952fe",
   "metadata": {
    "tags": []
   },
   "outputs": [
    {
     "data": {
      "text/plain": [
       "{'A', 'B', 'C', 'D', 'f'}"
      ]
     },
     "execution_count": 66,
     "metadata": {},
     "output_type": "execute_result"
    }
   ],
   "source": [
    "notlar.add('D')\n",
    "notlar"
   ]
  },
  {
   "cell_type": "code",
   "execution_count": 79,
   "id": "d0dc0b2e-2c2c-4283-9bb0-caa41e8fe75f",
   "metadata": {
    "tags": []
   },
   "outputs": [
    {
     "data": {
      "text/plain": [
       "{'armut', 'elma', 'kiraz'}"
      ]
     },
     "execution_count": 79,
     "metadata": {},
     "output_type": "execute_result"
    }
   ],
   "source": [
    "meyveler = {'elma','armut','kiraz'}\n",
    "meyveler"
   ]
  },
  {
   "cell_type": "code",
   "execution_count": 87,
   "id": "e46fe0d7-b27b-4e28-ab1a-435089bd5b5f",
   "metadata": {
    "tags": []
   },
   "outputs": [
    {
     "data": {
      "text/plain": [
       "{'a', 'armut', 'elma', 'k', 'kiraz', 'p', 'r', 'u', 'z'}"
      ]
     },
     "execution_count": 87,
     "metadata": {},
     "output_type": "execute_result"
    }
   ],
   "source": [
    "# update()\n",
    "meyveler.update('karpuz')\n",
    "meyveler"
   ]
  },
  {
   "cell_type": "code",
   "execution_count": 93,
   "id": "c69681e7-8c14-428a-a9fd-9a1bc62254e4",
   "metadata": {
    "tags": []
   },
   "outputs": [
    {
     "data": {
      "text/plain": [
       "{'a', 'armut', 'elma', 'erik', 'k', 'kiraz', 'muz', 'p', 'r', 'u', 'z'}"
      ]
     },
     "execution_count": 93,
     "metadata": {},
     "output_type": "execute_result"
    }
   ],
   "source": [
    "# birden fazla değeri kümemize ekleyebiliriz. update()\n",
    "daha_cok_meyve = ['erik','muz']\n",
    "meyveler.update(daha_cok_meyve)\n",
    "meyveler"
   ]
  },
  {
   "cell_type": "markdown",
   "id": "40ee3332-94a6-471e-b9c0-4b5599dfca66",
   "metadata": {},
   "source": [
    "**setlerden eleman çıkarmak**"
   ]
  },
  {
   "cell_type": "code",
   "execution_count": 69,
   "id": "944e3de5-beb1-46a2-8448-7d49afdfe071",
   "metadata": {
    "tags": []
   },
   "outputs": [
    {
     "data": {
      "text/plain": [
       "{'A', 'B', 'C', 'D', 'f'}"
      ]
     },
     "execution_count": 69,
     "metadata": {},
     "output_type": "execute_result"
    }
   ],
   "source": [
    "notlar"
   ]
  },
  {
   "cell_type": "code",
   "execution_count": 71,
   "id": "00873607-bd1f-4348-8205-eaae7905bd91",
   "metadata": {
    "tags": []
   },
   "outputs": [
    {
     "data": {
      "text/plain": [
       "'D'"
      ]
     },
     "execution_count": 71,
     "metadata": {},
     "output_type": "execute_result"
    }
   ],
   "source": [
    "# rastgele siler\n",
    "notlar.pop()"
   ]
  },
  {
   "cell_type": "code",
   "execution_count": 73,
   "id": "9732a0b7-c35c-4ddc-b008-2ce6fbdb04ff",
   "metadata": {
    "tags": []
   },
   "outputs": [],
   "source": [
    "# belirli bir değer silmek için\n",
    "notlar.remove('B')"
   ]
  },
  {
   "cell_type": "code",
   "execution_count": 91,
   "id": "e6aa686a-2b8c-45be-842a-c90de0a9f87b",
   "metadata": {
    "tags": []
   },
   "outputs": [
    {
     "data": {
      "text/plain": [
       "{'A', 'C', 'f'}"
      ]
     },
     "execution_count": 91,
     "metadata": {},
     "output_type": "execute_result"
    }
   ],
   "source": [
    "notlar"
   ]
  },
  {
   "cell_type": "markdown",
   "id": "caefb104-48b7-4fd3-96d2-7e386f39c26b",
   "metadata": {
    "tags": []
   },
   "source": [
    "**Setlerde Atama**"
   ]
  },
  {
   "cell_type": "code",
   "execution_count": 98,
   "id": "746f968e-6db7-4a6e-9a3a-2562fde68f63",
   "metadata": {
    "tags": []
   },
   "outputs": [
    {
     "data": {
      "text/plain": [
       "{2, 5, 7, 'yenideger'}"
      ]
     },
     "execution_count": 98,
     "metadata": {},
     "output_type": "execute_result"
    }
   ],
   "source": [
    "a = {2,5,7}\n",
    "\n",
    "b = a\n",
    "\n",
    "b.add('yenideger')\n",
    "a"
   ]
  },
  {
   "cell_type": "code",
   "execution_count": 100,
   "id": "82c92625-3719-4168-9f31-c0ef73012287",
   "metadata": {
    "tags": []
   },
   "outputs": [
    {
     "data": {
      "text/plain": [
       "{2, 5, 7, 'yenideger'}"
      ]
     },
     "execution_count": 100,
     "metadata": {},
     "output_type": "execute_result"
    }
   ],
   "source": [
    "b"
   ]
  },
  {
   "cell_type": "code",
   "execution_count": 102,
   "id": "4e80ee8c-ca0b-4a81-9588-e7ca96e14132",
   "metadata": {
    "tags": []
   },
   "outputs": [
    {
     "data": {
      "text/plain": [
       "True"
      ]
     },
     "execution_count": 102,
     "metadata": {},
     "output_type": "execute_result"
    }
   ],
   "source": [
    "a is b"
   ]
  },
  {
   "cell_type": "code",
   "execution_count": null,
   "id": "147baf67-8438-4e59-a8c5-13b0bb2358c7",
   "metadata": {},
   "outputs": [],
   "source": []
  }
 ],
 "metadata": {
  "kernelspec": {
   "display_name": "Python 3 (ipykernel)",
   "language": "python",
   "name": "python3"
  },
  "language_info": {
   "codemirror_mode": {
    "name": "ipython",
    "version": 3
   },
   "file_extension": ".py",
   "mimetype": "text/x-python",
   "name": "python",
   "nbconvert_exporter": "python",
   "pygments_lexer": "ipython3",
   "version": "3.11.7"
  }
 },
 "nbformat": 4,
 "nbformat_minor": 5
}
