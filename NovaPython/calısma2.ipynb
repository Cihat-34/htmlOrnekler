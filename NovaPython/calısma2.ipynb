{
 "cells": [
  {
   "cell_type": "code",
   "execution_count": 38,
   "id": "a73adb0f-2f85-4e9a-90b2-50d3196b5b54",
   "metadata": {
    "tags": []
   },
   "outputs": [
    {
     "name": "stdout",
     "output_type": "stream",
     "text": [
      "ortak karakterler ve konumlar\n",
      "karakter:z\n",
      "Dosya1 konumları:[1]\n",
      "Dosya2 konumları:[4]\n",
      "karakter:t\n",
      "Dosya1 konumları:[3]\n",
      "Dosya2 konumları:[2]\n"
     ]
    }
   ],
   "source": [
    "def dosya_oku(dosya_adı):\n",
    "    with open(dosya_adı,'r',encoding = 'utf-8')as dosya:\n",
    "        return dosya.read().strip()\n",
    "\n",
    "def karakter_koordinatlarını_bul(dosya1_içeriği,dosya2_içeriği):\n",
    "    dosya1_koordinatlar = {}\n",
    "    dosya2_koordinatlar = {}\n",
    "    \n",
    "    for indeks,karakter in enumerate(dosya1_içeriği):\n",
    "        \n",
    "        if karakter not in dosya1_koordinatlar:\n",
    "            dosya1_koordinatlar[karakter] = []\n",
    "        dosya1_koordinatlar[karakter].append(indeks)\n",
    "    \n",
    "    for indeks,karakter in enumerate(dosya2_içeriği):\n",
    "        \n",
    "        if karakter not in dosya2_koordinatlar:\n",
    "            dosya2_koordinatlar[karakter] = []\n",
    "        dosya2_koordinatlar[karakter].append(indeks)\n",
    "\n",
    "    ortak_koordinatlar = {}\n",
    "    \n",
    "    for karakter in dosya1_koordinatlar:\n",
    "        if karakter in dosya2_koordinatlar:\n",
    "            ortak_koordinatlar[karakter] = {\n",
    "                'Dosya1_koordinatları': dosya1_koordinatlar[karakter],\n",
    "                'Dosya2_koordinatları': dosya2_koordinatlar[karakter]\n",
    "            }\n",
    "    return ortak_koordinatlar\n",
    "\n",
    "\n",
    "\n",
    "def ana():\n",
    "    dosya1 = 'Dosya1.txt'\n",
    "    dosya2 = 'Dosya2.txt'\n",
    "\n",
    "    \n",
    "    dosya_icerigi1 = dosya_oku(dosya1)\n",
    "    dosya_icerigi2 = dosya_oku(dosya2)\n",
    "    \n",
    "    ortakkordinatlar = karakter_koordinatlarını_bul(dosya_icerigi1,dosya_icerigi2)\n",
    "    \n",
    "    if ortakkordinatlar:\n",
    "        print(\"ortak karakterler ve konumlar\")\n",
    "        for karakter , koordinat in ortakkordinatlar.items():\n",
    "            print(f\"karakter:{karakter}\")\n",
    "            print(f\"Dosya1 konumları:{koordinat['Dosya1_koordinatları']}\")\n",
    "            print(f\"Dosya2 konumları:{koordinat['Dosya2_koordinatları']}\")\n",
    "        \n",
    "\n",
    "    else:\n",
    "        print(\"ortak yok\")\n",
    "\n",
    "if __name__ == '__main__':\n",
    "    ana()"
   ]
  },
  {
   "cell_type": "code",
   "execution_count": 54,
   "id": "ac57f300-f68c-47bd-b6d8-fe55c0cea58a",
   "metadata": {
    "tags": []
   },
   "outputs": [
    {
     "name": "stdin",
     "output_type": "stream",
     "text": [
      "sayı gir 153\n"
     ]
    },
    {
     "name": "stdout",
     "output_type": "stream",
     "text": [
      "birler:  3\n",
      "onlar:  5\n",
      "yüzler:  1\n",
      "kendine guvenen sayılar\n"
     ]
    }
   ],
   "source": [
    "sayi = int(input(\"sayı gir\"))\n",
    "\n",
    "bolum = sayi%100\n",
    "bolum2 = bolum%10\n",
    "print(\"birler: \",bolum2)    \n",
    "bolum3 = bolum//10\n",
    "print(\"onlar: \",bolum3)\n",
    "bolum4 = sayi//100\n",
    "print(\"yüzler: \",bolum4)\n",
    "\n",
    "if sayi == ((bolum4*bolum4*bolum4)+(bolum3*bolum3*bolum3)+(bolum2*bolum2*bolum2)):\n",
    "    print(\"kendine guvenen sayılar\")\n",
    "else:\n",
    "    print(\"kendine guvenen sayılar değil\")"
   ]
  },
  {
   "cell_type": "code",
   "execution_count": 4,
   "id": "b1998ece-b750-4a06-ac8e-adc8c9fae374",
   "metadata": {},
   "outputs": [
    {
     "name": "stdout",
     "output_type": "stream",
     "text": [
      "1) Şifrele\n",
      "2) Çöz\n",
      "3) Çıkış\n"
     ]
    },
    {
     "name": "stdin",
     "output_type": "stream",
     "text": [
      "Yapacağınız işlem numarasını girin:  3\n"
     ]
    },
    {
     "name": "stdout",
     "output_type": "stream",
     "text": [
      "Çıkış yapılıyor...\n"
     ]
    }
   ],
   "source": [
    "##Chatgpt çözümü\n",
    "\n",
    "def caesar_sifrele(metin, kaydirma):\n",
    "    sifreli_metin = []\n",
    "    kaydirma = kaydirma % 26  # Kaydırma miktarını 26 ile sınırlayın\n",
    "    for karakter in metin:\n",
    "        if karakter.isalpha():\n",
    "            # Karakterin hangi alfabe grubuna ait olduğunu kontrol edin\n",
    "            offset = ord('A') if karakter.isupper() else ord('a')\n",
    "            sifreli_karakter = chr((ord(karakter) - offset + kaydirma) % 26 + offset)\n",
    "            sifreli_metin.append(sifreli_karakter)\n",
    "        else:\n",
    "            sifreli_metin.append(karakter)\n",
    "    return ''.join(sifreli_metin)\n",
    "\n",
    "def caesar_coz(metin, kaydirma):\n",
    "    # Şifreleme işlemine kıyasla kaydırma miktarını tersine çevirir\n",
    "    return caesar_sifrele(metin, -kaydirma)\n",
    "\n",
    "                \n",
    "while True:\n",
    "    print(\"1) Şifrele\")\n",
    "    print(\"2) Çöz\")\n",
    "    print(\"3) Çıkış\")\n",
    "    \n",
    "    secim = int(input(\"Yapacağınız işlem numarasını girin: \"))\n",
    "    \n",
    "    if secim == 1:\n",
    "        metin = input(\"Şifrelemek istediğiniz metni giriniz: \")\n",
    "        kaydirma = int(input(\"Kaydırma miktarını giriniz (ör: 3 vb.): \"))\n",
    "        sifreli_metin = caesar_sifrele(metin, kaydirma)\n",
    "        print(\"Şifreli Metin: \", sifreli_metin)\n",
    "        \n",
    "    elif secim == 2:\n",
    "        metin = input(\"Çözmek istediğiniz şifreli metni giriniz: \")\n",
    "        kaydirma = int(input(\"Kaydırma miktarını giriniz (ör: 3 vb.): \"))\n",
    "        cozulmus_metin = caesar_coz(metin, kaydirma)\n",
    "        print(\"Çözülmüş Metin: \", cozulmus_metin)\n",
    "        \n",
    "    elif secim == 3:\n",
    "        print(\"Çıkış yapılıyor...\")\n",
    "        break\n",
    "        \n",
    "    else:\n",
    "        print(\"Geçersiz seçenek. Lütfen tekrar deneyin.\")"
   ]
  },
  {
   "cell_type": "code",
   "execution_count": 23,
   "id": "7d0e1916-2050-466e-bac0-90560186482f",
   "metadata": {
    "tags": []
   },
   "outputs": [
    {
     "name": "stdout",
     "output_type": "stream",
     "text": [
      "**************Sezar Şifreleme Algoritması****************\n",
      "1) Şifreleme\n",
      "2) Çözme\n",
      "3) Çıkış\n"
     ]
    },
    {
     "name": "stdin",
     "output_type": "stream",
     "text": [
      "Yapacağınız işlem numarasını girin:  3\n"
     ]
    },
    {
     "name": "stdout",
     "output_type": "stream",
     "text": [
      "Çıkış yapılıyor...\n"
     ]
    }
   ],
   "source": [
    "print(\"**************Sezar Şifreleme Algoritması****************\")\n",
    "\n",
    "print(\"1) Şifreleme\")\n",
    "print(\"2) Çözme\")\n",
    "print(\"3) Çıkış\")\n",
    "\n",
    "while True:\n",
    "    secim = int(input(\"Yapacağınız işlem numarasını girin: \"))\n",
    "    \n",
    "    if secim == 1:\n",
    "        metin = input(\"Şifrelemek istediğiniz metni giriniz: \")\n",
    "        kaydirma = int(input(\"Kaydırma miktarını giriniz (ör: 3 vb.): \"))\n",
    "        \n",
    "        sifreli_metin = []\n",
    "        kaydirma_egik = kaydirma % 26\n",
    "        for karakter in metin:\n",
    "            if karakter.isalpha():\n",
    "                base = ord('a') if karakter.islower() else ord('A')\n",
    "                sifreli_karakter = chr((ord(karakter) - base + kaydirma_egik) % 26 + base)\n",
    "                sifreli_metin.append(sifreli_karakter)\n",
    "            else:\n",
    "                sifreli_metin.append(karakter)\n",
    "        \n",
    "        print(\"Şifreli Metin: \", ''.join(sifreli_metin))\n",
    "    \n",
    "    elif secim == 2:\n",
    "        metin = input(\"Çözülcek olan metni giriniz: \")\n",
    "        kaydirma = int(input(\"Kaydırma miktarını giriniz (ör: 3 vb.): \"))\n",
    "        \n",
    "        cozulmus_metin = []\n",
    "        kaydirma_egik = kaydirma % 26\n",
    "        for karakter in metin:\n",
    "            if karakter.isalpha():\n",
    "                base = ord('a') if karakter.islower() else ord('A')\n",
    "                cozulmus_karakter = chr((ord(karakter) - base - kaydirma_egik) % 26 + base)\n",
    "                cozulmus_metin.append(cozulmus_karakter)\n",
    "            else:\n",
    "                cozulmus_metin.append(karakter)\n",
    "        \n",
    "        print(\"Çözülmüş Metin: \", ''.join(cozulmus_metin))\n",
    "    \n",
    "    elif secim == 3:\n",
    "        print(\"Çıkış yapılıyor...\")\n",
    "        break\n",
    "    \n",
    "    else:\n",
    "        print(\"Geçersiz seçenek. Lütfen tekrar deneyin.\")"
   ]
  },
  {
   "cell_type": "code",
   "execution_count": 27,
   "id": "e9ae5a8e-9d4f-4a51-90a2-170f9d412839",
   "metadata": {
    "tags": []
   },
   "outputs": [
    {
     "name": "stdout",
     "output_type": "stream",
     "text": [
      "\n",
      "**************Sözlük Programı**************\n",
      "1) Kelime Ekle\n",
      "2) Kelime Anlamını Göster\n",
      "3) Sözlüğü Göster\n",
      "4) Çıkış\n"
     ]
    },
    {
     "name": "stdin",
     "output_type": "stream",
     "text": [
      "Yapacağınız işlem numarasını girin:  4\n"
     ]
    },
    {
     "name": "stdout",
     "output_type": "stream",
     "text": [
      "Çıkış yapılıyor...\n"
     ]
    }
   ],
   "source": [
    "## chatgpt kodu\n",
    "# Kelimeleri ve anlamlarını saklamak için bir sözlük oluşturuyoruz\n",
    "sozluk = {}\n",
    "\n",
    "def kelime_ekle(kelime, anlama):\n",
    "    sozluk[kelime] = anlama\n",
    "    print(f\"'{kelime}' kelimesi ve anlamı sözlüğe eklendi.\")\n",
    "\n",
    "def anlam_goster(kelime):\n",
    "    if kelime in sozluk:\n",
    "        print(f\"'{kelime}' kelimesinin anlamı: {sozluk[kelime]}\")\n",
    "    else:\n",
    "        print(f\"'{kelime}' kelimesi sözlükte bulunamadı.\")\n",
    "\n",
    "def sozluk_goster():\n",
    "    if sozluk:\n",
    "        print(\"Sözlük:\")\n",
    "        for kelime, anlama in sozluk.items():\n",
    "            print(f\"'{kelime}': {anlama}\")\n",
    "    else:\n",
    "        print(\"Sözlük boş.\")\n",
    "\n",
    "def ana_menu():\n",
    "    while True:\n",
    "        print(\"\\n**************Sözlük Programı**************\")\n",
    "        print(\"1) Kelime Ekle\")\n",
    "        print(\"2) Kelime Anlamını Göster\")\n",
    "        print(\"3) Sözlüğü Göster\")\n",
    "        print(\"4) Çıkış\")\n",
    "        \n",
    "        secim = int(input(\"Yapacağınız işlem numarasını girin: \"))\n",
    "        \n",
    "        if secim == 1:\n",
    "            kelime = input(\"Eklemek istediğiniz kelimeyi giriniz: \")\n",
    "            anlama = input(f\"'{kelime}' kelimesinin anlamını giriniz: \")\n",
    "            kelime_ekle(kelime, anlama)\n",
    "        \n",
    "        elif secim == 2:\n",
    "            kelime = input(\"Anlamını öğrenmek istediğiniz kelimeyi giriniz: \")\n",
    "            anlam_goster(kelime)\n",
    "        \n",
    "        elif secim == 3:\n",
    "            sozluk_goster()\n",
    "        \n",
    "        elif secim == 4:\n",
    "            print(\"Çıkış yapılıyor...\")\n",
    "            break\n",
    "        \n",
    "        else:\n",
    "            print(\"Geçersiz seçenek. Lütfen tekrar deneyin.\")\n",
    "\n",
    "if __name__ == \"__main__\":\n",
    "    ana_menu()\n",
    " "
   ]
  },
  {
   "cell_type": "code",
   "execution_count": 37,
   "id": "36f3efce-a4f9-44a7-a82c-1e2a8cff4e63",
   "metadata": {
    "tags": []
   },
   "outputs": [
    {
     "name": "stdout",
     "output_type": "stream",
     "text": [
      "dil öğrenme programı\n",
      "1) Kelime ekle\n",
      "2) Kelime testi\n",
      "3) Cümle kurma\n",
      "4) Çıkış\n"
     ]
    },
    {
     "name": "stdin",
     "output_type": "stream",
     "text": [
      "Bir seçenek girin (1/2/3/4) 4\n"
     ]
    }
   ],
   "source": [
    "kelimeler = {}\n",
    "\n",
    "print(\"dil öğrenme programı\")\n",
    "print(\"1) Kelime ekle\")\n",
    "print(\"2) Kelime testi\")\n",
    "print(\"3) Cümle kurma\")\n",
    "print(\"4) Çıkış\")\n",
    "\n",
    "while True:\n",
    "    secim = int(input(\"Bir seçenek girin (1/2/3/4)\"))\n",
    "    \n",
    "    if secim == 1:\n",
    "        kelime = input(\"eklenek istediğiniz kelimeyi girin\").strip()\n",
    "        anlam = input(\"Anlamını girin\").strip()\n",
    "        kelimeler[kelime] = anlam\n",
    "        print(f\"{kelime} eklendi\")\n",
    "        \n",
    "    elif secim == 2:\n",
    "        if not kelimeler:\n",
    "            print(\"Önce kelime eklemelisiniz\")\n",
    "            continue\n",
    "            \n",
    "        print(\"Kelime oyununa hoşgeldiniz\")\n",
    "        for kelime,anlam in kelimeler.items():\n",
    "            cevap = input(f\"{anlam}: \").strip()\n",
    "            if cevap.lower() == kelime.lower():\n",
    "                print(\"Doğru\")\n",
    "            else:\n",
    "                print(\"Yanlış\")\n",
    "        \n",
    "    \n",
    "    elif secim == 3:\n",
    "        if not kelimeler:\n",
    "            print(\"önce bir kelime eklemelisin\")\n",
    "        \n",
    "        print(\"Cümle kurma\")\n",
    "        kelimeler_listesi = list[kelimeler.keys()]\n",
    "        print(f\"{kelimeler_listesi} cümle\")\n",
    "        \n",
    "    if secim >= 4:\n",
    "        break"
   ]
  },
  {
   "cell_type": "code",
   "execution_count": null,
   "id": "5d5e0865-b3ca-4601-81d7-592328f36e68",
   "metadata": {
    "tags": []
   },
   "outputs": [
    {
     "name": "stdout",
     "output_type": "stream",
     "text": [
      "******KULLANICI REHBER UYGULAMASI******\n",
      "1) bilgi ekle\n",
      "2) bilgi güncelle\n",
      "3) bilgi görüntüle\n",
      "4) çıkış\n"
     ]
    },
    {
     "name": "stdin",
     "output_type": "stream",
     "text": [
      "işlem numarası giriniz(1/2/3/4) 2\n"
     ]
    }
   ],
   "source": [
    "file_path = 'kullanıcı_rehberi.txt'\n",
    "print(\"******KULLANICI REHBER UYGULAMASI******\")\n",
    "print(\"1) bilgi ekle\")\n",
    "print(\"2) bilgi güncelle\")\n",
    "print(\"3) bilgi görüntüle\")\n",
    "print(\"4) çıkış\")\n",
    "\n",
    "while True:\n",
    "    secim = int(input(\"işlem numarası giriniz(1/2/3/4)\"))\n",
    "    if secim == 1:\n",
    "        isim = input(\"isim girin\")\n",
    "        yas = int(input(\"Yaş giriniz\"))\n",
    "        eposta = input(\"E-posta giriniz \")\n",
    "        with open(file_path,'a',encoding = 'utf-8')as dosya:\n",
    "            dosya.write(f\"{isim} : {yas} : {eposta}\")\n",
    "            \n",
    "        print(f\"{isim} kişisi eklendi\")\n",
    "        \n",
    "    elif secim == 2:\n",
    "        isim_guncelle = input(\"güncellemek istediğiniz kişinin adını giriniz\")\n",
    "        bigiler = []\n",
    "        try:\n",
    "            with open(file_path,'r',encoding = 'utf-8')as dosya:\n",
    "                bilgiler = dosya.readlines()\n",
    "            \n",
    "        except FileNotFoundError:\n",
    "            print(\"dosya bulunamadı\")\n",
    "            continue\n",
    "        \n",
    "        bilgi_guncelleme = False\n",
    "        with open(file_path,'w',encoding = 'utf-8')as dosya:\n",
    "            for bilgi in bilgiler:\n",
    "                if bilgi.startswith(isim_guncelle):\n",
    "                    isim = input(\"adınızı girin\")\n",
    "                    yas = int(input(\"Yaş giriniz\"))\n",
    "                    eposta = input(\"E-posta giriniz \")\n",
    "                    dosya.write(f\"{isim} : {yas} : {eposta}\")\n",
    "                    bilgi_guncelleme = True\n",
    "                \n",
    "                else:\n",
    "                    dosya.write(bilgi)\n",
    "                    \n",
    "                    \n",
    "        if bilgi_guncelleme:\n",
    "            print(\"isim güncellendi\")\n",
    "            \n",
    "        else:\n",
    "            print(\"Bulunamadı\")\n",
    "                \n",
    "    elif secim >= 4:\n",
    "        break\n",
    "        "
   ]
  },
  {
   "cell_type": "code",
   "execution_count": null,
   "id": "d5a279ef-c02a-475e-bacb-d04d090e9767",
   "metadata": {},
   "outputs": [],
   "source": []
  }
 ],
 "metadata": {
  "kernelspec": {
   "display_name": "Python 3 (ipykernel)",
   "language": "python",
   "name": "python3"
  },
  "language_info": {
   "codemirror_mode": {
    "name": "ipython",
    "version": 3
   },
   "file_extension": ".py",
   "mimetype": "text/x-python",
   "name": "python",
   "nbconvert_exporter": "python",
   "pygments_lexer": "ipython3",
   "version": "3.11.7"
  }
 },
 "nbformat": 4,
 "nbformat_minor": 5
}
